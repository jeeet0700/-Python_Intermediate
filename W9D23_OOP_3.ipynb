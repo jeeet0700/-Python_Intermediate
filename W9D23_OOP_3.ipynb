{
  "nbformat": 4,
  "nbformat_minor": 0,
  "metadata": {
    "colab": {
      "name": "W9D23_OOP_3.ipynb",
      "provenance": [],
      "authorship_tag": "ABX9TyOREnd8gha9pEBdsAgXpmSQ",
      "include_colab_link": true
    },
    "kernelspec": {
      "name": "python3",
      "display_name": "Python 3"
    },
    "language_info": {
      "name": "python"
    }
  },
  "cells": [
    {
      "cell_type": "markdown",
      "metadata": {
        "id": "view-in-github",
        "colab_type": "text"
      },
      "source": [
        "<a href=\"https://colab.research.google.com/github/jeeet0700/Python_Intermediate/blob/main/W9D23_OOP_3.ipynb\" target=\"_parent\"><img src=\"https://colab.research.google.com/assets/colab-badge.svg\" alt=\"Open In Colab\"/></a>"
      ]
    },
    {
      "cell_type": "code",
      "source": [
        "class Account:\n",
        "  counter=0\n",
        "  def __init__(self,openingbal=0):\n",
        "    counter +=1\n",
        "    self.id=counter\n",
        "    self.bal=openingbal\n",
        "\n",
        "  def __str__(self):\n",
        "    return f\"Account {self.id} has Rs. {self.bal}\"\n",
        "\n",
        "a1=Account(100)\n",
        "a2=Account()\n",
        "print(a1)\n",
        "print(a2)"
      ],
      "metadata": {
        "colab": {
          "base_uri": "https://localhost:8080/",
          "height": 357
        },
        "id": "qzph6GRsg0Lr",
        "outputId": "07fb9c07-c260-4d34-eb2c-af737232f3d9"
      },
      "execution_count": 2,
      "outputs": [
        {
          "output_type": "error",
          "ename": "UnboundLocalError",
          "evalue": "ignored",
          "traceback": [
            "\u001b[0;31m---------------------------------------------------------------------------\u001b[0m",
            "\u001b[0;31mUnboundLocalError\u001b[0m                         Traceback (most recent call last)",
            "\u001b[0;32m<ipython-input-2-7ae85067b0c4>\u001b[0m in \u001b[0;36m<module>\u001b[0;34m()\u001b[0m\n\u001b[1;32m      9\u001b[0m     \u001b[0;32mreturn\u001b[0m \u001b[0;34mf\"Account {self.id} has Rs. {self.bal}\"\u001b[0m\u001b[0;34m\u001b[0m\u001b[0;34m\u001b[0m\u001b[0m\n\u001b[1;32m     10\u001b[0m \u001b[0;34m\u001b[0m\u001b[0m\n\u001b[0;32m---> 11\u001b[0;31m \u001b[0ma1\u001b[0m\u001b[0;34m=\u001b[0m\u001b[0mAccount\u001b[0m\u001b[0;34m(\u001b[0m\u001b[0;36m100\u001b[0m\u001b[0;34m)\u001b[0m\u001b[0;34m\u001b[0m\u001b[0;34m\u001b[0m\u001b[0m\n\u001b[0m\u001b[1;32m     12\u001b[0m \u001b[0ma2\u001b[0m\u001b[0;34m=\u001b[0m\u001b[0mAccount\u001b[0m\u001b[0;34m(\u001b[0m\u001b[0;34m)\u001b[0m\u001b[0;34m\u001b[0m\u001b[0;34m\u001b[0m\u001b[0m\n\u001b[1;32m     13\u001b[0m \u001b[0mprint\u001b[0m\u001b[0;34m(\u001b[0m\u001b[0ma1\u001b[0m\u001b[0;34m)\u001b[0m\u001b[0;34m\u001b[0m\u001b[0;34m\u001b[0m\u001b[0m\n",
            "\u001b[0;32m<ipython-input-2-7ae85067b0c4>\u001b[0m in \u001b[0;36m__init__\u001b[0;34m(self, openingbal)\u001b[0m\n\u001b[1;32m      2\u001b[0m   \u001b[0mcounter\u001b[0m\u001b[0;34m=\u001b[0m\u001b[0;36m0\u001b[0m\u001b[0;34m\u001b[0m\u001b[0;34m\u001b[0m\u001b[0m\n\u001b[1;32m      3\u001b[0m   \u001b[0;32mdef\u001b[0m \u001b[0m__init__\u001b[0m\u001b[0;34m(\u001b[0m\u001b[0mself\u001b[0m\u001b[0;34m,\u001b[0m\u001b[0mopeningbal\u001b[0m\u001b[0;34m=\u001b[0m\u001b[0;36m0\u001b[0m\u001b[0;34m)\u001b[0m\u001b[0;34m:\u001b[0m\u001b[0;34m\u001b[0m\u001b[0;34m\u001b[0m\u001b[0m\n\u001b[0;32m----> 4\u001b[0;31m     \u001b[0mcounter\u001b[0m \u001b[0;34m+=\u001b[0m\u001b[0;36m1\u001b[0m\u001b[0;34m\u001b[0m\u001b[0;34m\u001b[0m\u001b[0m\n\u001b[0m\u001b[1;32m      5\u001b[0m     \u001b[0mself\u001b[0m\u001b[0;34m.\u001b[0m\u001b[0mid\u001b[0m\u001b[0;34m=\u001b[0m\u001b[0mcounter\u001b[0m\u001b[0;34m\u001b[0m\u001b[0;34m\u001b[0m\u001b[0m\n\u001b[1;32m      6\u001b[0m     \u001b[0mself\u001b[0m\u001b[0;34m.\u001b[0m\u001b[0mbal\u001b[0m\u001b[0;34m=\u001b[0m\u001b[0mopeningbal\u001b[0m\u001b[0;34m\u001b[0m\u001b[0;34m\u001b[0m\u001b[0m\n",
            "\u001b[0;31mUnboundLocalError\u001b[0m: local variable 'counter' referenced before assignment"
          ]
        }
      ]
    },
    {
      "cell_type": "code",
      "execution_count": 1,
      "metadata": {
        "colab": {
          "base_uri": "https://localhost:8080/"
        },
        "id": "XoJazTrlZ2qt",
        "outputId": "449c8fa5-a181-4ce4-882b-cba6e3cf6383"
      },
      "outputs": [
        {
          "output_type": "stream",
          "name": "stdout",
          "text": [
            "Account 1 has Rs. 100\n",
            "Account 2 has Rs. 0\n"
          ]
        }
      ],
      "source": [
        "class Account:\n",
        "  counter=0\n",
        "  def __init__(self,openingbal=0):\n",
        "    Account.counter +=1\n",
        "    self.id=Account.counter\n",
        "    self.bal=openingbal\n",
        "\n",
        "  def __str__(self):\n",
        "    return f\"Account {self.id} has Rs. {self.bal}\"\n",
        "\n",
        "a1=Account(100)\n",
        "a2=Account()\n",
        "print(a1)\n",
        "print(a2)"
      ]
    },
    {
      "cell_type": "code",
      "source": [
        "class Account:\n",
        "  counter=0\n",
        "  def __init__(self,openingbal=0):\n",
        "    Account.counter +=1\n",
        "    self.id=Account.counter\n",
        "    self.bal=openingbal\n",
        "    self.passbook=[]\n",
        "\n",
        "  def __str__(self):\n",
        "    return f\"Account {self.id} has Rs. {self.bal}\"\n",
        "\n",
        "  def deposit(self,amount):\n",
        "    if amount > 0:\n",
        "      self.bal+=amount\n",
        "      self.passbook.append((\"Credited\",amount))\n",
        "\n",
        "  def withdraw(self,amount):\n",
        "    if self.bal > amount and amount >0:\n",
        "      self.bal-=amount\n",
        "      self.passbook.append((\"Debited\",amount))\n",
        "\n",
        "\n",
        "a1=Account(100)\n",
        "a2=Account()\n",
        "print(a1)\n",
        "print(a2)\n",
        "a1.deposit(50)\n",
        "print(a1)\n",
        "a1.passbook\n",
        "a1.withdraw(100)\n",
        "print(a1)\n",
        "a2.withdraw(50)\n",
        "print(a2)\n",
        "a1.passbook"
      ],
      "metadata": {
        "colab": {
          "base_uri": "https://localhost:8080/"
        },
        "id": "wzFvojowhJOB",
        "outputId": "8e413e8c-36e7-49dc-decd-ea49807d61d1"
      },
      "execution_count": 8,
      "outputs": [
        {
          "output_type": "stream",
          "name": "stdout",
          "text": [
            "Account 1 has Rs. 100\n",
            "Account 2 has Rs. 0\n",
            "Account 1 has Rs. 150\n",
            "Account 1 has Rs. 50\n",
            "Account 2 has Rs. 0\n"
          ]
        },
        {
          "output_type": "execute_result",
          "data": {
            "text/plain": [
              "[('Credited', 50), ('Debited', 100)]"
            ]
          },
          "metadata": {},
          "execution_count": 8
        }
      ]
    },
    {
      "cell_type": "code",
      "source": [
        ""
      ],
      "metadata": {
        "id": "O2e7CopyjbGs"
      },
      "execution_count": null,
      "outputs": []
    }
  ]
}