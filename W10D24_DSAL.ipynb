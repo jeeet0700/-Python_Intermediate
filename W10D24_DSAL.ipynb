{
  "nbformat": 4,
  "nbformat_minor": 0,
  "metadata": {
    "colab": {
      "name": "W10D24_DSAL.ipynb",
      "provenance": [],
      "authorship_tag": "ABX9TyMqO9f/cSmS+5M8YUdSzG9X",
      "include_colab_link": true
    },
    "kernelspec": {
      "name": "python3",
      "display_name": "Python 3"
    },
    "language_info": {
      "name": "python"
    }
  },
  "cells": [
    {
      "cell_type": "markdown",
      "metadata": {
        "id": "view-in-github",
        "colab_type": "text"
      },
      "source": [
        "<a href=\"https://colab.research.google.com/github/jeeet0700/Python_Intermediate/blob/main/W10D24_DSAL.ipynb\" target=\"_parent\"><img src=\"https://colab.research.google.com/assets/colab-badge.svg\" alt=\"Open In Colab\"/></a>"
      ]
    },
    {
      "cell_type": "code",
      "source": [
        "def insertionsort(arr):\n",
        "  for j in range(1,len(arr)):\n",
        "    key=arr[j]\n",
        "    i=j-1\n",
        "    while i>=0 and key < arr[i]:\n",
        "      arr[i+1] = arr[i]\n",
        "      print(arr)\n",
        "      i=i-1\n",
        "    arr[i+1]=key"
      ],
      "metadata": {
        "id": "dmjMxUjVNJhb"
      },
      "execution_count": 16,
      "outputs": []
    },
    {
      "cell_type": "code",
      "source": [
        "arr=[8,6,3,9,5,4,1]\n",
        "insertionsort(arr)\n",
        "print(arr)"
      ],
      "metadata": {
        "colab": {
          "base_uri": "https://localhost:8080/"
        },
        "id": "gRuzYAyuxBpf",
        "outputId": "c94b83cc-40b1-4539-88e1-981d552afa9c"
      },
      "execution_count": 17,
      "outputs": [
        {
          "output_type": "stream",
          "name": "stdout",
          "text": [
            "[8, 8, 3, 9, 5, 4, 1]\n",
            "[6, 8, 8, 9, 5, 4, 1]\n",
            "[6, 6, 8, 9, 5, 4, 1]\n",
            "[3, 6, 8, 9, 9, 4, 1]\n",
            "[3, 6, 8, 8, 9, 4, 1]\n",
            "[3, 6, 6, 8, 9, 4, 1]\n",
            "[3, 5, 6, 8, 9, 9, 1]\n",
            "[3, 5, 6, 8, 8, 9, 1]\n",
            "[3, 5, 6, 6, 8, 9, 1]\n",
            "[3, 5, 5, 6, 8, 9, 1]\n",
            "[3, 4, 5, 6, 8, 9, 9]\n",
            "[3, 4, 5, 6, 8, 8, 9]\n",
            "[3, 4, 5, 6, 6, 8, 9]\n",
            "[3, 4, 5, 5, 6, 8, 9]\n",
            "[3, 4, 4, 5, 6, 8, 9]\n",
            "[3, 3, 4, 5, 6, 8, 9]\n",
            "[1, 3, 4, 5, 6, 8, 9]\n"
          ]
        }
      ]
    },
    {
      "cell_type": "code",
      "source": [
        "def insertionsort(arr):\n",
        "  for j in range(1,len(arr)):\n",
        "    key=arr[j]\n",
        "    i=j-1\n",
        "    while i>=0 and key > arr[i]:\n",
        "      arr[i+1] = arr[i]\n",
        "      print(arr)\n",
        "      i=i-1\n",
        "    arr[i+1]=key"
      ],
      "metadata": {
        "id": "veWCCNtcxIIl"
      },
      "execution_count": 1,
      "outputs": []
    },
    {
      "cell_type": "code",
      "source": [
        "arr=[8,6,3,9,5,4,1]\n",
        "insertionsort(arr)\n",
        "print(arr)"
      ],
      "metadata": {
        "colab": {
          "base_uri": "https://localhost:8080/"
        },
        "id": "u7SYB93p7Bol",
        "outputId": "115bec0f-ed48-438e-f03e-b02cd7452556"
      },
      "execution_count": 2,
      "outputs": [
        {
          "output_type": "stream",
          "name": "stdout",
          "text": [
            "[8, 6, 3, 3, 5, 4, 1]\n",
            "[8, 6, 6, 3, 5, 4, 1]\n",
            "[8, 8, 6, 3, 5, 4, 1]\n",
            "[9, 8, 6, 3, 3, 4, 1]\n",
            "[9, 8, 6, 5, 3, 3, 1]\n",
            "[9, 8, 6, 5, 4, 3, 1]\n"
          ]
        }
      ]
    },
    {
      "cell_type": "code",
      "source": [
        "def bubble_sort(arr):\n",
        "  for i in range(len(arr)):\n",
        "    for j in range(0,len(arr)-i-1):\n",
        "      if arr[j]>arr[j+1]:\n",
        "        temp=arr[j]\n",
        "        arr[j]=arr[j+1]\n",
        "        arr[j+1]=temp"
      ],
      "metadata": {
        "id": "VB07Qd5e7CJM"
      },
      "execution_count": 7,
      "outputs": []
    },
    {
      "cell_type": "code",
      "source": [
        "%%time\n",
        "arr=[1,2,3,4,5,6,7]\n",
        "bubble_sort(arr)\n",
        "print(arr)"
      ],
      "metadata": {
        "colab": {
          "base_uri": "https://localhost:8080/"
        },
        "id": "k3AyaJD1_dvF",
        "outputId": "04a75d64-4ae7-4563-ec2c-5a5c7c5f2f2a"
      },
      "execution_count": 16,
      "outputs": [
        {
          "output_type": "stream",
          "name": "stdout",
          "text": [
            "[1, 2, 3, 4, 5, 6, 7]\n",
            "CPU times: user 1.68 ms, sys: 0 ns, total: 1.68 ms\n",
            "Wall time: 1.69 ms\n"
          ]
        }
      ]
    },
    {
      "cell_type": "code",
      "source": [
        "def o_bubble_sort(arr):\n",
        "  for i in range(len(arr)):\n",
        "    flag=False\n",
        "    for j in range(0,len(arr)-i-1):\n",
        "      if arr[j]>arr[j+1]:\n",
        "        temp=arr[j]\n",
        "        arr[j]=arr[j+1]\n",
        "        arr[j+1]=temp\n",
        "        flag=True\n",
        "    if flag==False:\n",
        "      break"
      ],
      "metadata": {
        "id": "4vEqS6Ur_kSV"
      },
      "execution_count": 13,
      "outputs": []
    },
    {
      "cell_type": "code",
      "source": [
        "%%time\n",
        "arr=[1,2,3,4,5,6,7]\n",
        "o_bubble_sort(arr)\n",
        "print(arr)"
      ],
      "metadata": {
        "colab": {
          "base_uri": "https://localhost:8080/"
        },
        "id": "yxpkA7WFEIcc",
        "outputId": "71f875ea-e810-4f09-8d86-e192801d9db7"
      },
      "execution_count": 14,
      "outputs": [
        {
          "output_type": "stream",
          "name": "stdout",
          "text": [
            "[1, 2, 3, 4, 5, 6, 7]\n",
            "CPU times: user 339 µs, sys: 1.15 ms, total: 1.49 ms\n",
            "Wall time: 1.34 ms\n"
          ]
        }
      ]
    },
    {
      "cell_type": "markdown",
      "source": [
        "##PP"
      ],
      "metadata": {
        "id": "GiEO3qZ9PGNv"
      }
    },
    {
      "cell_type": "code",
      "source": [
        "def insertionSort(arr,k):\n",
        "  count=0\n",
        "  for j in range(1,len(arr)):\n",
        "    key=arr[j]\n",
        "    i=j-1\n",
        "    count+=1\n",
        "    while i>=0 and key < arr[i]:\n",
        "      arr[i+1] = arr[i]\n",
        "      i=i-1\n",
        "    arr[i+1]=key\n",
        "    if count==k:\n",
        "      break\n",
        "  n=len(arr)\n",
        "  n=n//2\n",
        "  return arr[n]"
      ],
      "metadata": {
        "id": "PovFmXoBEMTa"
      },
      "execution_count": 38,
      "outputs": []
    },
    {
      "cell_type": "code",
      "source": [
        "arr=[12,11,13,5,6]\n",
        "k=2\n",
        "insertionsort(arr,k)"
      ],
      "metadata": {
        "colab": {
          "base_uri": "https://localhost:8080/"
        },
        "id": "8UFuZO15MW9t",
        "outputId": "2bb9bb44-52f4-4e85-e4cb-32bf409257e0"
      },
      "execution_count": 39,
      "outputs": [
        {
          "output_type": "stream",
          "name": "stdout",
          "text": [
            "[12, 12, 13, 5, 6]\n",
            "1\n",
            "2\n"
          ]
        },
        {
          "output_type": "execute_result",
          "data": {
            "text/plain": [
              "13"
            ]
          },
          "metadata": {},
          "execution_count": 39
        }
      ]
    },
    {
      "cell_type": "code",
      "source": [
        ""
      ],
      "metadata": {
        "id": "umw_GKNFMZg7"
      },
      "execution_count": null,
      "outputs": []
    }
  ]
}