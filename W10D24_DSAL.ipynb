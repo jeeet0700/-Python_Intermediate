{
  "nbformat": 4,
  "nbformat_minor": 0,
  "metadata": {
    "colab": {
      "name": "W10D24_DSAL.ipynb",
      "provenance": [],
      "authorship_tag": "ABX9TyMixVk2hQVwYksedBwOUGW/",
      "include_colab_link": true
    },
    "kernelspec": {
      "name": "python3",
      "display_name": "Python 3"
    },
    "language_info": {
      "name": "python"
    }
  },
  "cells": [
    {
      "cell_type": "markdown",
      "metadata": {
        "id": "view-in-github",
        "colab_type": "text"
      },
      "source": [
        "<a href=\"https://colab.research.google.com/github/jeeet0700/Python_Intermediate/blob/main/W10D24_DSAL.ipynb\" target=\"_parent\"><img src=\"https://colab.research.google.com/assets/colab-badge.svg\" alt=\"Open In Colab\"/></a>"
      ]
    },
    {
      "cell_type": "code",
      "source": [
        "def insertionsort(arr):\n",
        "  for j in range(1,len(arr)):\n",
        "    key=arr[j]\n",
        "    i=j-1\n",
        "    while i>=0 and key < arr[i]:\n",
        "      arr[i+1] = arr[i]\n",
        "      i=i-1\n",
        "    arr[i+1]=key"
      ],
      "metadata": {
        "id": "dmjMxUjVNJhb"
      },
      "execution_count": 8,
      "outputs": []
    },
    {
      "cell_type": "code",
      "source": [
        "arr=[8,6,3,9,5,4,1]\n",
        "insertionsort(arr)\n",
        "print(arr)"
      ],
      "metadata": {
        "colab": {
          "base_uri": "https://localhost:8080/"
        },
        "id": "gRuzYAyuxBpf",
        "outputId": "a4be63c4-2948-47ff-bf4e-f4f1ab20d7a9"
      },
      "execution_count": 9,
      "outputs": [
        {
          "output_type": "stream",
          "name": "stdout",
          "text": [
            "[1, 3, 4, 5, 6, 8, 9]\n"
          ]
        }
      ]
    },
    {
      "cell_type": "code",
      "source": [
        ""
      ],
      "metadata": {
        "id": "veWCCNtcxIIl"
      },
      "execution_count": null,
      "outputs": []
    }
  ]
}