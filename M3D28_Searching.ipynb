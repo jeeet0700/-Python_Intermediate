{
  "nbformat": 4,
  "nbformat_minor": 0,
  "metadata": {
    "colab": {
      "name": "M3D28_Searching.ipynb",
      "provenance": [],
      "authorship_tag": "ABX9TyNQ0wwBjUhv8HS6rA34zdHm",
      "include_colab_link": true
    },
    "kernelspec": {
      "name": "python3",
      "display_name": "Python 3"
    },
    "language_info": {
      "name": "python"
    }
  },
  "cells": [
    {
      "cell_type": "markdown",
      "metadata": {
        "id": "view-in-github",
        "colab_type": "text"
      },
      "source": [
        "<a href=\"https://colab.research.google.com/github/jeeet0700/Python_Intermediate/blob/main/M3D28_Searching.ipynb\" target=\"_parent\"><img src=\"https://colab.research.google.com/assets/colab-badge.svg\" alt=\"Open In Colab\"/></a>"
      ]
    },
    {
      "cell_type": "code",
      "execution_count": 3,
      "metadata": {
        "colab": {
          "base_uri": "https://localhost:8080/"
        },
        "id": "w_vjiuMXQPBM",
        "outputId": "0351ab83-b9ad-431e-d141-68b2065fda2c"
      },
      "outputs": [
        {
          "output_type": "stream",
          "name": "stdout",
          "text": [
            "[12, 20, 10, 15, 2]\n",
            "[10, 20, 12, 15, 2]\n",
            "[12, 20, 10, 15, 2]\n",
            "[2, 20, 10, 15, 12]\n",
            "[2, 10, 20, 15, 12]\n",
            "[2, 15, 20, 10, 12]\n",
            "[2, 10, 20, 15, 12]\n",
            "[2, 10, 15, 20, 12]\n",
            "[2, 10, 12, 20, 15]\n",
            "[2, 10, 12, 15, 20]\n"
          ]
        }
      ],
      "source": [
        "def selectionsort(A):\n",
        "  for step in range(len(A)):\n",
        "    min_idx=step\n",
        "    for i in range(step+1,len(A)):\n",
        "      if A[i]< A[min_idx]:\n",
        "        min_idx=i\n",
        "      A[step],A[min_idx]=A[min_idx],A[step]\n",
        "      print(A)\n",
        "\n",
        "selectionsort([20,12,10,15,2])"
      ]
    },
    {
      "cell_type": "code",
      "source": [
        ""
      ],
      "metadata": {
        "id": "bfQK3m-dDa-r"
      },
      "execution_count": null,
      "outputs": []
    }
  ]
}