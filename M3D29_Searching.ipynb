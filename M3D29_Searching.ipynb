{
  "nbformat": 4,
  "nbformat_minor": 0,
  "metadata": {
    "colab": {
      "name": "M3D29_Searching.ipynb",
      "provenance": [],
      "authorship_tag": "ABX9TyOxDCsl/JAnyOxQxkOUnP20",
      "include_colab_link": true
    },
    "kernelspec": {
      "name": "python3",
      "display_name": "Python 3"
    },
    "language_info": {
      "name": "python"
    }
  },
  "cells": [
    {
      "cell_type": "markdown",
      "metadata": {
        "id": "view-in-github",
        "colab_type": "text"
      },
      "source": [
        "<a href=\"https://colab.research.google.com/github/jeeet0700/Python_Intermediate/blob/main/M3D29_Searching.ipynb\" target=\"_parent\"><img src=\"https://colab.research.google.com/assets/colab-badge.svg\" alt=\"Open In Colab\"/></a>"
      ]
    },
    {
      "cell_type": "markdown",
      "source": [
        "Linear Search"
      ],
      "metadata": {
        "id": "_Y9KRA2x0RN9"
      }
    },
    {
      "cell_type": "code",
      "execution_count": null,
      "metadata": {
        "id": "46lw0g-4q4pj",
        "colab": {
          "base_uri": "https://localhost:8080/"
        },
        "outputId": "d81b1c3a-b209-4040-d8c1-f27d0c79da76"
      },
      "outputs": [
        {
          "output_type": "execute_result",
          "data": {
            "text/plain": [
              "4"
            ]
          },
          "metadata": {},
          "execution_count": 2
        }
      ],
      "source": [
        "def linearsearch(arry,key):\n",
        "  for i in range(len(arry)):\n",
        "    if arry[i]==key:\n",
        "      return i\n",
        "  return -1\n",
        "\n",
        "arry=[2,5,7,8,9,4]\n",
        "\n",
        "linearsearch(arry,9)"
      ]
    },
    {
      "cell_type": "markdown",
      "source": [
        "Binary Search"
      ],
      "metadata": {
        "id": "HmVXaGSdiAGr"
      }
    },
    {
      "cell_type": "code",
      "source": [
        ""
      ],
      "metadata": {
        "id": "34k5-Fd00xlG"
      },
      "execution_count": null,
      "outputs": []
    }
  ]
}