{
  "nbformat": 4,
  "nbformat_minor": 0,
  "metadata": {
    "colab": {
      "name": "Advance Concepts shallow/deep copy, lambda, map, filter, reduce.ipynb",
      "provenance": [],
      "authorship_tag": "ABX9TyOuuB3cfa0KWzzMm2mchhSy",
      "include_colab_link": true
    },
    "kernelspec": {
      "name": "python3",
      "display_name": "Python 3"
    },
    "language_info": {
      "name": "python"
    }
  },
  "cells": [
    {
      "cell_type": "markdown",
      "metadata": {
        "id": "view-in-github",
        "colab_type": "text"
      },
      "source": [
        "<a href=\"https://colab.research.google.com/github/jeeet0700/Python_Intermediate/blob/main/Advance_Concepts_shallow_deep_copy%2C_lambda%2C_map%2C_filter%2C_reduce.ipynb\" target=\"_parent\"><img src=\"https://colab.research.google.com/assets/colab-badge.svg\" alt=\"Open In Colab\"/></a>"
      ]
    },
    {
      "cell_type": "code",
      "source": [
        "a=[[1,2,3],[4,5,6]]\n",
        "b=a\n",
        "print(id(a),id(b))"
      ],
      "metadata": {
        "colab": {
          "base_uri": "https://localhost:8080/"
        },
        "id": "o4A8AdQxKaXW",
        "outputId": "00feaa98-aacb-4e19-d17d-3c5e02ecf8d6"
      },
      "execution_count": 1,
      "outputs": [
        {
          "output_type": "stream",
          "name": "stdout",
          "text": [
            "139863450922752 139863450922752\n"
          ]
        }
      ]
    },
    {
      "cell_type": "code",
      "execution_count": 2,
      "metadata": {
        "colab": {
          "base_uri": "https://localhost:8080/"
        },
        "id": "nsJjU-Y4qoVY",
        "outputId": "7d1c423f-fe07-4187-e615-8398a4e1ff75"
      },
      "outputs": [
        {
          "output_type": "stream",
          "name": "stdout",
          "text": [
            "[[1, 2, 3], [4, 'Hello', 6]]\n",
            "[[1, 2, 3], [4, 'Hello', 6]]\n"
          ]
        }
      ],
      "source": [
        "a[1][1]=\"Hello\"\n",
        "print(a)\n",
        "print(b)"
      ]
    },
    {
      "cell_type": "markdown",
      "source": [
        "##ShallowCopy"
      ],
      "metadata": {
        "id": "niZ_tdJ0QcXO"
      }
    },
    {
      "cell_type": "code",
      "source": [
        "from copy import copy\n",
        "a=[[1,2,3],[4,5,6]]\n",
        "b=copy(a)\n",
        "print(id(a),id(b))\n",
        "print(a)\n",
        "print(b)\n",
        "print(id(a[0]),id(b[0]))"
      ],
      "metadata": {
        "colab": {
          "base_uri": "https://localhost:8080/"
        },
        "id": "b02lbz6DKn7C",
        "outputId": "53910b3a-4665-405f-cf2d-fbc85a80e6b1"
      },
      "execution_count": 4,
      "outputs": [
        {
          "output_type": "stream",
          "name": "stdout",
          "text": [
            "139863449288368 139863449313104\n",
            "[[1, 2, 3], [4, 5, 6]]\n",
            "[[1, 2, 3], [4, 5, 6]]\n",
            "139863449865984 139863449865984\n"
          ]
        }
      ]
    },
    {
      "cell_type": "markdown",
      "source": [
        "##DeepCopy"
      ],
      "metadata": {
        "id": "nPaly7akaa8H"
      }
    },
    {
      "cell_type": "code",
      "source": [
        "from copy import deepcopy\n",
        "a=[[1,2,3],[4,5,6]]\n",
        "b=deepcopy(a)\n",
        "print(id(a),id(b))\n",
        "print(a,b)\n",
        "print(id(a[0]),id(b[0]))"
      ],
      "metadata": {
        "colab": {
          "base_uri": "https://localhost:8080/"
        },
        "id": "tTqycwKfR3Gz",
        "outputId": "e290d212-0d32-47f7-c2e4-27df7eebb4a5"
      },
      "execution_count": 5,
      "outputs": [
        {
          "output_type": "stream",
          "name": "stdout",
          "text": [
            "139863449872576 139863449493664\n",
            "[[1, 2, 3], [4, 5, 6]] [[1, 2, 3], [4, 5, 6]]\n",
            "139863450526336 139863450472528\n"
          ]
        }
      ]
    },
    {
      "cell_type": "markdown",
      "source": [
        "##ListComprihensive"
      ],
      "metadata": {
        "id": "TxQ6C8IgbODy"
      }
    },
    {
      "cell_type": "code",
      "source": [
        "a=[]\n",
        "for i in range(1,11):\n",
        "  a.append(i*2)\n",
        "print(a)"
      ],
      "metadata": {
        "colab": {
          "base_uri": "https://localhost:8080/"
        },
        "id": "K9zrOkaobJHs",
        "outputId": "0115b21a-d3cb-4147-c7c0-adc98ff0ed06"
      },
      "execution_count": 6,
      "outputs": [
        {
          "output_type": "stream",
          "name": "stdout",
          "text": [
            "[2, 4, 6, 8, 10, 12, 14, 16, 18, 20]\n"
          ]
        }
      ]
    },
    {
      "cell_type": "code",
      "source": [
        "b=[i*2 for i in range(1,11)]\n",
        "print(b)"
      ],
      "metadata": {
        "colab": {
          "base_uri": "https://localhost:8080/"
        },
        "id": "1hnP0AczbfP2",
        "outputId": "4e715d65-a8c9-4efe-80ae-553e7e99c6b1"
      },
      "execution_count": 7,
      "outputs": [
        {
          "output_type": "stream",
          "name": "stdout",
          "text": [
            "[2, 4, 6, 8, 10, 12, 14, 16, 18, 20]\n"
          ]
        }
      ]
    },
    {
      "cell_type": "markdown",
      "source": [
        "##LambdaFunction"
      ],
      "metadata": {
        "id": "XzrB0baHaYyr"
      }
    },
    {
      "cell_type": "code",
      "source": [
        "def fun(x):\n",
        "  return 2*x\n",
        "\n",
        "fun(3)"
      ],
      "metadata": {
        "colab": {
          "base_uri": "https://localhost:8080/"
        },
        "id": "vuQovvM5YyIa",
        "outputId": "34589116-0c63-4a5a-bbc2-62d0eefad440"
      },
      "execution_count": 8,
      "outputs": [
        {
          "output_type": "execute_result",
          "data": {
            "text/plain": [
              "6"
            ]
          },
          "metadata": {},
          "execution_count": 8
        }
      ]
    },
    {
      "cell_type": "code",
      "source": [
        "lambda x : x*2"
      ],
      "metadata": {
        "colab": {
          "base_uri": "https://localhost:8080/"
        },
        "id": "UigLKSh4b0of",
        "outputId": "632a5f74-3a01-4d86-9059-fef6d5a2578b"
      },
      "execution_count": 9,
      "outputs": [
        {
          "output_type": "execute_result",
          "data": {
            "text/plain": [
              "<function __main__.<lambda>>"
            ]
          },
          "metadata": {},
          "execution_count": 9
        }
      ]
    },
    {
      "cell_type": "code",
      "source": [
        "type(lambda x : x*2)"
      ],
      "metadata": {
        "colab": {
          "base_uri": "https://localhost:8080/"
        },
        "id": "MIScWpP-b38_",
        "outputId": "b0e07757-5805-4495-bfcd-2c53eba3cb50"
      },
      "execution_count": 10,
      "outputs": [
        {
          "output_type": "execute_result",
          "data": {
            "text/plain": [
              "function"
            ]
          },
          "metadata": {},
          "execution_count": 10
        }
      ]
    },
    {
      "cell_type": "code",
      "source": [
        "a=lambda x : x*2\n",
        "a(3)"
      ],
      "metadata": {
        "colab": {
          "base_uri": "https://localhost:8080/"
        },
        "id": "CnUnkITUb8NO",
        "outputId": "32cd7e0b-14c8-4080-e0b3-1023de245de7"
      },
      "execution_count": 12,
      "outputs": [
        {
          "output_type": "execute_result",
          "data": {
            "text/plain": [
              "6"
            ]
          },
          "metadata": {},
          "execution_count": 12
        }
      ]
    },
    {
      "cell_type": "code",
      "source": [
        "(lambda x : x*2)(3)"
      ],
      "metadata": {
        "colab": {
          "base_uri": "https://localhost:8080/"
        },
        "id": "9IajkFFmcCuv",
        "outputId": "933e115a-c72d-410a-be88-c2799fcec307"
      },
      "execution_count": 13,
      "outputs": [
        {
          "output_type": "execute_result",
          "data": {
            "text/plain": [
              "6"
            ]
          },
          "metadata": {},
          "execution_count": 13
        }
      ]
    },
    {
      "cell_type": "code",
      "source": [
        "(lambda x,y : x*y)(2,3)"
      ],
      "metadata": {
        "colab": {
          "base_uri": "https://localhost:8080/"
        },
        "id": "vogOJcCecshk",
        "outputId": "38d4bf4d-9c86-451f-8aac-62fc6fda612a"
      },
      "execution_count": 14,
      "outputs": [
        {
          "output_type": "execute_result",
          "data": {
            "text/plain": [
              "6"
            ]
          },
          "metadata": {},
          "execution_count": 14
        }
      ]
    },
    {
      "cell_type": "code",
      "source": [
        "(lambda x,y,z : x*y*z)(2,2,2)"
      ],
      "metadata": {
        "colab": {
          "base_uri": "https://localhost:8080/"
        },
        "id": "mQONnrIEdAZk",
        "outputId": "79316843-fa51-4596-ee5d-069b0e5c7e30"
      },
      "execution_count": 15,
      "outputs": [
        {
          "output_type": "execute_result",
          "data": {
            "text/plain": [
              "8"
            ]
          },
          "metadata": {},
          "execution_count": 15
        }
      ]
    },
    {
      "cell_type": "code",
      "source": [
        "(lambda x : x%2)(60)"
      ],
      "metadata": {
        "colab": {
          "base_uri": "https://localhost:8080/"
        },
        "id": "-uFHupgJdG0g",
        "outputId": "e160411f-64e3-4550-b420-cafa5a2d87f8"
      },
      "execution_count": 16,
      "outputs": [
        {
          "output_type": "execute_result",
          "data": {
            "text/plain": [
              "0"
            ]
          },
          "metadata": {},
          "execution_count": 16
        }
      ]
    },
    {
      "cell_type": "code",
      "source": [
        "def fun(num):\n",
        "  return lambda x : num*x\n",
        "fun(20)"
      ],
      "metadata": {
        "colab": {
          "base_uri": "https://localhost:8080/"
        },
        "id": "k16RNN7IdigA",
        "outputId": "e88fbf59-6076-450a-a3db-cc2ce9f0d084"
      },
      "execution_count": 17,
      "outputs": [
        {
          "output_type": "execute_result",
          "data": {
            "text/plain": [
              "<function __main__.fun.<locals>.<lambda>>"
            ]
          },
          "metadata": {},
          "execution_count": 17
        }
      ]
    },
    {
      "cell_type": "code",
      "source": [
        "def fun(num):\n",
        "  return lambda x : num*x\n",
        "fun(20)(10)"
      ],
      "metadata": {
        "colab": {
          "base_uri": "https://localhost:8080/"
        },
        "id": "ezXsBWXiie3g",
        "outputId": "a0091385-9f8a-4e5e-8269-21e8879a8394"
      },
      "execution_count": 19,
      "outputs": [
        {
          "output_type": "execute_result",
          "data": {
            "text/plain": [
              "200"
            ]
          },
          "metadata": {},
          "execution_count": 19
        }
      ]
    },
    {
      "cell_type": "code",
      "source": [
        "def outer():\n",
        "  num=10\n",
        "  def inner():\n",
        "    print(\"Hello\")\n",
        "  inner()\n",
        "  print(num)\n",
        "outer()"
      ],
      "metadata": {
        "colab": {
          "base_uri": "https://localhost:8080/"
        },
        "id": "iLD0nuyviidY",
        "outputId": "35fcfd53-1d97-48f7-d340-c3c6543b184a"
      },
      "execution_count": 2,
      "outputs": [
        {
          "output_type": "stream",
          "name": "stdout",
          "text": [
            "Hello\n",
            "10\n"
          ]
        }
      ]
    },
    {
      "cell_type": "code",
      "source": [
        "def outer(a):\n",
        "  def inner(b):\n",
        "    return a*b\n",
        "  return inner"
      ],
      "metadata": {
        "id": "wFIbqr1C6955"
      },
      "execution_count": 3,
      "outputs": []
    },
    {
      "cell_type": "code",
      "source": [
        "outer()"
      ],
      "metadata": {
        "colab": {
          "base_uri": "https://localhost:8080/",
          "height": 166
        },
        "id": "u27AE0ix-XtV",
        "outputId": "ddeeb26a-e760-4418-cb11-5dcb429dc74b"
      },
      "execution_count": 4,
      "outputs": [
        {
          "output_type": "error",
          "ename": "TypeError",
          "evalue": "ignored",
          "traceback": [
            "\u001b[0;31m---------------------------------------------------------------------------\u001b[0m",
            "\u001b[0;31mTypeError\u001b[0m                                 Traceback (most recent call last)",
            "\u001b[0;32m<ipython-input-4-0811df1b6f71>\u001b[0m in \u001b[0;36m<module>\u001b[0;34m()\u001b[0m\n\u001b[0;32m----> 1\u001b[0;31m \u001b[0mouter\u001b[0m\u001b[0;34m(\u001b[0m\u001b[0;34m)\u001b[0m\u001b[0;34m\u001b[0m\u001b[0;34m\u001b[0m\u001b[0m\n\u001b[0m",
            "\u001b[0;31mTypeError\u001b[0m: outer() missing 1 required positional argument: 'a'"
          ]
        }
      ]
    },
    {
      "cell_type": "code",
      "source": [
        "outer(10)"
      ],
      "metadata": {
        "colab": {
          "base_uri": "https://localhost:8080/"
        },
        "id": "HW8soQUH-ZHb",
        "outputId": "de739b6b-7a33-483e-aec1-86386b16f493"
      },
      "execution_count": 5,
      "outputs": [
        {
          "output_type": "execute_result",
          "data": {
            "text/plain": [
              "<function __main__.outer.<locals>.inner>"
            ]
          },
          "metadata": {},
          "execution_count": 5
        }
      ]
    },
    {
      "cell_type": "code",
      "source": [
        "outer(10)(10)"
      ],
      "metadata": {
        "colab": {
          "base_uri": "https://localhost:8080/"
        },
        "id": "R3cdZo2h-do_",
        "outputId": "d1a30b0b-e128-4623-8af2-06e5885cfa9f"
      },
      "execution_count": 6,
      "outputs": [
        {
          "output_type": "execute_result",
          "data": {
            "text/plain": [
              "100"
            ]
          },
          "metadata": {},
          "execution_count": 6
        }
      ]
    },
    {
      "cell_type": "code",
      "source": [
        "def sq(x):\n",
        "  return x**2\n",
        "\n",
        "def cub(x):\n",
        "  return x**3"
      ],
      "metadata": {
        "id": "gK8of4rW-hzS"
      },
      "execution_count": 7,
      "outputs": []
    },
    {
      "cell_type": "code",
      "source": [
        "fun={'sq':sq,'cub':cub}\n",
        "fun['sq'](10)"
      ],
      "metadata": {
        "colab": {
          "base_uri": "https://localhost:8080/"
        },
        "id": "1Jo9De91RAG3",
        "outputId": "a69624fc-d39d-4762-bdec-198542d7a3ea"
      },
      "execution_count": 8,
      "outputs": [
        {
          "output_type": "execute_result",
          "data": {
            "text/plain": [
              "100"
            ]
          },
          "metadata": {},
          "execution_count": 8
        }
      ]
    },
    {
      "cell_type": "code",
      "source": [
        "for k in fun:\n",
        "  print(k)"
      ],
      "metadata": {
        "colab": {
          "base_uri": "https://localhost:8080/"
        },
        "id": "7CxLV0osSIzp",
        "outputId": "53b8599a-b9db-455e-b19c-22f99491625a"
      },
      "execution_count": 10,
      "outputs": [
        {
          "output_type": "stream",
          "name": "stdout",
          "text": [
            "sq\n",
            "cub\n"
          ]
        }
      ]
    },
    {
      "cell_type": "code",
      "source": [
        "for k in fun:\n",
        "  print(fun[k](10))"
      ],
      "metadata": {
        "colab": {
          "base_uri": "https://localhost:8080/"
        },
        "id": "vUO4ACFnRMa0",
        "outputId": "fa9c9e2b-6da3-4aa6-8e18-ccdee7854595"
      },
      "execution_count": 9,
      "outputs": [
        {
          "output_type": "stream",
          "name": "stdout",
          "text": [
            "100\n",
            "1000\n"
          ]
        }
      ]
    },
    {
      "cell_type": "markdown",
      "source": [
        "##CallByRef"
      ],
      "metadata": {
        "id": "C173LW64TkpT"
      }
    },
    {
      "cell_type": "code",
      "source": [
        "def fun(x):\n",
        "  x=[1,2,3]\n",
        "  return x\n",
        "\n",
        "x=[11,22,33]\n",
        "print(x)\n",
        "print(fun(x))\n",
        "print(x)"
      ],
      "metadata": {
        "colab": {
          "base_uri": "https://localhost:8080/"
        },
        "id": "6rl34eP9SCLz",
        "outputId": "5bc90264-e67d-4175-d11c-b3285ba476c2"
      },
      "execution_count": 12,
      "outputs": [
        {
          "output_type": "stream",
          "name": "stdout",
          "text": [
            "[11, 22, 33]\n",
            "[1, 2, 3]\n",
            "[11, 22, 33]\n"
          ]
        }
      ]
    },
    {
      "cell_type": "markdown",
      "source": [
        "##CallByValue"
      ],
      "metadata": {
        "id": "sO00ovLFUb7h"
      }
    },
    {
      "cell_type": "code",
      "source": [
        "def fun(x):\n",
        "  return x\n",
        "\n",
        "print(fun([7,8,9]))"
      ],
      "metadata": {
        "colab": {
          "base_uri": "https://localhost:8080/"
        },
        "id": "M2eM8uNHT069",
        "outputId": "ae9da4a0-f80a-452c-f884-41496535b8f9"
      },
      "execution_count": 15,
      "outputs": [
        {
          "output_type": "stream",
          "name": "stdout",
          "text": [
            "[7, 8, 9]\n"
          ]
        }
      ]
    },
    {
      "cell_type": "markdown",
      "source": [
        "##Map"
      ],
      "metadata": {
        "id": "L8EQl-_kJhGl"
      }
    },
    {
      "cell_type": "code",
      "source": [
        "data=[1,2,3,4]\n",
        "def sq(x):\n",
        "  return 2*x\n",
        "\n",
        "sq(2)"
      ],
      "metadata": {
        "colab": {
          "base_uri": "https://localhost:8080/"
        },
        "id": "RVKRH6bTUqyN",
        "outputId": "5854c1bd-436c-4331-c914-1867ebc991bd"
      },
      "execution_count": 1,
      "outputs": [
        {
          "output_type": "execute_result",
          "data": {
            "text/plain": [
              "4"
            ]
          },
          "metadata": {},
          "execution_count": 1
        }
      ]
    },
    {
      "cell_type": "code",
      "source": [
        "data=[1,2,3,4]\n",
        "def sq(x):\n",
        "  return 2*x\n",
        "\n",
        "sq(data)"
      ],
      "metadata": {
        "colab": {
          "base_uri": "https://localhost:8080/"
        },
        "id": "ALgykSqsJw5s",
        "outputId": "0862d3ca-bab6-43f5-8aab-49ca1c56f038"
      },
      "execution_count": 2,
      "outputs": [
        {
          "output_type": "execute_result",
          "data": {
            "text/plain": [
              "[1, 2, 3, 4, 1, 2, 3, 4]"
            ]
          },
          "metadata": {},
          "execution_count": 2
        }
      ]
    },
    {
      "cell_type": "code",
      "source": [
        "for i in map(sq,data):\n",
        "  print(i)\n",
        "\n",
        "print(data)"
      ],
      "metadata": {
        "colab": {
          "base_uri": "https://localhost:8080/"
        },
        "id": "Erz1uIW2K2q3",
        "outputId": "e7c24f24-2a2f-4792-ea83-b3525513b800"
      },
      "execution_count": 3,
      "outputs": [
        {
          "output_type": "stream",
          "name": "stdout",
          "text": [
            "2\n",
            "4\n",
            "6\n",
            "8\n",
            "[1, 2, 3, 4]\n"
          ]
        }
      ]
    },
    {
      "cell_type": "code",
      "source": [
        " def sq(*argv):\n",
        "   for i in argv:\n",
        "     print(i)\n",
        "\n",
        "sq(data)"
      ],
      "metadata": {
        "colab": {
          "base_uri": "https://localhost:8080/"
        },
        "id": "ukGsMZwvLgB1",
        "outputId": "dceb7828-7dac-488c-c3ad-c668204cdba6"
      },
      "execution_count": 4,
      "outputs": [
        {
          "output_type": "stream",
          "name": "stdout",
          "text": [
            "[1, 2, 3, 4]\n"
          ]
        }
      ]
    },
    {
      "cell_type": "code",
      "source": [
        "def sq(*argv):\n",
        "   for i in argv:\n",
        "     return i\n",
        "\n",
        "sq(data)"
      ],
      "metadata": {
        "colab": {
          "base_uri": "https://localhost:8080/"
        },
        "id": "I70WDMEENpQR",
        "outputId": "ccd17ede-a09c-465e-c14a-e30bd9878430"
      },
      "execution_count": 5,
      "outputs": [
        {
          "output_type": "execute_result",
          "data": {
            "text/plain": [
              "[1, 2, 3, 4]"
            ]
          },
          "metadata": {},
          "execution_count": 5
        }
      ]
    },
    {
      "cell_type": "code",
      "source": [
        "def fun(**kargs):\n",
        "  for key,value in kargs.items():\n",
        "    print(key)\n",
        "    print(value)\n",
        "\n",
        "fun(a=\"Apple\",b=\"Ball\",c=\"Cat\")"
      ],
      "metadata": {
        "colab": {
          "base_uri": "https://localhost:8080/"
        },
        "id": "pseB0bbyOv_A",
        "outputId": "41900852-8316-4b34-8928-c858c64b5809"
      },
      "execution_count": 10,
      "outputs": [
        {
          "output_type": "stream",
          "name": "stdout",
          "text": [
            "a\n",
            "Apple\n",
            "b\n",
            "Ball\n",
            "c\n",
            "Cat\n"
          ]
        }
      ]
    },
    {
      "cell_type": "code",
      "source": [
        "data=[1,2,3,4]\n",
        "def sq(x):\n",
        "  return x*2\n",
        "\n",
        "map(sq,data) #map(func,iterable)"
      ],
      "metadata": {
        "colab": {
          "base_uri": "https://localhost:8080/"
        },
        "id": "1KPVdGlJP1rP",
        "outputId": "d057ffa4-7a57-4831-94e7-fc52e4d2e44b"
      },
      "execution_count": 12,
      "outputs": [
        {
          "output_type": "execute_result",
          "data": {
            "text/plain": [
              "<map at 0x7fcbee6b84d0>"
            ]
          },
          "metadata": {},
          "execution_count": 12
        }
      ]
    },
    {
      "cell_type": "code",
      "source": [
        "for i in map(sq,data):\n",
        "  print(i)"
      ],
      "metadata": {
        "colab": {
          "base_uri": "https://localhost:8080/"
        },
        "id": "nyonBZNHR_mn",
        "outputId": "cbf5d7c4-1005-460c-c3b6-6f97db8f4281"
      },
      "execution_count": 14,
      "outputs": [
        {
          "output_type": "stream",
          "name": "stdout",
          "text": [
            "2\n",
            "4\n",
            "6\n",
            "8\n"
          ]
        }
      ]
    },
    {
      "cell_type": "code",
      "source": [
        "for i in map (lambda x : x*2,data):\n",
        "  print(i)"
      ],
      "metadata": {
        "colab": {
          "base_uri": "https://localhost:8080/"
        },
        "id": "JErcM2C1SJiw",
        "outputId": "b614240a-1bd4-4811-99f2-1ae8dc61934e"
      },
      "execution_count": 16,
      "outputs": [
        {
          "output_type": "stream",
          "name": "stdout",
          "text": [
            "2\n",
            "4\n",
            "6\n",
            "8\n"
          ]
        }
      ]
    },
    {
      "cell_type": "code",
      "source": [
        "data1=[1,2,3,4]\n",
        "data2=[4,3,2,1]\n",
        "for i in map (lambda x,y : x+y,data1,data2):\n",
        "  print(i)"
      ],
      "metadata": {
        "colab": {
          "base_uri": "https://localhost:8080/"
        },
        "id": "YSMzTyg7Spwo",
        "outputId": "0c7eb62f-0176-4e8d-9765-44e1713c9082"
      },
      "execution_count": 18,
      "outputs": [
        {
          "output_type": "stream",
          "name": "stdout",
          "text": [
            "5\n",
            "5\n",
            "5\n",
            "5\n"
          ]
        }
      ]
    },
    {
      "cell_type": "code",
      "source": [
        "def getsize(x):\n",
        "  if x<150:\n",
        "    return 'S'\n",
        "  elif x>150 and x<180:\n",
        "    return 'M'\n",
        "  else:\n",
        "    return 'L'"
      ],
      "metadata": {
        "id": "Dj6F8JAJS9ka"
      },
      "execution_count": 1,
      "outputs": []
    },
    {
      "cell_type": "code",
      "source": [
        "h=[152,160,170,171,139,190,165,195]\n",
        "for i in map(getsize,h):\n",
        "  print(i)"
      ],
      "metadata": {
        "colab": {
          "base_uri": "https://localhost:8080/"
        },
        "id": "o-qwQBfiWkzW",
        "outputId": "cce56b3b-74bd-40a8-c77a-5724014099d7"
      },
      "execution_count": 3,
      "outputs": [
        {
          "output_type": "stream",
          "name": "stdout",
          "text": [
            "M\n",
            "M\n",
            "M\n",
            "M\n",
            "S\n",
            "L\n",
            "M\n",
            "L\n"
          ]
        }
      ]
    },
    {
      "cell_type": "code",
      "source": [
        "list(map(getsize,h))"
      ],
      "metadata": {
        "colab": {
          "base_uri": "https://localhost:8080/"
        },
        "id": "KiwsLxNAWwRR",
        "outputId": "db534548-17ef-4228-88c4-010cc85ff233"
      },
      "execution_count": 5,
      "outputs": [
        {
          "output_type": "execute_result",
          "data": {
            "text/plain": [
              "['M', 'M', 'M', 'M', 'S', 'L', 'M', 'L']"
            ]
          },
          "metadata": {},
          "execution_count": 5
        }
      ]
    },
    {
      "cell_type": "code",
      "source": [
        "a=[1,1,1,0,0,0,1]\n",
        "b=[0,0,1,0,1,1,0]\n",
        "print(list(map(lambda x,y:x==y,a,b)))"
      ],
      "metadata": {
        "colab": {
          "base_uri": "https://localhost:8080/"
        },
        "id": "t_lWVu14W7lh",
        "outputId": "337b43e3-aedd-445f-8844-03c5ac5fd28c"
      },
      "execution_count": 7,
      "outputs": [
        {
          "output_type": "stream",
          "name": "stdout",
          "text": [
            "[False, False, True, True, False, False, False]\n"
          ]
        }
      ]
    },
    {
      "cell_type": "code",
      "source": [
        "for i in map(lambda x,y:x==y,a,b):\n",
        "  print(i)"
      ],
      "metadata": {
        "colab": {
          "base_uri": "https://localhost:8080/"
        },
        "id": "LgagSVpRaLwi",
        "outputId": "fccac963-1c43-4003-ec64-51e6e2b87e19"
      },
      "execution_count": 8,
      "outputs": [
        {
          "output_type": "stream",
          "name": "stdout",
          "text": [
            "False\n",
            "False\n",
            "True\n",
            "True\n",
            "False\n",
            "False\n",
            "False\n"
          ]
        }
      ]
    },
    {
      "cell_type": "code",
      "source": [
        "for i in map(lambda x,y:x==y)(a,b):\n",
        "  print(i)"
      ],
      "metadata": {
        "colab": {
          "base_uri": "https://localhost:8080/",
          "height": 184
        },
        "id": "ctNCq5PoamrO",
        "outputId": "1b097e87-a515-4d00-fdbb-590f72e66b9a"
      },
      "execution_count": 9,
      "outputs": [
        {
          "output_type": "error",
          "ename": "TypeError",
          "evalue": "ignored",
          "traceback": [
            "\u001b[0;31m---------------------------------------------------------------------------\u001b[0m",
            "\u001b[0;31mTypeError\u001b[0m                                 Traceback (most recent call last)",
            "\u001b[0;32m<ipython-input-9-859d017eb411>\u001b[0m in \u001b[0;36m<module>\u001b[0;34m()\u001b[0m\n\u001b[0;32m----> 1\u001b[0;31m \u001b[0;32mfor\u001b[0m \u001b[0mi\u001b[0m \u001b[0;32min\u001b[0m \u001b[0mmap\u001b[0m\u001b[0;34m(\u001b[0m\u001b[0;32mlambda\u001b[0m \u001b[0mx\u001b[0m\u001b[0;34m,\u001b[0m\u001b[0my\u001b[0m\u001b[0;34m:\u001b[0m\u001b[0mx\u001b[0m\u001b[0;34m==\u001b[0m\u001b[0my\u001b[0m\u001b[0;34m)\u001b[0m\u001b[0;34m(\u001b[0m\u001b[0ma\u001b[0m\u001b[0;34m,\u001b[0m\u001b[0mb\u001b[0m\u001b[0;34m)\u001b[0m\u001b[0;34m:\u001b[0m\u001b[0;34m\u001b[0m\u001b[0;34m\u001b[0m\u001b[0m\n\u001b[0m\u001b[1;32m      2\u001b[0m   \u001b[0mprint\u001b[0m\u001b[0;34m(\u001b[0m\u001b[0mi\u001b[0m\u001b[0;34m)\u001b[0m\u001b[0;34m\u001b[0m\u001b[0;34m\u001b[0m\u001b[0m\n",
            "\u001b[0;31mTypeError\u001b[0m: map() must have at least two arguments."
          ]
        }
      ]
    },
    {
      "cell_type": "code",
      "source": [
        "(lambda x,y : x*y)(2,2)"
      ],
      "metadata": {
        "colab": {
          "base_uri": "https://localhost:8080/"
        },
        "id": "YtCw3Vbrauar",
        "outputId": "f9dd10c7-d5f1-4dac-91fb-1c3e3bcdf98d"
      },
      "execution_count": 10,
      "outputs": [
        {
          "output_type": "execute_result",
          "data": {
            "text/plain": [
              "4"
            ]
          },
          "metadata": {},
          "execution_count": 10
        }
      ]
    },
    {
      "cell_type": "code",
      "source": [
        "def fun(x):\n",
        "  return 2*x"
      ],
      "metadata": {
        "id": "W8Talz8Wa9S7"
      },
      "execution_count": 11,
      "outputs": []
    },
    {
      "cell_type": "code",
      "source": [
        "fun(3)"
      ],
      "metadata": {
        "colab": {
          "base_uri": "https://localhost:8080/"
        },
        "id": "ODVogR9gbtu3",
        "outputId": "e5a32dfe-c0ee-4e30-c1b2-11a336cfffab"
      },
      "execution_count": 12,
      "outputs": [
        {
          "output_type": "execute_result",
          "data": {
            "text/plain": [
              "6"
            ]
          },
          "metadata": {},
          "execution_count": 12
        }
      ]
    },
    {
      "cell_type": "code",
      "source": [
        "a=lambda x : 2*x"
      ],
      "metadata": {
        "id": "ccTbF7Kubu5A"
      },
      "execution_count": 13,
      "outputs": []
    },
    {
      "cell_type": "code",
      "source": [
        "print(a)"
      ],
      "metadata": {
        "colab": {
          "base_uri": "https://localhost:8080/"
        },
        "id": "f_QI2YBab1b3",
        "outputId": "1be82196-6a19-4af7-b05e-6ab6304419cb"
      },
      "execution_count": 14,
      "outputs": [
        {
          "output_type": "stream",
          "name": "stdout",
          "text": [
            "<function <lambda> at 0x7f567d760050>\n"
          ]
        }
      ]
    },
    {
      "cell_type": "code",
      "source": [
        "a(3)"
      ],
      "metadata": {
        "colab": {
          "base_uri": "https://localhost:8080/"
        },
        "id": "NOKx4zbSb25Z",
        "outputId": "ddae6d32-ba58-4c13-98d1-437e565d0a10"
      },
      "execution_count": 15,
      "outputs": [
        {
          "output_type": "execute_result",
          "data": {
            "text/plain": [
              "6"
            ]
          },
          "metadata": {},
          "execution_count": 15
        }
      ]
    },
    {
      "cell_type": "code",
      "source": [
        "(lambda x : 2*x)(3)"
      ],
      "metadata": {
        "colab": {
          "base_uri": "https://localhost:8080/"
        },
        "id": "lXhAx6Nlb47v",
        "outputId": "b1c08ea6-e685-4f13-a842-edf3d97e4868"
      },
      "execution_count": 16,
      "outputs": [
        {
          "output_type": "execute_result",
          "data": {
            "text/plain": [
              "6"
            ]
          },
          "metadata": {},
          "execution_count": 16
        }
      ]
    },
    {
      "cell_type": "code",
      "source": [
        "def sq(x):\n",
        "  return x*2\n",
        "\n",
        "data=[1,2,3,4,5]\n",
        "sq(data)"
      ],
      "metadata": {
        "colab": {
          "base_uri": "https://localhost:8080/"
        },
        "id": "VGR6DVcQb-2g",
        "outputId": "2dce9aa8-8298-409b-a78c-5ae2ac779594"
      },
      "execution_count": 17,
      "outputs": [
        {
          "output_type": "execute_result",
          "data": {
            "text/plain": [
              "[1, 2, 3, 4, 5, 1, 2, 3, 4, 5]"
            ]
          },
          "metadata": {},
          "execution_count": 17
        }
      ]
    },
    {
      "cell_type": "code",
      "source": [
        "map(sq,data)"
      ],
      "metadata": {
        "colab": {
          "base_uri": "https://localhost:8080/"
        },
        "id": "_3pmMVyNcNrQ",
        "outputId": "f9b2603c-02b6-4935-9500-905912a65cb3"
      },
      "execution_count": 18,
      "outputs": [
        {
          "output_type": "execute_result",
          "data": {
            "text/plain": [
              "<map at 0x7f567d7a4110>"
            ]
          },
          "metadata": {},
          "execution_count": 18
        }
      ]
    },
    {
      "cell_type": "code",
      "source": [
        "for i in map(sq,data):\n",
        "  print(i)"
      ],
      "metadata": {
        "colab": {
          "base_uri": "https://localhost:8080/"
        },
        "id": "_bf_ZUSVcRHZ",
        "outputId": "91f2518f-b216-4693-9ee2-51d655688893"
      },
      "execution_count": 19,
      "outputs": [
        {
          "output_type": "stream",
          "name": "stdout",
          "text": [
            "2\n",
            "4\n",
            "6\n",
            "8\n",
            "10\n"
          ]
        }
      ]
    },
    {
      "cell_type": "code",
      "source": [
        "list(map(sq,data))"
      ],
      "metadata": {
        "colab": {
          "base_uri": "https://localhost:8080/"
        },
        "id": "a94x766scWOh",
        "outputId": "463c700d-f2fe-4c0e-f876-55cdf4592734"
      },
      "execution_count": 20,
      "outputs": [
        {
          "output_type": "execute_result",
          "data": {
            "text/plain": [
              "[2, 4, 6, 8, 10]"
            ]
          },
          "metadata": {},
          "execution_count": 20
        }
      ]
    },
    {
      "cell_type": "code",
      "source": [
        ""
      ],
      "metadata": {
        "id": "f05XWbe3ccJL"
      },
      "execution_count": null,
      "outputs": []
    }
  ]
}