{
  "nbformat": 4,
  "nbformat_minor": 0,
  "metadata": {
    "colab": {
      "name": "W9D22.ipynb",
      "provenance": [],
      "authorship_tag": "ABX9TyPeZMlinXSJvs6AFUlCdw8y",
      "include_colab_link": true
    },
    "kernelspec": {
      "name": "python3",
      "display_name": "Python 3"
    },
    "language_info": {
      "name": "python"
    }
  },
  "cells": [
    {
      "cell_type": "markdown",
      "metadata": {
        "id": "view-in-github",
        "colab_type": "text"
      },
      "source": [
        "<a href=\"https://colab.research.google.com/github/jeeet0700/Python_Intermediate/blob/main/W9D22.ipynb\" target=\"_parent\"><img src=\"https://colab.research.google.com/assets/colab-badge.svg\" alt=\"Open In Colab\"/></a>"
      ]
    },
    {
      "cell_type": "code",
      "execution_count": null,
      "metadata": {
        "id": "nZAhil2s_iRn"
      },
      "outputs": [],
      "source": [
        "class Car:\n",
        "  def __init__(self,model,color,price):\n",
        "    self.model=model\n",
        "    self.color=color\n",
        "    self.price=price\n",
        "\n",
        "  def drive(self):\n",
        "    print(\"zoom-zoom\")\n",
        "\n",
        "c1=Car(\"Sedan\",\"Red\",120000)"
      ]
    },
    {
      "cell_type": "code",
      "source": [
        "c1.color"
      ],
      "metadata": {
        "colab": {
          "base_uri": "https://localhost:8080/",
          "height": 36
        },
        "id": "Fokdv7pVqAEz",
        "outputId": "dcce11c9-b8d8-486a-fef0-38933c55b3c9"
      },
      "execution_count": null,
      "outputs": [
        {
          "output_type": "execute_result",
          "data": {
            "text/plain": [
              "'Red'"
            ],
            "application/vnd.google.colaboratory.intrinsic+json": {
              "type": "string"
            }
          },
          "metadata": {},
          "execution_count": 24
        }
      ]
    },
    {
      "cell_type": "code",
      "source": [
        "c1.drive()"
      ],
      "metadata": {
        "colab": {
          "base_uri": "https://localhost:8080/"
        },
        "id": "hKyc2zrrqYer",
        "outputId": "1abe4e4d-276c-4621-97ec-547147a100c5"
      },
      "execution_count": null,
      "outputs": [
        {
          "output_type": "stream",
          "name": "stdout",
          "text": [
            "zoom-zoom\n"
          ]
        }
      ]
    },
    {
      "cell_type": "code",
      "source": [
        "c2=Car(\"Sedan\",\"Green\",'130000')"
      ],
      "metadata": {
        "id": "SJXaKtI3qt4-"
      },
      "execution_count": null,
      "outputs": []
    },
    {
      "cell_type": "code",
      "source": [
        "c2.drive()"
      ],
      "metadata": {
        "colab": {
          "base_uri": "https://localhost:8080/"
        },
        "id": "G8-aEKtfq_rf",
        "outputId": "7571e44c-c670-43ab-abd3-19af21ca3910"
      },
      "execution_count": null,
      "outputs": [
        {
          "output_type": "stream",
          "name": "stdout",
          "text": [
            "zoom-zoom\n"
          ]
        }
      ]
    },
    {
      "cell_type": "code",
      "source": [
        "class Employee:\n",
        "  def __init__(self,name,salary,project):\n",
        "    self.name=name\n",
        "    self.salary=salary\n",
        "    self.project=project\n",
        "\n",
        "  def show(self):\n",
        "    print(\"Name: \",self.name,\"Salary: \",self.salary)\n",
        "\n",
        "  def work(self):\n",
        "    print(\"Name: \",self.name,\"Project: \",self.project)\n",
        "\n",
        "emp=Employee(\"Jeeet\",120000,\"CNN\")"
      ],
      "metadata": {
        "id": "EjU6kQA3rBZB"
      },
      "execution_count": null,
      "outputs": []
    },
    {
      "cell_type": "code",
      "source": [
        "emp.show()"
      ],
      "metadata": {
        "colab": {
          "base_uri": "https://localhost:8080/"
        },
        "id": "UXcjqsmVyRe-",
        "outputId": "5dac1182-3003-43b0-f7fe-149b79fb2862"
      },
      "execution_count": null,
      "outputs": [
        {
          "output_type": "stream",
          "name": "stdout",
          "text": [
            "Name:  Jeeet Salary:  120000\n"
          ]
        }
      ]
    },
    {
      "cell_type": "code",
      "source": [
        "emp.work()"
      ],
      "metadata": {
        "colab": {
          "base_uri": "https://localhost:8080/"
        },
        "id": "kgrMaQKXyTfR",
        "outputId": "f4e86d09-af11-4700-f487-a1af8d6f5a5b"
      },
      "execution_count": null,
      "outputs": [
        {
          "output_type": "stream",
          "name": "stdout",
          "text": [
            "Name:  Jeeet Project:  CNN\n"
          ]
        }
      ]
    },
    {
      "cell_type": "code",
      "source": [
        "emp.salary=150000"
      ],
      "metadata": {
        "id": "ORu6sJ-a4ikp"
      },
      "execution_count": null,
      "outputs": []
    },
    {
      "cell_type": "code",
      "source": [
        "emp.work()"
      ],
      "metadata": {
        "id": "ei5xSvg14tsp",
        "outputId": "923ba0b2-6707-4db0-9ed2-13fdeef1c981",
        "colab": {
          "base_uri": "https://localhost:8080/"
        }
      },
      "execution_count": null,
      "outputs": [
        {
          "output_type": "stream",
          "name": "stdout",
          "text": [
            "Name:  Jeeet Project:  CNN\n"
          ]
        }
      ]
    },
    {
      "cell_type": "code",
      "source": [
        "emp.show()"
      ],
      "metadata": {
        "id": "fRJT2KVQ4vbk",
        "outputId": "1e7300f2-b555-464c-82ad-960af13aa869",
        "colab": {
          "base_uri": "https://localhost:8080/"
        }
      },
      "execution_count": null,
      "outputs": [
        {
          "output_type": "stream",
          "name": "stdout",
          "text": [
            "Name:  Jeeet Salary:  150000\n"
          ]
        }
      ]
    },
    {
      "cell_type": "code",
      "source": [
        "class Employee:\n",
        "  def __init__(self,name,salary,project):\n",
        "    self.name=name\n",
        "    self.__salary=salary\n",
        "    self.project=project\n",
        "\n",
        "  def show(self):\n",
        "    print(\"Name: \",self.name,\"Salary: \",self.salary)\n",
        "\n",
        "  def work(self):\n",
        "    print(\"Name: \",self.name,\"Project: \",self.project)\n",
        "\n",
        "emp=Employee(\"Jeeet\",120000,\"CNN\")"
      ],
      "metadata": {
        "id": "LwwHr5bP4xmT"
      },
      "execution_count": null,
      "outputs": []
    },
    {
      "cell_type": "code",
      "source": [
        "emp=Employee(\"jeeet\",12000,\"XYZ\")"
      ],
      "metadata": {
        "id": "QgfQXzbakdlk"
      },
      "execution_count": null,
      "outputs": []
    },
    {
      "cell_type": "code",
      "source": [
        "emp.show()"
      ],
      "metadata": {
        "colab": {
          "base_uri": "https://localhost:8080/",
          "height": 287
        },
        "id": "q5cygm0XktOL",
        "outputId": "2c32b292-12af-4132-8c89-169337bed0ee"
      },
      "execution_count": null,
      "outputs": [
        {
          "output_type": "error",
          "ename": "AttributeError",
          "evalue": "ignored",
          "traceback": [
            "\u001b[0;31m---------------------------------------------------------------------------\u001b[0m",
            "\u001b[0;31mAttributeError\u001b[0m                            Traceback (most recent call last)",
            "\u001b[0;32m<ipython-input-3-30f515531fb8>\u001b[0m in \u001b[0;36m<module>\u001b[0;34m()\u001b[0m\n\u001b[0;32m----> 1\u001b[0;31m \u001b[0memp\u001b[0m\u001b[0;34m.\u001b[0m\u001b[0mshow\u001b[0m\u001b[0;34m(\u001b[0m\u001b[0;34m)\u001b[0m\u001b[0;34m\u001b[0m\u001b[0;34m\u001b[0m\u001b[0m\n\u001b[0m",
            "\u001b[0;32m<ipython-input-1-82edb1ea7fb8>\u001b[0m in \u001b[0;36mshow\u001b[0;34m(self)\u001b[0m\n\u001b[1;32m      6\u001b[0m \u001b[0;34m\u001b[0m\u001b[0m\n\u001b[1;32m      7\u001b[0m   \u001b[0;32mdef\u001b[0m \u001b[0mshow\u001b[0m\u001b[0;34m(\u001b[0m\u001b[0mself\u001b[0m\u001b[0;34m)\u001b[0m\u001b[0;34m:\u001b[0m\u001b[0;34m\u001b[0m\u001b[0;34m\u001b[0m\u001b[0m\n\u001b[0;32m----> 8\u001b[0;31m     \u001b[0mprint\u001b[0m\u001b[0;34m(\u001b[0m\u001b[0;34m\"Name: \"\u001b[0m\u001b[0;34m,\u001b[0m\u001b[0mself\u001b[0m\u001b[0;34m.\u001b[0m\u001b[0mname\u001b[0m\u001b[0;34m,\u001b[0m\u001b[0;34m\"Salary: \"\u001b[0m\u001b[0;34m,\u001b[0m\u001b[0mself\u001b[0m\u001b[0;34m.\u001b[0m\u001b[0msalary\u001b[0m\u001b[0;34m)\u001b[0m\u001b[0;34m\u001b[0m\u001b[0;34m\u001b[0m\u001b[0m\n\u001b[0m\u001b[1;32m      9\u001b[0m \u001b[0;34m\u001b[0m\u001b[0m\n\u001b[1;32m     10\u001b[0m   \u001b[0;32mdef\u001b[0m \u001b[0mwork\u001b[0m\u001b[0;34m(\u001b[0m\u001b[0mself\u001b[0m\u001b[0;34m)\u001b[0m\u001b[0;34m:\u001b[0m\u001b[0;34m\u001b[0m\u001b[0;34m\u001b[0m\u001b[0m\n",
            "\u001b[0;31mAttributeError\u001b[0m: 'Employee' object has no attribute 'salary'"
          ]
        }
      ]
    },
    {
      "cell_type": "code",
      "source": [
        "emp.__salary"
      ],
      "metadata": {
        "colab": {
          "base_uri": "https://localhost:8080/",
          "height": 166
        },
        "id": "eBXgUQ8UkwGB",
        "outputId": "038ce43f-5a58-420c-f39c-435acd07ca1c"
      },
      "execution_count": null,
      "outputs": [
        {
          "output_type": "error",
          "ename": "AttributeError",
          "evalue": "ignored",
          "traceback": [
            "\u001b[0;31m---------------------------------------------------------------------------\u001b[0m",
            "\u001b[0;31mAttributeError\u001b[0m                            Traceback (most recent call last)",
            "\u001b[0;32m<ipython-input-4-43602724f83f>\u001b[0m in \u001b[0;36m<module>\u001b[0;34m()\u001b[0m\n\u001b[0;32m----> 1\u001b[0;31m \u001b[0memp\u001b[0m\u001b[0;34m.\u001b[0m\u001b[0m__salary\u001b[0m\u001b[0;34m\u001b[0m\u001b[0;34m\u001b[0m\u001b[0m\n\u001b[0m",
            "\u001b[0;31mAttributeError\u001b[0m: 'Employee' object has no attribute '__salary'"
          ]
        }
      ]
    },
    {
      "cell_type": "code",
      "source": [
        "class Employee:\n",
        "  def __init__(self,name,salary,project):\n",
        "    self.name=name\n",
        "    self.__salary=salary\n",
        "    self.project=project\n",
        "\n",
        "  def show(self):\n",
        "    print(\"Name: \",self.name,\"Salary: \",self.__salary)\n",
        "\n",
        "  def work(self):\n",
        "    print(\"Name: \",self.name,\"Project: \",self.project)\n",
        "\n",
        "emp=Employee(\"Jeeet\",120000,\"CNN\")"
      ],
      "metadata": {
        "id": "26K2MjnZk0_v"
      },
      "execution_count": null,
      "outputs": []
    },
    {
      "cell_type": "code",
      "source": [
        "emp=Employee(\"Jeeet\",1345790,\"abc\")"
      ],
      "metadata": {
        "id": "Pxlb-q4Blt-3"
      },
      "execution_count": null,
      "outputs": []
    },
    {
      "cell_type": "code",
      "source": [
        "emp.show()"
      ],
      "metadata": {
        "colab": {
          "base_uri": "https://localhost:8080/"
        },
        "id": "Sz_f3EVHl1-j",
        "outputId": "62fea7aa-9136-4aa8-faa7-68c93d15ada8"
      },
      "execution_count": null,
      "outputs": [
        {
          "output_type": "stream",
          "name": "stdout",
          "text": [
            "Name:  Jeeet Salary:  1345790\n"
          ]
        }
      ]
    },
    {
      "cell_type": "code",
      "source": [
        "emp.__salary"
      ],
      "metadata": {
        "colab": {
          "base_uri": "https://localhost:8080/",
          "height": 166
        },
        "id": "ewcYfAO4l3gB",
        "outputId": "e1d8d4c5-2385-42fe-a0ae-56117d7e4203"
      },
      "execution_count": null,
      "outputs": [
        {
          "output_type": "error",
          "ename": "AttributeError",
          "evalue": "ignored",
          "traceback": [
            "\u001b[0;31m---------------------------------------------------------------------------\u001b[0m",
            "\u001b[0;31mAttributeError\u001b[0m                            Traceback (most recent call last)",
            "\u001b[0;32m<ipython-input-9-43602724f83f>\u001b[0m in \u001b[0;36m<module>\u001b[0;34m()\u001b[0m\n\u001b[0;32m----> 1\u001b[0;31m \u001b[0memp\u001b[0m\u001b[0;34m.\u001b[0m\u001b[0m__salary\u001b[0m\u001b[0;34m\u001b[0m\u001b[0;34m\u001b[0m\u001b[0m\n\u001b[0m",
            "\u001b[0;31mAttributeError\u001b[0m: 'Employee' object has no attribute '__salary'"
          ]
        }
      ]
    },
    {
      "cell_type": "code",
      "source": [
        "class Employee:\n",
        "  def __init__(self,name,salary,project):\n",
        "    self.name=name\n",
        "    self.__salary=salary\n",
        "    self.project=project\n",
        "\n",
        "  def set_salary(self,salary):\n",
        "    self.__salary=salary\n",
        "\n",
        "  def get_salary(self):\n",
        "    return self.__salary\n",
        "\n",
        "  def work(self):\n",
        "    print(\"Name: \",self.name,\"Project: \",self.project)\n",
        "\n",
        "emp=Employee(\"Jeeet\",120000,\"CNN\")"
      ],
      "metadata": {
        "id": "fGHsgkdal7i0"
      },
      "execution_count": null,
      "outputs": []
    },
    {
      "cell_type": "code",
      "source": [
        "emp.set_salary(300000)\n",
        "emp.get_salary()"
      ],
      "metadata": {
        "colab": {
          "base_uri": "https://localhost:8080/"
        },
        "id": "00cPHcPKnYvQ",
        "outputId": "d69f2d7d-a31b-4a21-f058-b544733f8487"
      },
      "execution_count": null,
      "outputs": [
        {
          "output_type": "execute_result",
          "data": {
            "text/plain": [
              "300000"
            ]
          },
          "metadata": {},
          "execution_count": 11
        }
      ]
    },
    {
      "cell_type": "code",
      "source": [
        "class Student:\n",
        "  def __init__(self,name,rollno,age):\n",
        "    self.name=name\n",
        "    self.__rollno=rollno\n",
        "    self.__age=age\n",
        "\n",
        "  def set_rollno(self,rollno):\n",
        "    self.__rollno=rollno\n",
        "\n",
        "  def get_rollno(self):\n",
        "    return self.__rollno\n",
        "\n",
        "  def info(self):\n",
        "    print(self.name,self.__rollno,self.__age)"
      ],
      "metadata": {
        "id": "0XtFTXPUngMT"
      },
      "execution_count": null,
      "outputs": []
    },
    {
      "cell_type": "code",
      "source": [
        "s1=Student(\"Jeeet\",1,11)"
      ],
      "metadata": {
        "id": "oca4Dwgdz5hd"
      },
      "execution_count": null,
      "outputs": []
    },
    {
      "cell_type": "code",
      "source": [
        "s1.info()"
      ],
      "metadata": {
        "colab": {
          "base_uri": "https://localhost:8080/"
        },
        "id": "fYgyeSViz-DE",
        "outputId": "835e42c3-667b-422c-8300-8bc7770a73ec"
      },
      "execution_count": null,
      "outputs": [
        {
          "output_type": "stream",
          "name": "stdout",
          "text": [
            "Jeeet 1 11\n"
          ]
        }
      ]
    },
    {
      "cell_type": "code",
      "source": [
        "s1.name"
      ],
      "metadata": {
        "colab": {
          "base_uri": "https://localhost:8080/",
          "height": 36
        },
        "id": "LGHfvTF3z_v8",
        "outputId": "4aa031ff-7d83-46e8-c022-1197b0d0c7bb"
      },
      "execution_count": null,
      "outputs": [
        {
          "output_type": "execute_result",
          "data": {
            "text/plain": [
              "'Jeeet'"
            ],
            "application/vnd.google.colaboratory.intrinsic+json": {
              "type": "string"
            }
          },
          "metadata": {},
          "execution_count": 16
        }
      ]
    },
    {
      "cell_type": "code",
      "source": [
        "s1.__age"
      ],
      "metadata": {
        "colab": {
          "base_uri": "https://localhost:8080/",
          "height": 166
        },
        "id": "RpdnOLMm0Eew",
        "outputId": "392e27fc-476b-47a6-eb96-c6ea627a049d"
      },
      "execution_count": null,
      "outputs": [
        {
          "output_type": "error",
          "ename": "AttributeError",
          "evalue": "ignored",
          "traceback": [
            "\u001b[0;31m---------------------------------------------------------------------------\u001b[0m",
            "\u001b[0;31mAttributeError\u001b[0m                            Traceback (most recent call last)",
            "\u001b[0;32m<ipython-input-17-de92fc79f966>\u001b[0m in \u001b[0;36m<module>\u001b[0;34m()\u001b[0m\n\u001b[0;32m----> 1\u001b[0;31m \u001b[0ms1\u001b[0m\u001b[0;34m.\u001b[0m\u001b[0m__age\u001b[0m\u001b[0;34m\u001b[0m\u001b[0;34m\u001b[0m\u001b[0m\n\u001b[0m",
            "\u001b[0;31mAttributeError\u001b[0m: 'Student' object has no attribute '__age'"
          ]
        }
      ]
    },
    {
      "cell_type": "code",
      "source": [
        "s1.set_rollno(999)\n",
        "s1.get_rollno()"
      ],
      "metadata": {
        "colab": {
          "base_uri": "https://localhost:8080/"
        },
        "id": "h_fwFLDD0J1d",
        "outputId": "63fd09d6-97da-44bf-f48e-00021acb886f"
      },
      "execution_count": null,
      "outputs": [
        {
          "output_type": "execute_result",
          "data": {
            "text/plain": [
              "999"
            ]
          },
          "metadata": {},
          "execution_count": 18
        }
      ]
    },
    {
      "cell_type": "code",
      "source": [
        "s1.info()"
      ],
      "metadata": {
        "colab": {
          "base_uri": "https://localhost:8080/"
        },
        "id": "NHnQrWUL01Qj",
        "outputId": "8b239a99-4c4e-4608-857d-543a6f4e1b42"
      },
      "execution_count": null,
      "outputs": [
        {
          "output_type": "stream",
          "name": "stdout",
          "text": [
            "Jeeet 999 11\n"
          ]
        }
      ]
    },
    {
      "cell_type": "markdown",
      "source": [
        "#Inheritance"
      ],
      "metadata": {
        "id": "qOXHEj546JgB"
      }
    },
    {
      "cell_type": "markdown",
      "source": [
        "1: Single Inheritance"
      ],
      "metadata": {
        "id": "17nPN9ne6M1s"
      }
    },
    {
      "cell_type": "code",
      "source": [
        "class Vehicle:\n",
        "  wheels = 4\n",
        "\n",
        "  def Vehicle_info(self):\n",
        "    print(\"inside Vehicles\")\n",
        "\n",
        "class Car(Vehicle):\n",
        "  def car_info(self):\n",
        "    print(\"inside car\")\n",
        "\n",
        "car=Car()\n",
        "car.Vehicle_info()\n",
        "print(car.wheels)\n",
        "car.car_info()"
      ],
      "metadata": {
        "colab": {
          "base_uri": "https://localhost:8080/"
        },
        "id": "Svpc5FiS03JL",
        "outputId": "3c35ae82-1928-4ddd-9cf1-4dfbc2118fb8"
      },
      "execution_count": null,
      "outputs": [
        {
          "output_type": "stream",
          "name": "stdout",
          "text": [
            "inside Vehicles\n",
            "4\n",
            "inside car\n"
          ]
        }
      ]
    },
    {
      "cell_type": "markdown",
      "source": [
        "2: Multiple Inheritance"
      ],
      "metadata": {
        "id": "bzHTH9VuBuZ9"
      }
    },
    {
      "cell_type": "code",
      "source": [
        "class Person:\n",
        "  def person_info(self,name,age):\n",
        "    print(\"Nmae:\",name,\",Age:\",age)\n",
        "  \n",
        "class Company:\n",
        "  def company_info(self,company_name,location):\n",
        "    print(\"Name: \",company_name,\"Location: \",location)\n",
        "\n",
        "class Employee(Person,Company):\n",
        "  def employee_info(self,salary,skill):\n",
        "    print(\"Salary: \",salary,\"Skill: \",skill)\n",
        "\n",
        "emp=Employee()\n",
        "emp.person_info(\"Jeeet\",22)\n",
        "emp.employee_info(12000,\"Shell\")"
      ],
      "metadata": {
        "colab": {
          "base_uri": "https://localhost:8080/"
        },
        "id": "a5--rvfh7-no",
        "outputId": "898fdcd8-3f28-4dd2-e84e-49f575d839fe"
      },
      "execution_count": null,
      "outputs": [
        {
          "output_type": "stream",
          "name": "stdout",
          "text": [
            "Nmae: Jeeet ,Age: 22\n",
            "Salary:  12000 Skill:  Shell\n"
          ]
        }
      ]
    },
    {
      "cell_type": "markdown",
      "source": [
        "3: Multilevel Inheritance"
      ],
      "metadata": {
        "id": "dy8NBYUWaYSB"
      }
    },
    {
      "cell_type": "code",
      "source": [
        "class Vehicle:\n",
        "  def Vehicle_info(self):\n",
        "    print(\"Vehicle_info\")\n",
        "\n",
        "class Car(Vehicle):\n",
        "  def Car_info(self):\n",
        "    print(\"Car_info\")\n",
        "\n",
        "class Truck(Car):\n",
        "  def Truck_info(self):\n",
        "    print(\"Truck Info\")\n",
        "\n",
        "t1=Truck()"
      ],
      "metadata": {
        "id": "K4RUscHaCxV5"
      },
      "execution_count": 2,
      "outputs": []
    },
    {
      "cell_type": "code",
      "source": [
        "t1.Vehicle_info()"
      ],
      "metadata": {
        "colab": {
          "base_uri": "https://localhost:8080/"
        },
        "id": "QOozKLR7a7oB",
        "outputId": "15460c65-1549-4ec1-f3c9-98312629cf40"
      },
      "execution_count": 4,
      "outputs": [
        {
          "output_type": "stream",
          "name": "stdout",
          "text": [
            "Vehicle_info\n"
          ]
        }
      ]
    },
    {
      "cell_type": "code",
      "source": [
        "c1=Car()"
      ],
      "metadata": {
        "id": "M3mfhmaEbKDh"
      },
      "execution_count": 5,
      "outputs": []
    },
    {
      "cell_type": "code",
      "source": [
        "c1.Vehicle_info()"
      ],
      "metadata": {
        "colab": {
          "base_uri": "https://localhost:8080/"
        },
        "id": "qBr-CY4UbWej",
        "outputId": "efd035af-d8ce-4778-dbae-730171e7dbce"
      },
      "execution_count": 6,
      "outputs": [
        {
          "output_type": "stream",
          "name": "stdout",
          "text": [
            "Vehicle_info\n"
          ]
        }
      ]
    },
    {
      "cell_type": "markdown",
      "source": [
        "4: Hierarchical Inheritance"
      ],
      "metadata": {
        "id": "EbTehw59bcjV"
      }
    },
    {
      "cell_type": "code",
      "source": [
        "class Vehicle:\n",
        "  def vehicle_info(self):\n",
        "    print(\"vehicle info\")\n",
        "\n",
        "class Car(Vehicle):\n",
        "  def car_info(self):\n",
        "    print(\"Cra info\")\n",
        "\n",
        "class Truck(Vehicle):\n",
        "  def truck_info(self):\n",
        "    print(\"truck info\")\n",
        "\n",
        "t1=Truck()\n",
        "c1=Car()"
      ],
      "metadata": {
        "id": "kXivTrUPbZuB"
      },
      "execution_count": 7,
      "outputs": []
    },
    {
      "cell_type": "code",
      "source": [
        "c1.vehicle_info()"
      ],
      "metadata": {
        "colab": {
          "base_uri": "https://localhost:8080/"
        },
        "id": "qCHfOFo1c_Sf",
        "outputId": "09afaeab-6a65-48a3-ee8b-9b0c8cae3ce1"
      },
      "execution_count": 8,
      "outputs": [
        {
          "output_type": "stream",
          "name": "stdout",
          "text": [
            "vehicle info\n"
          ]
        }
      ]
    },
    {
      "cell_type": "code",
      "source": [
        "t1.vehicle_info()"
      ],
      "metadata": {
        "colab": {
          "base_uri": "https://localhost:8080/"
        },
        "id": "y9SFuzKodBjH",
        "outputId": "4c38e236-6991-47cb-95b6-4d31e3f53421"
      },
      "execution_count": 9,
      "outputs": [
        {
          "output_type": "stream",
          "name": "stdout",
          "text": [
            "vehicle info\n"
          ]
        }
      ]
    },
    {
      "cell_type": "markdown",
      "source": [
        "5: Hybrid Inheritance"
      ],
      "metadata": {
        "id": "HHj2of-qdfU_"
      }
    },
    {
      "cell_type": "code",
      "source": [
        "class Vehicle:\n",
        "  def vehical_info(self):\n",
        "    print(\"Vehicle info\")\n",
        "\n",
        "class Car(Vehicle):\n",
        "  def car_info(self):\n",
        "    print(\"Car info\")\n",
        "\n",
        "class Truck(Vehicle):\n",
        "  def truck_info(self):\n",
        "    print(\"Truck info\")\n",
        "\n",
        "class Sportcar(Car,Vehicle):\n",
        "  def sport_car_info(self):\n",
        "    print(\"Sport car info\")"
      ],
      "metadata": {
        "id": "Xa8OyE7TdMbJ"
      },
      "execution_count": 12,
      "outputs": []
    },
    {
      "cell_type": "code",
      "source": [
        "sc=Sportcar()"
      ],
      "metadata": {
        "id": "RvhGU5mlsk-7"
      },
      "execution_count": 13,
      "outputs": []
    },
    {
      "cell_type": "code",
      "source": [
        "sc.vehical_info()"
      ],
      "metadata": {
        "colab": {
          "base_uri": "https://localhost:8080/"
        },
        "id": "0oSseZkXswlY",
        "outputId": "a82d59a2-b867-44ed-b3a0-6be1c4dd5b8d"
      },
      "execution_count": 14,
      "outputs": [
        {
          "output_type": "stream",
          "name": "stdout",
          "text": [
            "Vehicle info\n"
          ]
        }
      ]
    },
    {
      "cell_type": "code",
      "source": [
        "sc.car_info()"
      ],
      "metadata": {
        "colab": {
          "base_uri": "https://localhost:8080/"
        },
        "id": "luv6LtG1s05i",
        "outputId": "3cf20e44-a5a4-408e-ec29-d49228246b91"
      },
      "execution_count": 15,
      "outputs": [
        {
          "output_type": "stream",
          "name": "stdout",
          "text": [
            "Car info\n"
          ]
        }
      ]
    },
    {
      "cell_type": "markdown",
      "source": [
        "##Super class"
      ],
      "metadata": {
        "id": "CrPtCtuMytZ8"
      }
    },
    {
      "cell_type": "code",
      "source": [
        "class Company:\n",
        "  def company_info(self):\n",
        "    return \"Google\"\n",
        "\n",
        "class Emp(Company):\n",
        "  def emp_info(self):\n",
        "    c_name=super().company_info()\n",
        "    print(c_name)\n",
        "\n",
        "emp=Emp()\n",
        "emp.emp_info()"
      ],
      "metadata": {
        "colab": {
          "base_uri": "https://localhost:8080/"
        },
        "id": "e9m8vo_KysZF",
        "outputId": "d24e2e49-d9f5-4c13-bdea-cd9905d6b3b0"
      },
      "execution_count": 18,
      "outputs": [
        {
          "output_type": "stream",
          "name": "stdout",
          "text": [
            "Google\n"
          ]
        }
      ]
    },
    {
      "cell_type": "code",
      "source": [
        "class Company:\n",
        "  def company_info(self):\n",
        "    return \"Google\"\n",
        "\n",
        "class Emp(Company):\n",
        "  def emp_info(self):\n",
        "    c_name=self.company_info()\n",
        "    print(c_name)\n",
        "\n",
        "emp=Emp()\n",
        "emp.emp_info()"
      ],
      "metadata": {
        "colab": {
          "base_uri": "https://localhost:8080/"
        },
        "id": "omcle0Th15VS",
        "outputId": "703f3d74-e39a-4b10-939d-43ed46c6eb8d"
      },
      "execution_count": 19,
      "outputs": [
        {
          "output_type": "stream",
          "name": "stdout",
          "text": [
            "Google\n"
          ]
        }
      ]
    },
    {
      "cell_type": "markdown",
      "source": [
        "##Method Over riding"
      ],
      "metadata": {
        "id": "CIIdCkPgwUhA"
      }
    },
    {
      "cell_type": "code",
      "source": [
        "class Vehicle:\n",
        "  def max_speed(self):\n",
        "    print(\"Max speed 100\")\n",
        "\n",
        "class Car(Vehicle):\n",
        "  def max_speed(self):\n",
        "    print(\"Max speed 200\")\n",
        "\n",
        "c1=Car()\n",
        "c1.max_speed()"
      ],
      "metadata": {
        "colab": {
          "base_uri": "https://localhost:8080/"
        },
        "id": "D63lQH3ts3bg",
        "outputId": "73e21871-f90d-4d1d-e7f1-af45cb535000"
      },
      "execution_count": 17,
      "outputs": [
        {
          "output_type": "stream",
          "name": "stdout",
          "text": [
            "Max speed 200\n"
          ]
        }
      ]
    },
    {
      "cell_type": "code",
      "source": [
        "class Vehicle:\n",
        "  def max_speed(self):\n",
        "    print(\"Max speed 100\")\n",
        "\n",
        "class Car(Vehicle):\n",
        "\n",
        "  def f(self):\n",
        "    print(super().max_speed())\n",
        "\n",
        "  def max_speed(self):\n",
        "    print(\"Max speed 200\")\n",
        "\n",
        "c1=Car()\n",
        "c1.max_speed()\n",
        "c1.f()"
      ],
      "metadata": {
        "colab": {
          "base_uri": "https://localhost:8080/"
        },
        "id": "n_y2D9dHwvYp",
        "outputId": "161ac465-9249-409e-a98d-9e4823910774"
      },
      "execution_count": 22,
      "outputs": [
        {
          "output_type": "stream",
          "name": "stdout",
          "text": [
            "Max speed 200\n",
            "Max speed 100\n",
            "None\n"
          ]
        }
      ]
    },
    {
      "cell_type": "code",
      "source": [
        ""
      ],
      "metadata": {
        "id": "RLm3bP5s4Zle"
      },
      "execution_count": null,
      "outputs": []
    }
  ]
}