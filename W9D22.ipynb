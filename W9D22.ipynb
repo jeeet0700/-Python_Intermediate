{
  "nbformat": 4,
  "nbformat_minor": 0,
  "metadata": {
    "colab": {
      "name": "W9D22.ipynb",
      "provenance": [],
      "authorship_tag": "ABX9TyOFd0AIsVCB69dDaG0LftPC",
      "include_colab_link": true
    },
    "kernelspec": {
      "name": "python3",
      "display_name": "Python 3"
    },
    "language_info": {
      "name": "python"
    }
  },
  "cells": [
    {
      "cell_type": "markdown",
      "metadata": {
        "id": "view-in-github",
        "colab_type": "text"
      },
      "source": [
        "<a href=\"https://colab.research.google.com/github/jeeet0700/Python_Intermediate/blob/main/W9D22.ipynb\" target=\"_parent\"><img src=\"https://colab.research.google.com/assets/colab-badge.svg\" alt=\"Open In Colab\"/></a>"
      ]
    },
    {
      "cell_type": "code",
      "execution_count": 4,
      "metadata": {
        "id": "nZAhil2s_iRn"
      },
      "outputs": [],
      "source": [
        "class Car:\n",
        "  def __init__(self,model,color,price):\n",
        "    self.model=model\n",
        "    self.color=color\n",
        "    self.price=price\n",
        "\n",
        "  def drive(self):\n",
        "    print(\"zoom-zoom\")\n",
        "\n",
        "c1=Car(\"Sedan\",\"Red\",120000)"
      ]
    },
    {
      "cell_type": "code",
      "source": [
        "c1.color"
      ],
      "metadata": {
        "colab": {
          "base_uri": "https://localhost:8080/",
          "height": 36
        },
        "id": "Fokdv7pVqAEz",
        "outputId": "e1c3e2a2-6b2a-4661-ad0e-4d7729e30efa"
      },
      "execution_count": 5,
      "outputs": [
        {
          "output_type": "execute_result",
          "data": {
            "text/plain": [
              "'Red'"
            ],
            "application/vnd.google.colaboratory.intrinsic+json": {
              "type": "string"
            }
          },
          "metadata": {},
          "execution_count": 5
        }
      ]
    },
    {
      "cell_type": "code",
      "source": [
        "c1.drive()"
      ],
      "metadata": {
        "colab": {
          "base_uri": "https://localhost:8080/"
        },
        "id": "hKyc2zrrqYer",
        "outputId": "fb5850ad-baa7-4067-d333-c66d61958ec9"
      },
      "execution_count": 7,
      "outputs": [
        {
          "output_type": "stream",
          "name": "stdout",
          "text": [
            "zoom-zoom\n"
          ]
        }
      ]
    },
    {
      "cell_type": "code",
      "source": [
        "c2=Car(\"Sedan\",\"Green\",'130000')"
      ],
      "metadata": {
        "id": "SJXaKtI3qt4-"
      },
      "execution_count": 8,
      "outputs": []
    },
    {
      "cell_type": "code",
      "source": [
        "c2.drive()"
      ],
      "metadata": {
        "colab": {
          "base_uri": "https://localhost:8080/"
        },
        "id": "G8-aEKtfq_rf",
        "outputId": "ba237c93-1c35-49b9-d680-ec011f2013fe"
      },
      "execution_count": 9,
      "outputs": [
        {
          "output_type": "stream",
          "name": "stdout",
          "text": [
            "zoom-zoom\n"
          ]
        }
      ]
    },
    {
      "cell_type": "code",
      "source": [
        "class Employee:\n",
        "  def __init__(self,name,salary,project):\n",
        "    self.name=name\n",
        "    self.salary=salary\n",
        "    self.project=project\n",
        "\n",
        "  def show(self):\n",
        "    print(\"Name: \",self.name,\"Salary: \",self.salary)\n",
        "\n",
        "  def work(self):\n",
        "    print(\"Name: \",self.name,\"Project: \",self.project)\n",
        "\n",
        "emp=Employee(\"Jeeet\",120000,\"CNN\")"
      ],
      "metadata": {
        "id": "EjU6kQA3rBZB"
      },
      "execution_count": 10,
      "outputs": []
    },
    {
      "cell_type": "code",
      "source": [
        "emp.show()"
      ],
      "metadata": {
        "colab": {
          "base_uri": "https://localhost:8080/"
        },
        "id": "UXcjqsmVyRe-",
        "outputId": "dda69d76-3668-4725-e4f7-a4ab49a5a69e"
      },
      "execution_count": 11,
      "outputs": [
        {
          "output_type": "stream",
          "name": "stdout",
          "text": [
            "Name:  Jeeet Salary:  120000\n"
          ]
        }
      ]
    },
    {
      "cell_type": "code",
      "source": [
        "emp."
      ],
      "metadata": {
        "id": "kgrMaQKXyTfR"
      },
      "execution_count": null,
      "outputs": []
    },
    {
      "cell_type": "code",
      "source": [
        ""
      ],
      "metadata": {
        "id": "I5bgAera2eqf"
      },
      "execution_count": null,
      "outputs": []
    }
  ]
}