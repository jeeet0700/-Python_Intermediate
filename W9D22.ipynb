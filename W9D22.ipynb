{
  "nbformat": 4,
  "nbformat_minor": 0,
  "metadata": {
    "colab": {
      "name": "W9D22.ipynb",
      "provenance": [],
      "authorship_tag": "ABX9TyMF27RfOpRiAj1KDrqTEtO3",
      "include_colab_link": true
    },
    "kernelspec": {
      "name": "python3",
      "display_name": "Python 3"
    },
    "language_info": {
      "name": "python"
    }
  },
  "cells": [
    {
      "cell_type": "markdown",
      "metadata": {
        "id": "view-in-github",
        "colab_type": "text"
      },
      "source": [
        "<a href=\"https://colab.research.google.com/github/jeeet0700/Python_Intermediate/blob/main/W9D22.ipynb\" target=\"_parent\"><img src=\"https://colab.research.google.com/assets/colab-badge.svg\" alt=\"Open In Colab\"/></a>"
      ]
    },
    {
      "cell_type": "code",
      "execution_count": null,
      "metadata": {
        "id": "nZAhil2s_iRn"
      },
      "outputs": [],
      "source": [
        "class Car:\n",
        "  def __init__(self,model,color,price):\n",
        "    self.model=model\n",
        "    self.color=color\n",
        "    self.price=price\n",
        "\n",
        "  def drive(self):\n",
        "    print(\"zoom-zoom\")\n",
        "\n",
        "c1=Car(\"Sedan\",\"Red\",120000)"
      ]
    },
    {
      "cell_type": "code",
      "source": [
        "c1.color"
      ],
      "metadata": {
        "colab": {
          "base_uri": "https://localhost:8080/",
          "height": 36
        },
        "id": "Fokdv7pVqAEz",
        "outputId": "dcce11c9-b8d8-486a-fef0-38933c55b3c9"
      },
      "execution_count": null,
      "outputs": [
        {
          "output_type": "execute_result",
          "data": {
            "text/plain": [
              "'Red'"
            ],
            "application/vnd.google.colaboratory.intrinsic+json": {
              "type": "string"
            }
          },
          "metadata": {},
          "execution_count": 24
        }
      ]
    },
    {
      "cell_type": "code",
      "source": [
        "c1.drive()"
      ],
      "metadata": {
        "colab": {
          "base_uri": "https://localhost:8080/"
        },
        "id": "hKyc2zrrqYer",
        "outputId": "1abe4e4d-276c-4621-97ec-547147a100c5"
      },
      "execution_count": null,
      "outputs": [
        {
          "output_type": "stream",
          "name": "stdout",
          "text": [
            "zoom-zoom\n"
          ]
        }
      ]
    },
    {
      "cell_type": "code",
      "source": [
        "c2=Car(\"Sedan\",\"Green\",'130000')"
      ],
      "metadata": {
        "id": "SJXaKtI3qt4-"
      },
      "execution_count": null,
      "outputs": []
    },
    {
      "cell_type": "code",
      "source": [
        "c2.drive()"
      ],
      "metadata": {
        "colab": {
          "base_uri": "https://localhost:8080/"
        },
        "id": "G8-aEKtfq_rf",
        "outputId": "7571e44c-c670-43ab-abd3-19af21ca3910"
      },
      "execution_count": null,
      "outputs": [
        {
          "output_type": "stream",
          "name": "stdout",
          "text": [
            "zoom-zoom\n"
          ]
        }
      ]
    },
    {
      "cell_type": "code",
      "source": [
        "class Employee:\n",
        "  def __init__(self,name,salary,project):\n",
        "    self.name=name\n",
        "    self.salary=salary\n",
        "    self.project=project\n",
        "\n",
        "  def show(self):\n",
        "    print(\"Name: \",self.name,\"Salary: \",self.salary)\n",
        "\n",
        "  def work(self):\n",
        "    print(\"Name: \",self.name,\"Project: \",self.project)\n",
        "\n",
        "emp=Employee(\"Jeeet\",120000,\"CNN\")"
      ],
      "metadata": {
        "id": "EjU6kQA3rBZB"
      },
      "execution_count": null,
      "outputs": []
    },
    {
      "cell_type": "code",
      "source": [
        "emp.show()"
      ],
      "metadata": {
        "colab": {
          "base_uri": "https://localhost:8080/"
        },
        "id": "UXcjqsmVyRe-",
        "outputId": "5dac1182-3003-43b0-f7fe-149b79fb2862"
      },
      "execution_count": null,
      "outputs": [
        {
          "output_type": "stream",
          "name": "stdout",
          "text": [
            "Name:  Jeeet Salary:  120000\n"
          ]
        }
      ]
    },
    {
      "cell_type": "code",
      "source": [
        "emp.work()"
      ],
      "metadata": {
        "colab": {
          "base_uri": "https://localhost:8080/"
        },
        "id": "kgrMaQKXyTfR",
        "outputId": "f4e86d09-af11-4700-f487-a1af8d6f5a5b"
      },
      "execution_count": null,
      "outputs": [
        {
          "output_type": "stream",
          "name": "stdout",
          "text": [
            "Name:  Jeeet Project:  CNN\n"
          ]
        }
      ]
    },
    {
      "cell_type": "code",
      "source": [
        "emp.salary=150000"
      ],
      "metadata": {
        "id": "ORu6sJ-a4ikp"
      },
      "execution_count": null,
      "outputs": []
    },
    {
      "cell_type": "code",
      "source": [
        "emp.work()"
      ],
      "metadata": {
        "id": "ei5xSvg14tsp",
        "outputId": "923ba0b2-6707-4db0-9ed2-13fdeef1c981",
        "colab": {
          "base_uri": "https://localhost:8080/"
        }
      },
      "execution_count": null,
      "outputs": [
        {
          "output_type": "stream",
          "name": "stdout",
          "text": [
            "Name:  Jeeet Project:  CNN\n"
          ]
        }
      ]
    },
    {
      "cell_type": "code",
      "source": [
        "emp.show()"
      ],
      "metadata": {
        "id": "fRJT2KVQ4vbk",
        "outputId": "1e7300f2-b555-464c-82ad-960af13aa869",
        "colab": {
          "base_uri": "https://localhost:8080/"
        }
      },
      "execution_count": null,
      "outputs": [
        {
          "output_type": "stream",
          "name": "stdout",
          "text": [
            "Name:  Jeeet Salary:  150000\n"
          ]
        }
      ]
    },
    {
      "cell_type": "code",
      "source": [
        "class Employee:\n",
        "  def __init__(self,name,salary,project):\n",
        "    self.name=name\n",
        "    self.__salary=salary\n",
        "    self.project=project\n",
        "\n",
        "  def show(self):\n",
        "    print(\"Name: \",self.name,\"Salary: \",self.salary)\n",
        "\n",
        "  def work(self):\n",
        "    print(\"Name: \",self.name,\"Project: \",self.project)\n",
        "\n",
        "emp=Employee(\"Jeeet\",120000,\"CNN\")"
      ],
      "metadata": {
        "id": "LwwHr5bP4xmT"
      },
      "execution_count": 1,
      "outputs": []
    },
    {
      "cell_type": "code",
      "source": [
        "emp=Employee(\"jeeet\",12000,\"XYZ\")"
      ],
      "metadata": {
        "id": "QgfQXzbakdlk"
      },
      "execution_count": 2,
      "outputs": []
    },
    {
      "cell_type": "code",
      "source": [
        "emp.show()"
      ],
      "metadata": {
        "colab": {
          "base_uri": "https://localhost:8080/",
          "height": 287
        },
        "id": "q5cygm0XktOL",
        "outputId": "2c32b292-12af-4132-8c89-169337bed0ee"
      },
      "execution_count": 3,
      "outputs": [
        {
          "output_type": "error",
          "ename": "AttributeError",
          "evalue": "ignored",
          "traceback": [
            "\u001b[0;31m---------------------------------------------------------------------------\u001b[0m",
            "\u001b[0;31mAttributeError\u001b[0m                            Traceback (most recent call last)",
            "\u001b[0;32m<ipython-input-3-30f515531fb8>\u001b[0m in \u001b[0;36m<module>\u001b[0;34m()\u001b[0m\n\u001b[0;32m----> 1\u001b[0;31m \u001b[0memp\u001b[0m\u001b[0;34m.\u001b[0m\u001b[0mshow\u001b[0m\u001b[0;34m(\u001b[0m\u001b[0;34m)\u001b[0m\u001b[0;34m\u001b[0m\u001b[0;34m\u001b[0m\u001b[0m\n\u001b[0m",
            "\u001b[0;32m<ipython-input-1-82edb1ea7fb8>\u001b[0m in \u001b[0;36mshow\u001b[0;34m(self)\u001b[0m\n\u001b[1;32m      6\u001b[0m \u001b[0;34m\u001b[0m\u001b[0m\n\u001b[1;32m      7\u001b[0m   \u001b[0;32mdef\u001b[0m \u001b[0mshow\u001b[0m\u001b[0;34m(\u001b[0m\u001b[0mself\u001b[0m\u001b[0;34m)\u001b[0m\u001b[0;34m:\u001b[0m\u001b[0;34m\u001b[0m\u001b[0;34m\u001b[0m\u001b[0m\n\u001b[0;32m----> 8\u001b[0;31m     \u001b[0mprint\u001b[0m\u001b[0;34m(\u001b[0m\u001b[0;34m\"Name: \"\u001b[0m\u001b[0;34m,\u001b[0m\u001b[0mself\u001b[0m\u001b[0;34m.\u001b[0m\u001b[0mname\u001b[0m\u001b[0;34m,\u001b[0m\u001b[0;34m\"Salary: \"\u001b[0m\u001b[0;34m,\u001b[0m\u001b[0mself\u001b[0m\u001b[0;34m.\u001b[0m\u001b[0msalary\u001b[0m\u001b[0;34m)\u001b[0m\u001b[0;34m\u001b[0m\u001b[0;34m\u001b[0m\u001b[0m\n\u001b[0m\u001b[1;32m      9\u001b[0m \u001b[0;34m\u001b[0m\u001b[0m\n\u001b[1;32m     10\u001b[0m   \u001b[0;32mdef\u001b[0m \u001b[0mwork\u001b[0m\u001b[0;34m(\u001b[0m\u001b[0mself\u001b[0m\u001b[0;34m)\u001b[0m\u001b[0;34m:\u001b[0m\u001b[0;34m\u001b[0m\u001b[0;34m\u001b[0m\u001b[0m\n",
            "\u001b[0;31mAttributeError\u001b[0m: 'Employee' object has no attribute 'salary'"
          ]
        }
      ]
    },
    {
      "cell_type": "code",
      "source": [
        "emp.__salary"
      ],
      "metadata": {
        "colab": {
          "base_uri": "https://localhost:8080/",
          "height": 166
        },
        "id": "eBXgUQ8UkwGB",
        "outputId": "038ce43f-5a58-420c-f39c-435acd07ca1c"
      },
      "execution_count": 4,
      "outputs": [
        {
          "output_type": "error",
          "ename": "AttributeError",
          "evalue": "ignored",
          "traceback": [
            "\u001b[0;31m---------------------------------------------------------------------------\u001b[0m",
            "\u001b[0;31mAttributeError\u001b[0m                            Traceback (most recent call last)",
            "\u001b[0;32m<ipython-input-4-43602724f83f>\u001b[0m in \u001b[0;36m<module>\u001b[0;34m()\u001b[0m\n\u001b[0;32m----> 1\u001b[0;31m \u001b[0memp\u001b[0m\u001b[0;34m.\u001b[0m\u001b[0m__salary\u001b[0m\u001b[0;34m\u001b[0m\u001b[0;34m\u001b[0m\u001b[0m\n\u001b[0m",
            "\u001b[0;31mAttributeError\u001b[0m: 'Employee' object has no attribute '__salary'"
          ]
        }
      ]
    },
    {
      "cell_type": "code",
      "source": [
        "class Employee:\n",
        "  def __init__(self,name,salary,project):\n",
        "    self.name=name\n",
        "    self.__salary=salary\n",
        "    self.project=project\n",
        "\n",
        "  def show(self):\n",
        "    print(\"Name: \",self.name,\"Salary: \",self.__salary)\n",
        "\n",
        "  def work(self):\n",
        "    print(\"Name: \",self.name,\"Project: \",self.project)\n",
        "\n",
        "emp=Employee(\"Jeeet\",120000,\"CNN\")"
      ],
      "metadata": {
        "id": "26K2MjnZk0_v"
      },
      "execution_count": 6,
      "outputs": []
    },
    {
      "cell_type": "code",
      "source": [
        "emp=Employee(\"Jeeet\",1345790,\"abc\")"
      ],
      "metadata": {
        "id": "Pxlb-q4Blt-3"
      },
      "execution_count": 7,
      "outputs": []
    },
    {
      "cell_type": "code",
      "source": [
        "emp.show()"
      ],
      "metadata": {
        "colab": {
          "base_uri": "https://localhost:8080/"
        },
        "id": "Sz_f3EVHl1-j",
        "outputId": "62fea7aa-9136-4aa8-faa7-68c93d15ada8"
      },
      "execution_count": 8,
      "outputs": [
        {
          "output_type": "stream",
          "name": "stdout",
          "text": [
            "Name:  Jeeet Salary:  1345790\n"
          ]
        }
      ]
    },
    {
      "cell_type": "code",
      "source": [
        "emp.__salary"
      ],
      "metadata": {
        "colab": {
          "base_uri": "https://localhost:8080/",
          "height": 166
        },
        "id": "ewcYfAO4l3gB",
        "outputId": "e1d8d4c5-2385-42fe-a0ae-56117d7e4203"
      },
      "execution_count": 9,
      "outputs": [
        {
          "output_type": "error",
          "ename": "AttributeError",
          "evalue": "ignored",
          "traceback": [
            "\u001b[0;31m---------------------------------------------------------------------------\u001b[0m",
            "\u001b[0;31mAttributeError\u001b[0m                            Traceback (most recent call last)",
            "\u001b[0;32m<ipython-input-9-43602724f83f>\u001b[0m in \u001b[0;36m<module>\u001b[0;34m()\u001b[0m\n\u001b[0;32m----> 1\u001b[0;31m \u001b[0memp\u001b[0m\u001b[0;34m.\u001b[0m\u001b[0m__salary\u001b[0m\u001b[0;34m\u001b[0m\u001b[0;34m\u001b[0m\u001b[0m\n\u001b[0m",
            "\u001b[0;31mAttributeError\u001b[0m: 'Employee' object has no attribute '__salary'"
          ]
        }
      ]
    },
    {
      "cell_type": "code",
      "source": [
        "class Employee:\n",
        "  def __init__(self,name,salary,project):\n",
        "    self.name=name\n",
        "    self.__salary=salary\n",
        "    self.project=project\n",
        "\n",
        "  def set_salary(self,salary):\n",
        "    self.__salary=salary\n",
        "\n",
        "  def get_salary(self):\n",
        "    return self.__salary\n",
        "\n",
        "  def work(self):\n",
        "    print(\"Name: \",self.name,\"Project: \",self.project)\n",
        "\n",
        "emp=Employee(\"Jeeet\",120000,\"CNN\")"
      ],
      "metadata": {
        "id": "fGHsgkdal7i0"
      },
      "execution_count": 10,
      "outputs": []
    },
    {
      "cell_type": "code",
      "source": [
        "emp.set_salary(300000)\n",
        "emp.get_salary()"
      ],
      "metadata": {
        "colab": {
          "base_uri": "https://localhost:8080/"
        },
        "id": "00cPHcPKnYvQ",
        "outputId": "d69f2d7d-a31b-4a21-f058-b544733f8487"
      },
      "execution_count": 11,
      "outputs": [
        {
          "output_type": "execute_result",
          "data": {
            "text/plain": [
              "300000"
            ]
          },
          "metadata": {},
          "execution_count": 11
        }
      ]
    },
    {
      "cell_type": "code",
      "source": [
        "class Student:\n",
        "  def __init__(self,name,rollno,age):\n",
        "    self.name=name\n",
        "    self.__rollno=rollno\n",
        "    self.__age=age\n",
        "\n",
        "  def set_rollno(self,rollno):\n",
        "    self.__rollno=rollno\n",
        "\n",
        "  def get_rollno(self):\n",
        "    return self.__rollno\n",
        "\n",
        "  def info(self):\n",
        "    print(self.name,self.__rollno,self.__age)"
      ],
      "metadata": {
        "id": "0XtFTXPUngMT"
      },
      "execution_count": 12,
      "outputs": []
    },
    {
      "cell_type": "code",
      "source": [
        "s1=Student(\"Jeeet\",1,11)"
      ],
      "metadata": {
        "id": "oca4Dwgdz5hd"
      },
      "execution_count": 13,
      "outputs": []
    },
    {
      "cell_type": "code",
      "source": [
        "s1.info()"
      ],
      "metadata": {
        "colab": {
          "base_uri": "https://localhost:8080/"
        },
        "id": "fYgyeSViz-DE",
        "outputId": "835e42c3-667b-422c-8300-8bc7770a73ec"
      },
      "execution_count": 14,
      "outputs": [
        {
          "output_type": "stream",
          "name": "stdout",
          "text": [
            "Jeeet 1 11\n"
          ]
        }
      ]
    },
    {
      "cell_type": "code",
      "source": [
        "s1.name"
      ],
      "metadata": {
        "colab": {
          "base_uri": "https://localhost:8080/",
          "height": 36
        },
        "id": "LGHfvTF3z_v8",
        "outputId": "4aa031ff-7d83-46e8-c022-1197b0d0c7bb"
      },
      "execution_count": 16,
      "outputs": [
        {
          "output_type": "execute_result",
          "data": {
            "text/plain": [
              "'Jeeet'"
            ],
            "application/vnd.google.colaboratory.intrinsic+json": {
              "type": "string"
            }
          },
          "metadata": {},
          "execution_count": 16
        }
      ]
    },
    {
      "cell_type": "code",
      "source": [
        "s1.__age"
      ],
      "metadata": {
        "colab": {
          "base_uri": "https://localhost:8080/",
          "height": 166
        },
        "id": "RpdnOLMm0Eew",
        "outputId": "392e27fc-476b-47a6-eb96-c6ea627a049d"
      },
      "execution_count": 17,
      "outputs": [
        {
          "output_type": "error",
          "ename": "AttributeError",
          "evalue": "ignored",
          "traceback": [
            "\u001b[0;31m---------------------------------------------------------------------------\u001b[0m",
            "\u001b[0;31mAttributeError\u001b[0m                            Traceback (most recent call last)",
            "\u001b[0;32m<ipython-input-17-de92fc79f966>\u001b[0m in \u001b[0;36m<module>\u001b[0;34m()\u001b[0m\n\u001b[0;32m----> 1\u001b[0;31m \u001b[0ms1\u001b[0m\u001b[0;34m.\u001b[0m\u001b[0m__age\u001b[0m\u001b[0;34m\u001b[0m\u001b[0;34m\u001b[0m\u001b[0m\n\u001b[0m",
            "\u001b[0;31mAttributeError\u001b[0m: 'Student' object has no attribute '__age'"
          ]
        }
      ]
    },
    {
      "cell_type": "code",
      "source": [
        "s1.set_rollno(999)\n",
        "s1.get_rollno()"
      ],
      "metadata": {
        "colab": {
          "base_uri": "https://localhost:8080/"
        },
        "id": "h_fwFLDD0J1d",
        "outputId": "63fd09d6-97da-44bf-f48e-00021acb886f"
      },
      "execution_count": 18,
      "outputs": [
        {
          "output_type": "execute_result",
          "data": {
            "text/plain": [
              "999"
            ]
          },
          "metadata": {},
          "execution_count": 18
        }
      ]
    },
    {
      "cell_type": "code",
      "source": [
        "s1.info()"
      ],
      "metadata": {
        "colab": {
          "base_uri": "https://localhost:8080/"
        },
        "id": "NHnQrWUL01Qj",
        "outputId": "8b239a99-4c4e-4608-857d-543a6f4e1b42"
      },
      "execution_count": 19,
      "outputs": [
        {
          "output_type": "stream",
          "name": "stdout",
          "text": [
            "Jeeet 999 11\n"
          ]
        }
      ]
    },
    {
      "cell_type": "code",
      "source": [
        ""
      ],
      "metadata": {
        "id": "Svpc5FiS03JL"
      },
      "execution_count": null,
      "outputs": []
    }
  ]
}