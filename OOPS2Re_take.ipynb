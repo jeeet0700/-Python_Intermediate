{
  "nbformat": 4,
  "nbformat_minor": 0,
  "metadata": {
    "colab": {
      "name": "OOPS2Re-take.ipynb",
      "provenance": [],
      "authorship_tag": "ABX9TyNWTJF8HFe+bJxFruSpEqY7",
      "include_colab_link": true
    },
    "kernelspec": {
      "name": "python3",
      "display_name": "Python 3"
    },
    "language_info": {
      "name": "python"
    }
  },
  "cells": [
    {
      "cell_type": "markdown",
      "metadata": {
        "id": "view-in-github",
        "colab_type": "text"
      },
      "source": [
        "<a href=\"https://colab.research.google.com/github/jeeet0700/Python_Intermediate/blob/main/OOPS2Re_take.ipynb\" target=\"_parent\"><img src=\"https://colab.research.google.com/assets/colab-badge.svg\" alt=\"Open In Colab\"/></a>"
      ]
    },
    {
      "cell_type": "code",
      "source": [
        "class Car:\n",
        "  def __init__(self,model,color,price):\n",
        "    self.model=model\n",
        "    self.color=color\n",
        "    self.price=price\n",
        "\n",
        "  def drive(self):\n",
        "    print(\"Jhooom\")\n",
        "\n",
        "c1=Car(\"Sedan\",\"Red\",12345)\n",
        "c1.price"
      ],
      "metadata": {
        "colab": {
          "base_uri": "https://localhost:8080/"
        },
        "id": "2fr2isUYYkAi",
        "outputId": "0a63170e-685d-4d91-e815-ab7c6f1673bb"
      },
      "execution_count": 25,
      "outputs": [
        {
          "output_type": "execute_result",
          "data": {
            "text/plain": [
              "12345"
            ]
          },
          "metadata": {},
          "execution_count": 25
        }
      ]
    },
    {
      "cell_type": "code",
      "execution_count": 2,
      "metadata": {
        "colab": {
          "base_uri": "https://localhost:8080/"
        },
        "id": "qWqH15lSKO5q",
        "outputId": "b2af9e85-9241-4418-8c15-ea1afb83fa97"
      },
      "outputs": [
        {
          "output_type": "execute_result",
          "data": {
            "text/plain": [
              "int"
            ]
          },
          "metadata": {},
          "execution_count": 2
        }
      ],
      "source": [
        "type(c1.price)"
      ]
    },
    {
      "cell_type": "code",
      "source": [
        "c1.color"
      ],
      "metadata": {
        "colab": {
          "base_uri": "https://localhost:8080/",
          "height": 35
        },
        "id": "cu3NZd2c4EWE",
        "outputId": "0d063087-2a72-457a-f045-3989f2b52b09"
      },
      "execution_count": 26,
      "outputs": [
        {
          "output_type": "execute_result",
          "data": {
            "text/plain": [
              "'Red'"
            ],
            "application/vnd.google.colaboratory.intrinsic+json": {
              "type": "string"
            }
          },
          "metadata": {},
          "execution_count": 26
        }
      ]
    },
    {
      "cell_type": "code",
      "source": [
        "c1.color=\"Black\""
      ],
      "metadata": {
        "id": "hREdFppz4KAp"
      },
      "execution_count": 27,
      "outputs": []
    },
    {
      "cell_type": "code",
      "source": [
        "c1.color"
      ],
      "metadata": {
        "colab": {
          "base_uri": "https://localhost:8080/",
          "height": 35
        },
        "id": "2O9SAc6d4Nd_",
        "outputId": "39565da5-ac18-434e-fec6-466ebcff3607"
      },
      "execution_count": 28,
      "outputs": [
        {
          "output_type": "execute_result",
          "data": {
            "text/plain": [
              "'Black'"
            ],
            "application/vnd.google.colaboratory.intrinsic+json": {
              "type": "string"
            }
          },
          "metadata": {},
          "execution_count": 28
        }
      ]
    },
    {
      "cell_type": "code",
      "source": [
        "class Emp:\n",
        "  def __init__(self,name,salary,project):\n",
        "    self.name=name\n",
        "    self.salary=salary\n",
        "    self.project=project\n",
        "\n",
        "  def show(self):\n",
        "    print(self.name,self.salary)\n",
        "\n",
        "  def work(self):\n",
        "    print(self.name,self.project)"
      ],
      "metadata": {
        "id": "eY9xQeVdaAtC"
      },
      "execution_count": 3,
      "outputs": []
    },
    {
      "cell_type": "code",
      "source": [
        "e1=Emp(\"jeeet\",12345,\"NLP\")\n",
        "e1.show()"
      ],
      "metadata": {
        "colab": {
          "base_uri": "https://localhost:8080/"
        },
        "id": "7mHrlDLharei",
        "outputId": "40530e58-2ed9-4e2e-8d1a-8d03e910060d"
      },
      "execution_count": 5,
      "outputs": [
        {
          "output_type": "stream",
          "name": "stdout",
          "text": [
            "jeeet 12345\n"
          ]
        }
      ]
    },
    {
      "cell_type": "code",
      "source": [
        "e1.name"
      ],
      "metadata": {
        "colab": {
          "base_uri": "https://localhost:8080/",
          "height": 35
        },
        "id": "UlhSi5fvay_r",
        "outputId": "f3969745-6a08-430d-815b-87f470458724"
      },
      "execution_count": 6,
      "outputs": [
        {
          "output_type": "execute_result",
          "data": {
            "text/plain": [
              "'jeeet'"
            ],
            "application/vnd.google.colaboratory.intrinsic+json": {
              "type": "string"
            }
          },
          "metadata": {},
          "execution_count": 6
        }
      ]
    },
    {
      "cell_type": "code",
      "source": [
        "class Emp:\n",
        "  def __init__(self,name,salary,project):\n",
        "    self.name=name\n",
        "    self.__salary=salary\n",
        "    self.project=project\n",
        "\n",
        "  def show(self):\n",
        "    print(self.name,self.__salary)\n",
        "\n",
        "  def work(self):\n",
        "    print(self.name,self.project)\n",
        "\n",
        "emp=Emp(\"Jeeet\",10000,\"NLP\")\n",
        "emp.show()"
      ],
      "metadata": {
        "colab": {
          "base_uri": "https://localhost:8080/"
        },
        "id": "OjL6UECwbmYO",
        "outputId": "19346a8b-8d15-47c7-8a9e-53cd6058edc1"
      },
      "execution_count": 19,
      "outputs": [
        {
          "output_type": "stream",
          "name": "stdout",
          "text": [
            "Jeeet 10000\n"
          ]
        }
      ]
    },
    {
      "cell_type": "code",
      "source": [
        "emp.__salary"
      ],
      "metadata": {
        "colab": {
          "base_uri": "https://localhost:8080/",
          "height": 166
        },
        "id": "4a54gdv4xInu",
        "outputId": "87053c52-9b6a-4e5c-a10b-16a5aedca70d"
      },
      "execution_count": 20,
      "outputs": [
        {
          "output_type": "error",
          "ename": "AttributeError",
          "evalue": "ignored",
          "traceback": [
            "\u001b[0;31m---------------------------------------------------------------------------\u001b[0m",
            "\u001b[0;31mAttributeError\u001b[0m                            Traceback (most recent call last)",
            "\u001b[0;32m<ipython-input-20-43602724f83f>\u001b[0m in \u001b[0;36m<module>\u001b[0;34m()\u001b[0m\n\u001b[0;32m----> 1\u001b[0;31m \u001b[0memp\u001b[0m\u001b[0;34m.\u001b[0m\u001b[0m__salary\u001b[0m\u001b[0;34m\u001b[0m\u001b[0;34m\u001b[0m\u001b[0m\n\u001b[0m",
            "\u001b[0;31mAttributeError\u001b[0m: 'Emp' object has no attribute '__salary'"
          ]
        }
      ]
    },
    {
      "cell_type": "code",
      "source": [
        "class Emp:\n",
        "  def __init__(self,name,salary,project):\n",
        "    self.name=name\n",
        "    self.__salary=salary\n",
        "    self.project=project\n",
        "\n",
        "  def show(self):\n",
        "    print(self.name,self.__salary)\n",
        "\n",
        "  def work(self):\n",
        "    print(self.name,self.project)\n",
        "\n",
        "emp=Emp(\"Jeeet\",10000,\"NLP\")\n",
        "emp.show()"
      ],
      "metadata": {
        "colab": {
          "base_uri": "https://localhost:8080/"
        },
        "id": "FYQkjm-dxLpX",
        "outputId": "4aba1bb4-d6f9-4072-9683-0b22b2dbd678"
      },
      "execution_count": 11,
      "outputs": [
        {
          "output_type": "stream",
          "name": "stdout",
          "text": [
            "Jeeet 10000\n"
          ]
        }
      ]
    },
    {
      "cell_type": "code",
      "source": [
        "class Emp:\n",
        "  def __init__(self,name,salary,project):\n",
        "    self.name=name\n",
        "    self.__salary=salary\n",
        "    self.project=project\n",
        "\n",
        "  def set_salary(self,salary):\n",
        "    self.__salary=salary\n",
        "\n",
        "  def get_salary(self):\n",
        "    return self.__salary\n",
        "\n",
        "  def work(self):\n",
        "    print(self.name,self.project)\n",
        "\n",
        "emp=Emp(\"Jeeet\",10000,\"NLP\")\n",
        "emp.set_salary(22222)\n",
        "emp.get_salary()"
      ],
      "metadata": {
        "colab": {
          "base_uri": "https://localhost:8080/"
        },
        "id": "JANxuUkayjN-",
        "outputId": "1e6b129d-3d4e-41d1-a485-2bf31eb3cb20"
      },
      "execution_count": 13,
      "outputs": [
        {
          "output_type": "execute_result",
          "data": {
            "text/plain": [
              "22222"
            ]
          },
          "metadata": {},
          "execution_count": 13
        }
      ]
    },
    {
      "cell_type": "code",
      "source": [
        "class Student:\n",
        "  def __init__(self,name,rollno,age):\n",
        "    self.name=name\n",
        "    self.__rollno=rollno\n",
        "    self.__age=age\n",
        "\n",
        "  def set_rollno(self,rollno):\n",
        "    self.__rollno=rollno\n",
        "\n",
        "  def get_rollno(self):\n",
        "    return self.__rollno\n",
        "\n",
        "  def pd(self):\n",
        "    print(self.name,self.__rollno,self.__age)\n",
        "\n",
        "s1=Student(\"ram\",23,10)"
      ],
      "metadata": {
        "id": "vMAmMm4DzoQk"
      },
      "execution_count": 17,
      "outputs": []
    },
    {
      "cell_type": "code",
      "source": [
        "s1.pd()"
      ],
      "metadata": {
        "colab": {
          "base_uri": "https://localhost:8080/"
        },
        "id": "Sae_6YV92lMv",
        "outputId": "c59cd829-a874-4c3a-b339-b5ae57d3a6fc"
      },
      "execution_count": 18,
      "outputs": [
        {
          "output_type": "stream",
          "name": "stdout",
          "text": [
            "ram 23 10\n"
          ]
        }
      ]
    },
    {
      "cell_type": "code",
      "source": [
        "s1.set_rollno(1)\n",
        "s1.get_rollno()"
      ],
      "metadata": {
        "colab": {
          "base_uri": "https://localhost:8080/"
        },
        "id": "wOQEVE9x25zz",
        "outputId": "b40e5153-2792-4c9a-ded9-70faf37361cd"
      },
      "execution_count": 21,
      "outputs": [
        {
          "output_type": "execute_result",
          "data": {
            "text/plain": [
              "1"
            ]
          },
          "metadata": {},
          "execution_count": 21
        }
      ]
    },
    {
      "cell_type": "code",
      "source": [
        "s1.pd()"
      ],
      "metadata": {
        "colab": {
          "base_uri": "https://localhost:8080/"
        },
        "id": "aKH3EV0T3ed9",
        "outputId": "81325873-2765-4763-c523-90105beac0e0"
      },
      "execution_count": 22,
      "outputs": [
        {
          "output_type": "stream",
          "name": "stdout",
          "text": [
            "ram 1 10\n"
          ]
        }
      ]
    },
    {
      "cell_type": "code",
      "source": [
        "s1.__rollno=11"
      ],
      "metadata": {
        "id": "qMS2vOEt3hOb"
      },
      "execution_count": 23,
      "outputs": []
    },
    {
      "cell_type": "code",
      "source": [
        "s1.pd()"
      ],
      "metadata": {
        "colab": {
          "base_uri": "https://localhost:8080/"
        },
        "id": "TobA54eL3348",
        "outputId": "59a29cd3-3afb-488c-eedd-b810021d397d"
      },
      "execution_count": 24,
      "outputs": [
        {
          "output_type": "stream",
          "name": "stdout",
          "text": [
            "ram 1 10\n"
          ]
        }
      ]
    },
    {
      "cell_type": "code",
      "source": [
        "s1.__rollno"
      ],
      "metadata": {
        "colab": {
          "base_uri": "https://localhost:8080/"
        },
        "id": "m84bBjCY37M0",
        "outputId": "93365a81-947d-46c9-83b6-63547e6b66cd"
      },
      "execution_count": 29,
      "outputs": [
        {
          "output_type": "execute_result",
          "data": {
            "text/plain": [
              "11"
            ]
          },
          "metadata": {},
          "execution_count": 29
        }
      ]
    },
    {
      "cell_type": "markdown",
      "source": [
        "##Inheritance"
      ],
      "metadata": {
        "id": "K8vppp3D8_z2"
      }
    },
    {
      "cell_type": "markdown",
      "source": [
        "1.Single Inheritance"
      ],
      "metadata": {
        "id": "zARLMGMb9FaC"
      }
    },
    {
      "cell_type": "code",
      "source": [
        "class Vehicle:\n",
        "  wheels=4\n",
        "  def vehicle_info(self):\n",
        "    print(\"Inside vehicle class\")\n",
        "\n",
        "class Car(Vehicle):\n",
        "  def car_info(self):\n",
        "    print(\"Inside Car\")"
      ],
      "metadata": {
        "id": "4mAPsldN8_TR"
      },
      "execution_count": 30,
      "outputs": []
    },
    {
      "cell_type": "code",
      "source": [
        "c1=Car()\n",
        "c1.vehicle_info()\n",
        "c1.wheels"
      ],
      "metadata": {
        "colab": {
          "base_uri": "https://localhost:8080/"
        },
        "id": "8KAQ_fGK4oS9",
        "outputId": "b91303be-21dd-4933-c381-427bb761ab0a"
      },
      "execution_count": 31,
      "outputs": [
        {
          "output_type": "stream",
          "name": "stdout",
          "text": [
            "Inside vehicle class\n"
          ]
        },
        {
          "output_type": "execute_result",
          "data": {
            "text/plain": [
              "4"
            ]
          },
          "metadata": {},
          "execution_count": 31
        }
      ]
    },
    {
      "cell_type": "markdown",
      "source": [
        "2.Multiple Inheritance"
      ],
      "metadata": {
        "id": "vODGeosD9wXs"
      }
    },
    {
      "cell_type": "code",
      "source": [
        "class Person:\n",
        "  def person_info(self,name,age):\n",
        "    print(name,age)\n",
        "\n",
        "class Company:\n",
        "  def company_info(self,cname,location):\n",
        "    print(cname,location)\n",
        "\n",
        "class Emp(Person,Company):\n",
        "  def emp_info(self,salary,skill):\n",
        "    print(salary,skill)\n",
        "\n",
        "e1=Emp()"
      ],
      "metadata": {
        "id": "gxgbwOgh9tHN"
      },
      "execution_count": 44,
      "outputs": []
    },
    {
      "cell_type": "code",
      "source": [
        "e1.person_info(\"abc\",23)"
      ],
      "metadata": {
        "colab": {
          "base_uri": "https://localhost:8080/"
        },
        "id": "i6jFYd2-_Lrt",
        "outputId": "4b60ce51-86f1-4fe1-dde6-919e1550eb51"
      },
      "execution_count": 45,
      "outputs": [
        {
          "output_type": "stream",
          "name": "stdout",
          "text": [
            "abc 23\n"
          ]
        }
      ]
    },
    {
      "cell_type": "code",
      "source": [
        "e1.company_info(\"HCL\",\"BLR\")"
      ],
      "metadata": {
        "colab": {
          "base_uri": "https://localhost:8080/"
        },
        "id": "mB_xOokt_OMU",
        "outputId": "c9da2242-394e-4b52-fccf-a27a4369f908"
      },
      "execution_count": 46,
      "outputs": [
        {
          "output_type": "stream",
          "name": "stdout",
          "text": [
            "HCL BLR\n"
          ]
        }
      ]
    },
    {
      "cell_type": "code",
      "source": [
        "e1.emp_info(123,\"C\")"
      ],
      "metadata": {
        "colab": {
          "base_uri": "https://localhost:8080/"
        },
        "id": "OIVooGM1_Yyp",
        "outputId": "0e76baac-5b07-4b06-f86d-0edfcb12c0f3"
      },
      "execution_count": 47,
      "outputs": [
        {
          "output_type": "stream",
          "name": "stdout",
          "text": [
            "123 C\n"
          ]
        }
      ]
    },
    {
      "cell_type": "markdown",
      "source": [
        "3.Multilevel Inheritance"
      ],
      "metadata": {
        "id": "ZXVxLZ0GAS3I"
      }
    },
    {
      "cell_type": "code",
      "source": [
        "class Vehicle:\n",
        "  def vehicle_info(self):\n",
        "    print(\"vehicle_info\")\n",
        "\n",
        "class Car(Vehicle):\n",
        "  def car_info(self):\n",
        "    print(\"car_info\")\n",
        "\n",
        "class Supercar(Car):\n",
        "  def supercar_info(self):\n",
        "    print(\"supercar_info\")\n",
        "\n",
        "sc1=Supercar()"
      ],
      "metadata": {
        "id": "0X4LQzdUAC5T"
      },
      "execution_count": 48,
      "outputs": []
    },
    {
      "cell_type": "code",
      "source": [
        "sc1.vehicle_info()"
      ],
      "metadata": {
        "colab": {
          "base_uri": "https://localhost:8080/"
        },
        "id": "ejJ6XxloBnPJ",
        "outputId": "22cd0378-213b-4f99-85ee-89088bbd6349"
      },
      "execution_count": 49,
      "outputs": [
        {
          "output_type": "stream",
          "name": "stdout",
          "text": [
            "vehicle_info\n"
          ]
        }
      ]
    },
    {
      "cell_type": "code",
      "source": [
        "sc1.car_info()"
      ],
      "metadata": {
        "colab": {
          "base_uri": "https://localhost:8080/"
        },
        "id": "uXZXfiGpBquK",
        "outputId": "a042b7f1-e297-400c-a044-c09ca5f41de9"
      },
      "execution_count": 51,
      "outputs": [
        {
          "output_type": "stream",
          "name": "stdout",
          "text": [
            "car_info\n"
          ]
        }
      ]
    },
    {
      "cell_type": "code",
      "source": [
        "def pairSum(arr, s):\n",
        "  l=[]\n",
        "  print(arr)\n",
        "  print(s)\n",
        "  for i in range(0,len(arr)):\n",
        "    for j in range(i+1,len(arr)):\n",
        "      print(arr[i],arr[j])\n",
        "      t=arr[i]+arr[j]\n",
        "      print(t)\n",
        "      for a in range(0,len(s)):\n",
        "        if s[a]==t:\n",
        "          l.append(arr[i])\n",
        "          l.append(arr[j])\n",
        "  return set(l)"
      ],
      "metadata": {
        "id": "PqZ6SCDDBsmj"
      },
      "execution_count": 6,
      "outputs": []
    },
    {
      "cell_type": "code",
      "source": [
        "s=[5,5]\n",
        "arr=[1,2,3,4,5]\n",
        "pairSum(arr,s)"
      ],
      "metadata": {
        "colab": {
          "base_uri": "https://localhost:8080/"
        },
        "id": "lixVVJmnKgxv",
        "outputId": "d9891b64-9089-45d4-8e8b-594a0cb13644"
      },
      "execution_count": 7,
      "outputs": [
        {
          "output_type": "stream",
          "name": "stdout",
          "text": [
            "[1, 2, 3, 4, 5]\n",
            "[5, 5]\n",
            "1 2\n",
            "3\n",
            "1 3\n",
            "4\n",
            "1 4\n",
            "5\n",
            "1 5\n",
            "6\n",
            "2 3\n",
            "5\n",
            "2 4\n",
            "6\n",
            "2 5\n",
            "7\n",
            "3 4\n",
            "7\n",
            "3 5\n",
            "8\n",
            "4 5\n",
            "9\n"
          ]
        },
        {
          "output_type": "execute_result",
          "data": {
            "text/plain": [
              "{1, 2, 3, 4}"
            ]
          },
          "metadata": {},
          "execution_count": 7
        }
      ]
    },
    {
      "cell_type": "code",
      "source": [
        ""
      ],
      "metadata": {
        "id": "Ms4i7kE4Cdx9"
      },
      "execution_count": null,
      "outputs": []
    }
  ]
}