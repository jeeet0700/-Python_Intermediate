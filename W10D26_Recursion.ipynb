{
  "nbformat": 4,
  "nbformat_minor": 0,
  "metadata": {
    "colab": {
      "name": "W10D26_Recursion.ipynb",
      "provenance": [],
      "authorship_tag": "ABX9TyNYlDDEr8SUtRBqOP43Pptq",
      "include_colab_link": true
    },
    "kernelspec": {
      "name": "python3",
      "display_name": "Python 3"
    },
    "language_info": {
      "name": "python"
    }
  },
  "cells": [
    {
      "cell_type": "markdown",
      "metadata": {
        "id": "view-in-github",
        "colab_type": "text"
      },
      "source": [
        "<a href=\"https://colab.research.google.com/github/jeeet0700/Python_Intermediate/blob/main/W10D26_Recursion.ipynb\" target=\"_parent\"><img src=\"https://colab.research.google.com/assets/colab-badge.svg\" alt=\"Open In Colab\"/></a>"
      ]
    },
    {
      "cell_type": "code",
      "execution_count": null,
      "metadata": {
        "id": "-hENMZbhWCdd"
      },
      "outputs": [],
      "source": [
        "def fun(n):\n",
        "  if n>0:\n",
        "    print(n)\n",
        "    fun(n-1)\n",
        "    "
      ]
    },
    {
      "cell_type": "code",
      "source": [
        "fun(3)"
      ],
      "metadata": {
        "id": "6XfaYtv9WSBT",
        "outputId": "7b0cab23-9cb2-45a9-8cc7-e4b59919b6d3",
        "colab": {
          "base_uri": "https://localhost:8080/"
        }
      },
      "execution_count": null,
      "outputs": [
        {
          "output_type": "stream",
          "name": "stdout",
          "text": [
            "3\n",
            "2\n",
            "1\n"
          ]
        }
      ]
    },
    {
      "cell_type": "code",
      "source": [
        "def fun(n):\n",
        "  if n>0:\n",
        "    fun(n-1)\n",
        "    print(n)"
      ],
      "metadata": {
        "id": "2fjBbqe9WTHA"
      },
      "execution_count": null,
      "outputs": []
    },
    {
      "cell_type": "code",
      "source": [
        "fun(3)"
      ],
      "metadata": {
        "id": "PCGeiZSyy18Y",
        "outputId": "3ae28b49-5cce-4b0d-87aa-97f51ef19b5f",
        "colab": {
          "base_uri": "https://localhost:8080/"
        }
      },
      "execution_count": null,
      "outputs": [
        {
          "output_type": "stream",
          "name": "stdout",
          "text": [
            "1\n",
            "2\n",
            "3\n"
          ]
        }
      ]
    },
    {
      "cell_type": "code",
      "source": [
        "def fun(n):\n",
        "  if n>0:\n",
        "    print(n)\n",
        "    fun(n-1)\n",
        "    print(n)"
      ],
      "metadata": {
        "id": "SA435hQBy3S6"
      },
      "execution_count": null,
      "outputs": []
    },
    {
      "cell_type": "code",
      "source": [
        "fun(3)"
      ],
      "metadata": {
        "colab": {
          "base_uri": "https://localhost:8080/"
        },
        "id": "fu1I5WqWzsT-",
        "outputId": "bd196a90-3d70-4db8-800b-7981a031e725"
      },
      "execution_count": null,
      "outputs": [
        {
          "output_type": "stream",
          "name": "stdout",
          "text": [
            "3\n",
            "2\n",
            "1\n",
            "1\n",
            "2\n",
            "3\n"
          ]
        }
      ]
    },
    {
      "cell_type": "code",
      "source": [
        "def fact(n):\n",
        "  if n==0:\n",
        "    return 1\n",
        "  return fact(n-1)*n\n",
        "\n",
        "fact(5)"
      ],
      "metadata": {
        "id": "chh9q-w9u847",
        "colab": {
          "base_uri": "https://localhost:8080/"
        },
        "outputId": "fea3e238-7761-4c8c-ed30-85c81bac8918"
      },
      "execution_count": 2,
      "outputs": [
        {
          "output_type": "execute_result",
          "data": {
            "text/plain": [
              "120"
            ]
          },
          "metadata": {},
          "execution_count": 2
        }
      ]
    },
    {
      "cell_type": "code",
      "source": [
        ""
      ],
      "metadata": {
        "id": "CJV580RgIAXn"
      },
      "execution_count": null,
      "outputs": []
    }
  ]
}