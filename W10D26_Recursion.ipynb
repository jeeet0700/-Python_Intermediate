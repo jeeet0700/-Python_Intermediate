{
  "nbformat": 4,
  "nbformat_minor": 0,
  "metadata": {
    "colab": {
      "name": "W10D26_Recursion.ipynb",
      "provenance": [],
      "authorship_tag": "ABX9TyPZNjGzr3U2nthflH9/M86I",
      "include_colab_link": true
    },
    "kernelspec": {
      "name": "python3",
      "display_name": "Python 3"
    },
    "language_info": {
      "name": "python"
    }
  },
  "cells": [
    {
      "cell_type": "markdown",
      "metadata": {
        "id": "view-in-github",
        "colab_type": "text"
      },
      "source": [
        "<a href=\"https://colab.research.google.com/github/jeeet0700/Python_Intermediate/blob/main/W10D26_Recursion.ipynb\" target=\"_parent\"><img src=\"https://colab.research.google.com/assets/colab-badge.svg\" alt=\"Open In Colab\"/></a>"
      ]
    },
    {
      "cell_type": "code",
      "execution_count": null,
      "metadata": {
        "id": "-hENMZbhWCdd"
      },
      "outputs": [],
      "source": [
        "def fun(n):\n",
        "  if n>0:\n",
        "    print(n)\n",
        "    fun(n-1)\n",
        "    "
      ]
    },
    {
      "cell_type": "code",
      "source": [
        "fun(3)"
      ],
      "metadata": {
        "id": "6XfaYtv9WSBT",
        "outputId": "7b0cab23-9cb2-45a9-8cc7-e4b59919b6d3",
        "colab": {
          "base_uri": "https://localhost:8080/"
        }
      },
      "execution_count": null,
      "outputs": [
        {
          "output_type": "stream",
          "name": "stdout",
          "text": [
            "3\n",
            "2\n",
            "1\n"
          ]
        }
      ]
    },
    {
      "cell_type": "code",
      "source": [
        "def fun(n):\n",
        "  if n>0:\n",
        "    fun(n-1)\n",
        "    print(n)"
      ],
      "metadata": {
        "id": "2fjBbqe9WTHA"
      },
      "execution_count": null,
      "outputs": []
    },
    {
      "cell_type": "code",
      "source": [
        "fun(3)"
      ],
      "metadata": {
        "id": "PCGeiZSyy18Y",
        "outputId": "3ae28b49-5cce-4b0d-87aa-97f51ef19b5f",
        "colab": {
          "base_uri": "https://localhost:8080/"
        }
      },
      "execution_count": null,
      "outputs": [
        {
          "output_type": "stream",
          "name": "stdout",
          "text": [
            "1\n",
            "2\n",
            "3\n"
          ]
        }
      ]
    },
    {
      "cell_type": "code",
      "source": [
        "def fun(n):\n",
        "  if n>0:\n",
        "    print(n)\n",
        "    fun(n-1)\n",
        "    print(n)"
      ],
      "metadata": {
        "id": "SA435hQBy3S6"
      },
      "execution_count": null,
      "outputs": []
    },
    {
      "cell_type": "code",
      "source": [
        "fun(3)"
      ],
      "metadata": {
        "colab": {
          "base_uri": "https://localhost:8080/"
        },
        "id": "fu1I5WqWzsT-",
        "outputId": "bd196a90-3d70-4db8-800b-7981a031e725"
      },
      "execution_count": null,
      "outputs": [
        {
          "output_type": "stream",
          "name": "stdout",
          "text": [
            "3\n",
            "2\n",
            "1\n",
            "1\n",
            "2\n",
            "3\n"
          ]
        }
      ]
    },
    {
      "cell_type": "code",
      "source": [
        "a=[1,2,3,4,5,3,1,3]\n",
        "a.count(1)"
      ],
      "metadata": {
        "colab": {
          "base_uri": "https://localhost:8080/"
        },
        "id": "lRmDNg_1zuqz",
        "outputId": "2386767e-aa77-4d30-d7c6-ae07a4b1fd75"
      },
      "execution_count": null,
      "outputs": [
        {
          "output_type": "execute_result",
          "data": {
            "text/plain": [
              "2"
            ]
          },
          "metadata": {},
          "execution_count": 3
        }
      ]
    },
    {
      "cell_type": "code",
      "source": [
        "6%2"
      ],
      "metadata": {
        "colab": {
          "base_uri": "https://localhost:8080/"
        },
        "id": "qtrlFe81eT06",
        "outputId": "8f4fd25e-a3c2-4ea2-832c-6a07b1bba0ae"
      },
      "execution_count": null,
      "outputs": [
        {
          "output_type": "execute_result",
          "data": {
            "text/plain": [
              "0"
            ]
          },
          "metadata": {},
          "execution_count": 4
        }
      ]
    },
    {
      "cell_type": "code",
      "source": [
        "6//2"
      ],
      "metadata": {
        "colab": {
          "base_uri": "https://localhost:8080/"
        },
        "id": "9qWFs4Ccsw1G",
        "outputId": "a755f507-bfca-4de0-bc97-97cd142404e8"
      },
      "execution_count": null,
      "outputs": [
        {
          "output_type": "execute_result",
          "data": {
            "text/plain": [
              "3"
            ]
          },
          "metadata": {},
          "execution_count": 5
        }
      ]
    },
    {
      "cell_type": "code",
      "source": [
        "3%2"
      ],
      "metadata": {
        "colab": {
          "base_uri": "https://localhost:8080/"
        },
        "id": "_dyB2nT5s4kj",
        "outputId": "4e0f6fa0-2f48-472a-80bb-e9b09fd81d4e"
      },
      "execution_count": null,
      "outputs": [
        {
          "output_type": "execute_result",
          "data": {
            "text/plain": [
              "1"
            ]
          },
          "metadata": {},
          "execution_count": 6
        }
      ]
    },
    {
      "cell_type": "code",
      "source": [
        "def fun(i,j):\n",
        "      if(i==0):\n",
        "         return j\n",
        "      else:\n",
        "         return fun(i-1,j+1)"
      ],
      "metadata": {
        "id": "nsCBqWNvtEgy"
      },
      "execution_count": null,
      "outputs": []
    },
    {
      "cell_type": "code",
      "source": [
        "fun(4,8)"
      ],
      "metadata": {
        "colab": {
          "base_uri": "https://localhost:8080/"
        },
        "id": "eYacFo74tUtB",
        "outputId": "12928343-f11d-405f-cb33-de15e0fbf82b"
      },
      "execution_count": null,
      "outputs": [
        {
          "output_type": "execute_result",
          "data": {
            "text/plain": [
              "12"
            ]
          },
          "metadata": {},
          "execution_count": 8
        }
      ]
    },
    {
      "cell_type": "code",
      "source": [
        "def bp(string, n):\n",
        "  if n>0:\n",
        "    print(string[n], end='')\n",
        "    bp(string, n-1)\n",
        "  elif n==0:\n",
        "    print(string[0])\n",
        "\n",
        "s = input()\n",
        "bp(s, len(s)-1)"
      ],
      "metadata": {
        "colab": {
          "base_uri": "https://localhost:8080/"
        },
        "id": "3_rW59satWyv",
        "outputId": "4da69f6f-612a-4a60-f807-0d3e4815d7a9"
      },
      "execution_count": null,
      "outputs": [
        {
          "output_type": "stream",
          "name": "stdout",
          "text": [
            "news\n",
            "swen\n"
          ]
        }
      ]
    },
    {
      "cell_type": "code",
      "source": [
        "def count_freq(x, y):\n",
        "  if(y!=1):\n",
        "    if(x!=1):\n",
        "      print(\"*\")\n",
        "      count_freq(x/2,y)\n",
        "    else:\n",
        "      print(\"#\")\n",
        "      y=y-1\n",
        "      count_freq(x,y)"
      ],
      "metadata": {
        "id": "O7rW7yNTtvjG"
      },
      "execution_count": null,
      "outputs": []
    },
    {
      "cell_type": "code",
      "source": [
        "count_freq(256,4)"
      ],
      "metadata": {
        "colab": {
          "base_uri": "https://localhost:8080/"
        },
        "id": "PlwAZ0mkt9M8",
        "outputId": "df3f66e7-cc0e-4897-dfe8-57f45641cdf1"
      },
      "execution_count": null,
      "outputs": [
        {
          "output_type": "stream",
          "name": "stdout",
          "text": [
            "*\n",
            "*\n",
            "*\n",
            "*\n",
            "*\n",
            "*\n",
            "*\n",
            "*\n",
            "#\n",
            "#\n",
            "#\n"
          ]
        }
      ]
    },
    {
      "cell_type": "code",
      "source": [
        "def fun(i,j):\n",
        "  if(i==0):\n",
        "    return j\n",
        "  else:\n",
        "    return fun(j,i-5)\n",
        "\n",
        "print(fun(15,8))"
      ],
      "metadata": {
        "colab": {
          "base_uri": "https://localhost:8080/"
        },
        "id": "WSojpqg1uA5N",
        "outputId": "48cbb866-50b5-4e72-d728-e98622b9f642"
      },
      "execution_count": null,
      "outputs": [
        {
          "output_type": "stream",
          "name": "stdout",
          "text": [
            "-7\n"
          ]
        }
      ]
    },
    {
      "cell_type": "code",
      "source": [
        ""
      ],
      "metadata": {
        "id": "chh9q-w9u847"
      },
      "execution_count": null,
      "outputs": []
    }
  ]
}