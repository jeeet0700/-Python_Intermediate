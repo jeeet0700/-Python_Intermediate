{
  "nbformat": 4,
  "nbformat_minor": 0,
  "metadata": {
    "colab": {
      "name": "W10D26_Recursion.ipynb",
      "provenance": [],
      "authorship_tag": "ABX9TyPF5wPC3mIEiNgN5DVuD8BZ",
      "include_colab_link": true
    },
    "kernelspec": {
      "name": "python3",
      "display_name": "Python 3"
    },
    "language_info": {
      "name": "python"
    }
  },
  "cells": [
    {
      "cell_type": "markdown",
      "metadata": {
        "id": "view-in-github",
        "colab_type": "text"
      },
      "source": [
        "<a href=\"https://colab.research.google.com/github/jeeet0700/Python_Intermediate/blob/main/W10D26_Recursion.ipynb\" target=\"_parent\"><img src=\"https://colab.research.google.com/assets/colab-badge.svg\" alt=\"Open In Colab\"/></a>"
      ]
    },
    {
      "cell_type": "code",
      "execution_count": null,
      "metadata": {
        "id": "-hENMZbhWCdd"
      },
      "outputs": [],
      "source": [
        "def fun(n):\n",
        "  if n>0:\n",
        "    print(n)\n",
        "    fun(n-1)\n",
        "    "
      ]
    },
    {
      "cell_type": "code",
      "source": [
        "fun(3)"
      ],
      "metadata": {
        "id": "6XfaYtv9WSBT",
        "outputId": "7b0cab23-9cb2-45a9-8cc7-e4b59919b6d3",
        "colab": {
          "base_uri": "https://localhost:8080/"
        }
      },
      "execution_count": null,
      "outputs": [
        {
          "output_type": "stream",
          "name": "stdout",
          "text": [
            "3\n",
            "2\n",
            "1\n"
          ]
        }
      ]
    },
    {
      "cell_type": "code",
      "source": [
        "def fun(n):\n",
        "  if n>0:\n",
        "    fun(n-1)\n",
        "    print(n)"
      ],
      "metadata": {
        "id": "2fjBbqe9WTHA"
      },
      "execution_count": null,
      "outputs": []
    },
    {
      "cell_type": "code",
      "source": [
        "fun(3)"
      ],
      "metadata": {
        "id": "PCGeiZSyy18Y",
        "outputId": "3ae28b49-5cce-4b0d-87aa-97f51ef19b5f",
        "colab": {
          "base_uri": "https://localhost:8080/"
        }
      },
      "execution_count": null,
      "outputs": [
        {
          "output_type": "stream",
          "name": "stdout",
          "text": [
            "1\n",
            "2\n",
            "3\n"
          ]
        }
      ]
    },
    {
      "cell_type": "code",
      "source": [
        "def fun(n):\n",
        "  if n>0:\n",
        "    print(n)\n",
        "    fun(n-1)\n",
        "    print(n)"
      ],
      "metadata": {
        "id": "SA435hQBy3S6"
      },
      "execution_count": null,
      "outputs": []
    },
    {
      "cell_type": "code",
      "source": [
        "fun(3)"
      ],
      "metadata": {
        "colab": {
          "base_uri": "https://localhost:8080/"
        },
        "id": "fu1I5WqWzsT-",
        "outputId": "bd196a90-3d70-4db8-800b-7981a031e725"
      },
      "execution_count": null,
      "outputs": [
        {
          "output_type": "stream",
          "name": "stdout",
          "text": [
            "3\n",
            "2\n",
            "1\n",
            "1\n",
            "2\n",
            "3\n"
          ]
        }
      ]
    },
    {
      "cell_type": "code",
      "source": [
        "def fun(n):\n",
        "  if n>0:\n",
        "    print(n)\n",
        "    fun(n-1)\n",
        "\n",
        "fun(10)"
      ],
      "metadata": {
        "colab": {
          "base_uri": "https://localhost:8080/"
        },
        "id": "x15Q-M2yUA3Q",
        "outputId": "689bcc9e-d6f7-4872-c1db-9d8bb19f44a9"
      },
      "execution_count": 1,
      "outputs": [
        {
          "output_type": "stream",
          "name": "stdout",
          "text": [
            "10\n",
            "9\n",
            "8\n",
            "7\n",
            "6\n",
            "5\n",
            "4\n",
            "3\n",
            "2\n",
            "1\n"
          ]
        }
      ]
    },
    {
      "cell_type": "code",
      "source": [
        "def fun(n):\n",
        "  if n>0:\n",
        "     fun(n-1)\n",
        "     print(n)\n",
        "\n",
        "fun(10)"
      ],
      "metadata": {
        "colab": {
          "base_uri": "https://localhost:8080/"
        },
        "id": "EwG59gCtkLRh",
        "outputId": "f1421c3d-8884-40c7-c730-b812d27fbf68"
      },
      "execution_count": 2,
      "outputs": [
        {
          "output_type": "stream",
          "name": "stdout",
          "text": [
            "1\n",
            "2\n",
            "3\n",
            "4\n",
            "5\n",
            "6\n",
            "7\n",
            "8\n",
            "9\n",
            "10\n"
          ]
        }
      ]
    },
    {
      "cell_type": "markdown",
      "source": [
        "Sum of n natural no."
      ],
      "metadata": {
        "id": "mfWvYemdpEkD"
      }
    },
    {
      "cell_type": "code",
      "source": [
        "def summm(n):\n",
        "  s=0\n",
        "  for i in range(0,n+1):\n",
        "    print(i)\n",
        "    s=s+i\n",
        "  return s\n",
        "\n",
        "summm(5)"
      ],
      "metadata": {
        "colab": {
          "base_uri": "https://localhost:8080/"
        },
        "id": "iF6CXdycmZDG",
        "outputId": "95bc785f-ea67-41de-86a4-d9651bd5a657"
      },
      "execution_count": 20,
      "outputs": [
        {
          "output_type": "stream",
          "name": "stdout",
          "text": [
            "0\n",
            "1\n",
            "2\n",
            "3\n",
            "4\n",
            "5\n"
          ]
        },
        {
          "output_type": "execute_result",
          "data": {
            "text/plain": [
              "15"
            ]
          },
          "metadata": {},
          "execution_count": 20
        }
      ]
    },
    {
      "cell_type": "code",
      "source": [
        "def summ(n):\n",
        "  if n==0:\n",
        "    return 0\n",
        "  return summ(n-1)+n\n",
        "\n",
        "summ(5)\n",
        "# 1+2+3+4+5=15"
      ],
      "metadata": {
        "colab": {
          "base_uri": "https://localhost:8080/"
        },
        "id": "Z-8BvKNlkXcT",
        "outputId": "31c35e47-cdaf-4d1a-aedf-c80a3e22ae98"
      },
      "execution_count": 11,
      "outputs": [
        {
          "output_type": "execute_result",
          "data": {
            "text/plain": [
              "15"
            ]
          },
          "metadata": {},
          "execution_count": 11
        }
      ]
    },
    {
      "cell_type": "markdown",
      "source": [
        "Factorial"
      ],
      "metadata": {
        "id": "Kc4ZbRTNpJlc"
      }
    },
    {
      "cell_type": "code",
      "source": [
        "def fact(n):\n",
        "  s=1\n",
        "  for i in range(1,n+1):\n",
        "    s=s*i\n",
        "  return s\n",
        "\n",
        "fact(5)"
      ],
      "metadata": {
        "colab": {
          "base_uri": "https://localhost:8080/"
        },
        "id": "ZAYPxWRvk9f2",
        "outputId": "dc006019-26a5-4bbe-fc6d-45e14cc16096"
      },
      "execution_count": 21,
      "outputs": [
        {
          "output_type": "execute_result",
          "data": {
            "text/plain": [
              "120"
            ]
          },
          "metadata": {},
          "execution_count": 21
        }
      ]
    },
    {
      "cell_type": "code",
      "source": [
        "def fact(n):\n",
        "  if n==0:\n",
        "    return 1\n",
        "  return fact(n-1)*n\n",
        "\n",
        "fact(5)"
      ],
      "metadata": {
        "colab": {
          "base_uri": "https://localhost:8080/"
        },
        "id": "vZLhlpgjpeDz",
        "outputId": "8cdf0410-f7d1-40a2-9ce5-27890e62f612"
      },
      "execution_count": 25,
      "outputs": [
        {
          "output_type": "execute_result",
          "data": {
            "text/plain": [
              "120"
            ]
          },
          "metadata": {},
          "execution_count": 25
        }
      ]
    },
    {
      "cell_type": "markdown",
      "source": [
        "Fibonacci Series"
      ],
      "metadata": {
        "id": "bGEqvW5wqK1I"
      }
    },
    {
      "cell_type": "code",
      "source": [
        "def fibo(n):\n",
        "  t0,t1=0,1\n",
        "  if n<=1:\n",
        "    return n\n",
        "  for i in range(2,n+1):\n",
        "    s=t0+t1\n",
        "    # print(s)\n",
        "    t0=t1\n",
        "    t1=s\n",
        "  return s\n",
        "\n",
        "fibo(6)"
      ],
      "metadata": {
        "colab": {
          "base_uri": "https://localhost:8080/"
        },
        "id": "oyDWCeN-qflV",
        "outputId": "15bb8643-b4be-4808-de7a-a536ad7f96f9"
      },
      "execution_count": 34,
      "outputs": [
        {
          "output_type": "execute_result",
          "data": {
            "text/plain": [
              "8"
            ]
          },
          "metadata": {},
          "execution_count": 34
        }
      ]
    },
    {
      "cell_type": "code",
      "source": [
        "def fibo(n):\n",
        "  t0,t1=0,1\n",
        "  count=0\n",
        "  # if n<=1:\n",
        "  #   return n\n",
        "  for i in range(0,n):\n",
        "    s=t0+t1\n",
        "    t0=t1\n",
        "    t1=s\n",
        "    count+=1\n",
        "    if count==n:\n",
        "      print(t0)\n",
        "      print(t1)\n",
        "      print(t0+t1)\n",
        "\n",
        "fibo(2)"
      ],
      "metadata": {
        "colab": {
          "base_uri": "https://localhost:8080/"
        },
        "id": "KDTjVz-iweyF",
        "outputId": "3db1dfcf-f899-436d-a9cb-cab9418065bc"
      },
      "execution_count": 61,
      "outputs": [
        {
          "output_type": "stream",
          "name": "stdout",
          "text": [
            "1\n",
            "2\n",
            "3\n"
          ]
        }
      ]
    },
    {
      "cell_type": "code",
      "source": [
        "for i in \"Hello\":\n",
        "  print(i)"
      ],
      "metadata": {
        "colab": {
          "base_uri": "https://localhost:8080/"
        },
        "id": "sd3nbmz_0FP4",
        "outputId": "99f2e89a-6662-4549-e368-65649bee957e"
      },
      "execution_count": 39,
      "outputs": [
        {
          "output_type": "stream",
          "name": "stdout",
          "text": [
            "H\n",
            "e\n",
            "l\n",
            "l\n",
            "o\n"
          ]
        }
      ]
    },
    {
      "cell_type": "code",
      "source": [
        "l=[]\n",
        "def pal(n):\n",
        "  if len(n)==0:\n",
        "    return\n",
        "  t=n[0]\n",
        "  pal(n[1:])\n",
        "  l.append(t)\n",
        "\n",
        "pal(\"naman\")\n",
        "print(l)\n",
        "s=\"\"\n",
        "for i in l:\n",
        "  s+=i\n",
        "print(s)"
      ],
      "metadata": {
        "colab": {
          "base_uri": "https://localhost:8080/"
        },
        "id": "kldcJ1rv2A49",
        "outputId": "1a028d48-191d-429a-e566-9912056794d8"
      },
      "execution_count": 54,
      "outputs": [
        {
          "output_type": "stream",
          "name": "stdout",
          "text": [
            "['n', 'a', 'm', 'a', 'n']\n",
            "naman\n"
          ]
        }
      ]
    },
    {
      "cell_type": "code",
      "source": [
        ""
      ],
      "metadata": {
        "id": "5E_kPseN3z1E"
      },
      "execution_count": null,
      "outputs": []
    }
  ]
}