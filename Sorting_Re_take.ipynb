{
  "nbformat": 4,
  "nbformat_minor": 0,
  "metadata": {
    "colab": {
      "name": "Sorting Re-take.ipynb",
      "provenance": [],
      "authorship_tag": "ABX9TyOnkP+eRrNn98sdpfUIDEG7",
      "include_colab_link": true
    },
    "kernelspec": {
      "name": "python3",
      "display_name": "Python 3"
    },
    "language_info": {
      "name": "python"
    }
  },
  "cells": [
    {
      "cell_type": "markdown",
      "metadata": {
        "id": "view-in-github",
        "colab_type": "text"
      },
      "source": [
        "<a href=\"https://colab.research.google.com/github/jeeet0700/Python_Intermediate/blob/main/Sorting_Re_take.ipynb\" target=\"_parent\"><img src=\"https://colab.research.google.com/assets/colab-badge.svg\" alt=\"Open In Colab\"/></a>"
      ]
    },
    {
      "cell_type": "markdown",
      "source": [
        "Insertion Sort"
      ],
      "metadata": {
        "id": "cD11K7VabT_k"
      }
    },
    {
      "cell_type": "code",
      "execution_count": 5,
      "metadata": {
        "colab": {
          "base_uri": "https://localhost:8080/"
        },
        "id": "_qseApPRPW8w",
        "outputId": "c5519654-657f-48e8-e823-5ad0809467ef"
      },
      "outputs": [
        {
          "output_type": "stream",
          "name": "stdout",
          "text": [
            "[1, 2, 2, 4, 5, 8, 9]\n"
          ]
        }
      ],
      "source": [
        "def insertsort(arr):\n",
        "  for j in range(1,len(arr)):\n",
        "    key=arr[j]\n",
        "    i=j-1\n",
        "    while i>=0 and key<arr[i]:\n",
        "      arr[i+1]=arr[i]\n",
        "      i=i-1\n",
        "    arr[i+1]=key\n",
        "\n",
        "arr=[5,8,2,9,1,4,2]\n",
        "insertsort(arr)\n",
        "print(arr)"
      ]
    },
    {
      "cell_type": "markdown",
      "source": [
        "Bubble Sort"
      ],
      "metadata": {
        "id": "dYV_s8OZ0iii"
      }
    },
    {
      "cell_type": "code",
      "source": [
        "def bubblesort(arr):\n",
        "  for i in range(len(arr)):\n",
        "    for j in range(0,len(arr)-i-1):\n",
        "      if arr[j]>arr[j+1]:\n",
        "        temp=arr[j]\n",
        "        arr[j]=arr[j+1]\n",
        "        arr[j+1]=temp\n",
        "\n",
        "data=[-2,45,0,11,-9]\n",
        "bubblesort(data)\n",
        "print(data)"
      ],
      "metadata": {
        "colab": {
          "base_uri": "https://localhost:8080/"
        },
        "id": "cqTllYh4sXal",
        "outputId": "4d130e06-e53a-4698-9bd0-1eaae11b6063"
      },
      "execution_count": 1,
      "outputs": [
        {
          "output_type": "stream",
          "name": "stdout",
          "text": [
            "[-9, -2, 0, 11, 45]\n"
          ]
        }
      ]
    },
    {
      "cell_type": "code",
      "source": [
        ""
      ],
      "metadata": {
        "id": "FNlhh5pt36Ov"
      },
      "execution_count": null,
      "outputs": []
    }
  ]
}