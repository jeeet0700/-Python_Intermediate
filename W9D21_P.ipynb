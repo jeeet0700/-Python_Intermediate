{
  "nbformat": 4,
  "nbformat_minor": 0,
  "metadata": {
    "colab": {
      "name": "W9D21_P.ipynb",
      "provenance": [],
      "authorship_tag": "ABX9TyMk3Q//aDCZKxIWA+vbuQBp",
      "include_colab_link": true
    },
    "kernelspec": {
      "name": "python3",
      "display_name": "Python 3"
    },
    "language_info": {
      "name": "python"
    }
  },
  "cells": [
    {
      "cell_type": "markdown",
      "metadata": {
        "id": "view-in-github",
        "colab_type": "text"
      },
      "source": [
        "<a href=\"https://colab.research.google.com/github/jeeet0700/Python_Intermediate/blob/main/W9D21_P.ipynb\" target=\"_parent\"><img src=\"https://colab.research.google.com/assets/colab-badge.svg\" alt=\"Open In Colab\"/></a>"
      ]
    },
    {
      "cell_type": "code",
      "execution_count": null,
      "metadata": {
        "id": "hRgJn6Q0AaSf"
      },
      "outputs": [],
      "source": [
        "def ce(x):\n",
        "  return x%2==0"
      ]
    },
    {
      "cell_type": "code",
      "source": [
        "ce(3)"
      ],
      "metadata": {
        "colab": {
          "base_uri": "https://localhost:8080/"
        },
        "id": "2KAeQUqgA80v",
        "outputId": "e2175e21-52e9-4099-f417-ba224980c5fd"
      },
      "execution_count": null,
      "outputs": [
        {
          "output_type": "execute_result",
          "data": {
            "text/plain": [
              "False"
            ]
          },
          "metadata": {},
          "execution_count": 2
        }
      ]
    },
    {
      "cell_type": "code",
      "source": [
        "3%2==0"
      ],
      "metadata": {
        "colab": {
          "base_uri": "https://localhost:8080/"
        },
        "id": "y3E72QSBA-a-",
        "outputId": "aef6f78c-6c55-42f0-ee61-50c6a865ee56"
      },
      "execution_count": null,
      "outputs": [
        {
          "output_type": "execute_result",
          "data": {
            "text/plain": [
              "False"
            ]
          },
          "metadata": {},
          "execution_count": 3
        }
      ]
    },
    {
      "cell_type": "code",
      "source": [
        "l=[]\n",
        "for i in range(1,11):\n",
        "  if i%2==0:\n",
        "    l.append(i)\n",
        "print(l)"
      ],
      "metadata": {
        "colab": {
          "base_uri": "https://localhost:8080/"
        },
        "id": "7S3jEiXtBGx7",
        "outputId": "2c293263-461a-4bb2-953f-4a1e908367b8"
      },
      "execution_count": null,
      "outputs": [
        {
          "output_type": "stream",
          "name": "stdout",
          "text": [
            "[2, 4, 6, 8, 10]\n"
          ]
        }
      ]
    },
    {
      "cell_type": "code",
      "source": [
        "filter(ce,range(1,11))"
      ],
      "metadata": {
        "colab": {
          "base_uri": "https://localhost:8080/"
        },
        "id": "FGUBMiGIBf9F",
        "outputId": "88ff4b89-f933-49fa-85ed-26db24349129"
      },
      "execution_count": null,
      "outputs": [
        {
          "output_type": "execute_result",
          "data": {
            "text/plain": [
              "<filter at 0x7faaa2d94490>"
            ]
          },
          "metadata": {},
          "execution_count": 5
        }
      ]
    },
    {
      "cell_type": "code",
      "source": [
        "print(filter(ce,range(1,11)))"
      ],
      "metadata": {
        "colab": {
          "base_uri": "https://localhost:8080/"
        },
        "id": "rzGnNmtlBufV",
        "outputId": "f9581124-ee47-4ee3-ce1d-54664f9f3867"
      },
      "execution_count": null,
      "outputs": [
        {
          "output_type": "stream",
          "name": "stdout",
          "text": [
            "<filter object at 0x7faaa2d95790>\n"
          ]
        }
      ]
    },
    {
      "cell_type": "code",
      "source": [
        "list(filter(ce,range(1,11)))"
      ],
      "metadata": {
        "colab": {
          "base_uri": "https://localhost:8080/"
        },
        "id": "eqnNBHwEB0Km",
        "outputId": "b2bf3f29-bade-4996-e07a-0d121023b608"
      },
      "execution_count": null,
      "outputs": [
        {
          "output_type": "execute_result",
          "data": {
            "text/plain": [
              "[2, 4, 6, 8, 10]"
            ]
          },
          "metadata": {},
          "execution_count": 7
        }
      ]
    },
    {
      "cell_type": "code",
      "source": [
        "(lambda x : x%2==0)(3)"
      ],
      "metadata": {
        "colab": {
          "base_uri": "https://localhost:8080/"
        },
        "id": "a_Ah1Rf2B2yK",
        "outputId": "e1163584-43b7-472a-b7b3-51ab5c7c29a1"
      },
      "execution_count": null,
      "outputs": [
        {
          "output_type": "execute_result",
          "data": {
            "text/plain": [
              "False"
            ]
          },
          "metadata": {},
          "execution_count": 8
        }
      ]
    },
    {
      "cell_type": "code",
      "source": [
        "list(filter(lambda x : x%2==0,range(1,11)))"
      ],
      "metadata": {
        "colab": {
          "base_uri": "https://localhost:8080/"
        },
        "id": "0FjvoPxoCFQT",
        "outputId": "45366aaa-aa59-4f31-b819-49e8b94b6407"
      },
      "execution_count": null,
      "outputs": [
        {
          "output_type": "execute_result",
          "data": {
            "text/plain": [
              "[2, 4, 6, 8, 10]"
            ]
          },
          "metadata": {},
          "execution_count": 10
        }
      ]
    },
    {
      "cell_type": "code",
      "source": [
        "from functools import reduce\n",
        "a=[1,2,3,4,5,6,7]\n",
        "reduce(lambda x,y : x+y,a)"
      ],
      "metadata": {
        "colab": {
          "base_uri": "https://localhost:8080/"
        },
        "id": "KamJE63SCPt1",
        "outputId": "9109e6c1-8c23-4822-9d8c-5737ac994489"
      },
      "execution_count": null,
      "outputs": [
        {
          "output_type": "execute_result",
          "data": {
            "text/plain": [
              "28"
            ]
          },
          "metadata": {},
          "execution_count": 12
        }
      ]
    },
    {
      "cell_type": "code",
      "source": [
        "a=[5,3,6,2,7,4,23,6,21]\n",
        "reduce(lambda x,y : if x>y else y, a )"
      ],
      "metadata": {
        "colab": {
          "base_uri": "https://localhost:8080/",
          "height": 131
        },
        "id": "TtThNMayE7fs",
        "outputId": "da8a2e65-e51d-4286-e273-a09087aecc22"
      },
      "execution_count": null,
      "outputs": [
        {
          "output_type": "error",
          "ename": "SyntaxError",
          "evalue": "ignored",
          "traceback": [
            "\u001b[0;36m  File \u001b[0;32m\"<ipython-input-13-04be859cc8ee>\"\u001b[0;36m, line \u001b[0;32m2\u001b[0m\n\u001b[0;31m    reduce(lambda x,y : if x>y else y, a )\u001b[0m\n\u001b[0m                         ^\u001b[0m\n\u001b[0;31mSyntaxError\u001b[0m\u001b[0;31m:\u001b[0m invalid syntax\n"
          ]
        }
      ]
    },
    {
      "cell_type": "code",
      "source": [
        "def max(a,b):\n",
        "  return a if a>b else b"
      ],
      "metadata": {
        "id": "_ra_4WVeHr_u"
      },
      "execution_count": null,
      "outputs": []
    },
    {
      "cell_type": "code",
      "source": [
        "n=[1,4,7,9,4,7,8,9,22,6,4,3]\n",
        "reduce(max,n)"
      ],
      "metadata": {
        "colab": {
          "base_uri": "https://localhost:8080/"
        },
        "id": "lWslr8YlH51W",
        "outputId": "efa4ce06-0b39-409f-be65-14e6b8592682"
      },
      "execution_count": null,
      "outputs": [
        {
          "output_type": "execute_result",
          "data": {
            "text/plain": [
              "22"
            ]
          },
          "metadata": {},
          "execution_count": 15
        }
      ]
    },
    {
      "cell_type": "code",
      "source": [
        "x=[1,1,1,1,0]\n",
        "def is_true(a,b):\n",
        "  return bool(a and b)"
      ],
      "metadata": {
        "id": "D6ftmsmPIArW"
      },
      "execution_count": null,
      "outputs": []
    },
    {
      "cell_type": "code",
      "source": [
        "reduce(is_true,x)"
      ],
      "metadata": {
        "colab": {
          "base_uri": "https://localhost:8080/"
        },
        "id": "FNei2Ed9Lp77",
        "outputId": "8640d1d1-61f5-4e66-b00b-6115f9b88a1a"
      },
      "execution_count": null,
      "outputs": [
        {
          "output_type": "execute_result",
          "data": {
            "text/plain": [
              "False"
            ]
          },
          "metadata": {},
          "execution_count": 24
        }
      ]
    },
    {
      "cell_type": "code",
      "source": [
        "class Car:\n",
        "  model='Sedan'\n",
        "  color='Red'\n",
        "  price=24567\n",
        "\n",
        "  def drive(self):\n",
        "    print(\"Broom Broom\")\n",
        "\n",
        "  def lock(self):\n",
        "    print(\"Car is lock\")\n",
        "\n",
        "  def unlock(self):\n",
        "    print(\"Car is un-lock\")"
      ],
      "metadata": {
        "id": "v1QJ8NE0NJQh"
      },
      "execution_count": null,
      "outputs": []
    },
    {
      "cell_type": "code",
      "source": [
        "Car.color"
      ],
      "metadata": {
        "colab": {
          "base_uri": "https://localhost:8080/",
          "height": 36
        },
        "id": "cbTGV8mfV0q4",
        "outputId": "ec6d0aae-a584-47e1-944d-1fd71450a4fb"
      },
      "execution_count": null,
      "outputs": [
        {
          "output_type": "execute_result",
          "data": {
            "text/plain": [
              "'Red'"
            ],
            "application/vnd.google.colaboratory.intrinsic+json": {
              "type": "string"
            }
          },
          "metadata": {},
          "execution_count": 2
        }
      ]
    },
    {
      "cell_type": "code",
      "source": [
        "Car.drive"
      ],
      "metadata": {
        "colab": {
          "base_uri": "https://localhost:8080/"
        },
        "id": "WIIAkjUAOIrU",
        "outputId": "e476c44c-3912-40c7-b741-d8ac05d7da6f"
      },
      "execution_count": null,
      "outputs": [
        {
          "output_type": "execute_result",
          "data": {
            "text/plain": [
              "<function __main__.Car.drive>"
            ]
          },
          "metadata": {},
          "execution_count": 9
        }
      ]
    },
    {
      "cell_type": "code",
      "source": [
        "c1=Car()"
      ],
      "metadata": {
        "id": "lk-f6VcqV3xs"
      },
      "execution_count": null,
      "outputs": []
    },
    {
      "cell_type": "code",
      "source": [
        "c1.color"
      ],
      "metadata": {
        "colab": {
          "base_uri": "https://localhost:8080/",
          "height": 36
        },
        "id": "BY8nFx1CV9Lg",
        "outputId": "783e260b-8034-4d95-f50f-db8e388a090c"
      },
      "execution_count": null,
      "outputs": [
        {
          "output_type": "execute_result",
          "data": {
            "text/plain": [
              "'Red'"
            ],
            "application/vnd.google.colaboratory.intrinsic+json": {
              "type": "string"
            }
          },
          "metadata": {},
          "execution_count": 6
        }
      ]
    },
    {
      "cell_type": "code",
      "source": [
        "c1.drive()"
      ],
      "metadata": {
        "colab": {
          "base_uri": "https://localhost:8080/"
        },
        "id": "ZlFdPRRsWDPz",
        "outputId": "18b7a07f-8a36-40ca-8be3-92ef16816fa6"
      },
      "execution_count": null,
      "outputs": [
        {
          "output_type": "stream",
          "name": "stdout",
          "text": [
            "Broom Broom\n"
          ]
        }
      ]
    },
    {
      "cell_type": "code",
      "source": [
        "class Car:\n",
        "  model='Sedan'\n",
        "  color='Red'\n",
        "  price=24567\n",
        "\n",
        "  def drive(self):\n",
        "    print(\"Broom Broom\")\n",
        "\n",
        "  def lock(self):\n",
        "    print(\"Car is lock\")\n",
        "\n",
        "  def unlock(self):\n",
        "    print(\"Car is un-lock\")\n",
        "\n",
        "  def pall(self):\n",
        "    print(self.model)\n",
        "    print(self.color)\n",
        "    print(self.price)"
      ],
      "metadata": {
        "id": "8Rs5RsX-OQd_"
      },
      "execution_count": null,
      "outputs": []
    },
    {
      "cell_type": "code",
      "source": [
        "c1=Car()"
      ],
      "metadata": {
        "id": "3QBFH71KXCVI"
      },
      "execution_count": null,
      "outputs": []
    },
    {
      "cell_type": "code",
      "source": [
        "c1.pall()"
      ],
      "metadata": {
        "colab": {
          "base_uri": "https://localhost:8080/"
        },
        "id": "RZEx94LQXE-i",
        "outputId": "1375010b-78f3-49c5-a9bb-d6a46d1455a9"
      },
      "execution_count": null,
      "outputs": [
        {
          "output_type": "stream",
          "name": "stdout",
          "text": [
            "Sedan\n",
            "Red\n",
            "24567\n"
          ]
        }
      ]
    },
    {
      "cell_type": "code",
      "source": [
        "c2=Car()\n",
        "c2.color=\"Black\"\n",
        "c2.pall()"
      ],
      "metadata": {
        "colab": {
          "base_uri": "https://localhost:8080/"
        },
        "id": "6nuEN_s2XIxs",
        "outputId": "392b3e3f-f7b6-4de3-b69d-cd884f4ffbf4"
      },
      "execution_count": null,
      "outputs": [
        {
          "output_type": "stream",
          "name": "stdout",
          "text": [
            "Sedan\n",
            "Black\n",
            "24567\n"
          ]
        }
      ]
    },
    {
      "cell_type": "code",
      "source": [
        "class Car:\n",
        "  model='Sedan'\n",
        "  color='Red'\n",
        "  price=240000\n",
        "\n",
        "  def drive(self):\n",
        "    print(\"Broom Broom\")\n",
        "\n",
        "  def lock(self):\n",
        "    print(\"Car is lock\")\n",
        "\n",
        "  def unlock(self):\n",
        "    print(\"Car is un-lock\")\n",
        "\n",
        "  def pall(self,a,b,c):\n",
        "    print(self.model)\n",
        "    print(self.color)\n",
        "    print(self.price)\n",
        "    print(a,b,c)"
      ],
      "metadata": {
        "id": "piqOImgvXqiq"
      },
      "execution_count": null,
      "outputs": []
    },
    {
      "cell_type": "code",
      "source": [
        "c1=Car()\n",
        "c1.pall(10,20,30)"
      ],
      "metadata": {
        "colab": {
          "base_uri": "https://localhost:8080/"
        },
        "id": "wBRZKE3XYOvG",
        "outputId": "9115aad6-0dcb-42e5-95ed-a756452d9401"
      },
      "execution_count": null,
      "outputs": [
        {
          "output_type": "stream",
          "name": "stdout",
          "text": [
            "Sedan\n",
            "Red\n",
            "240000\n",
            "10 20 30\n"
          ]
        }
      ]
    },
    {
      "cell_type": "code",
      "source": [
        "class Car:\n",
        "  def __init__(self):\n",
        "    print(\"Hello\")"
      ],
      "metadata": {
        "id": "VjnrlhKLYV1Y"
      },
      "execution_count": null,
      "outputs": []
    },
    {
      "cell_type": "code",
      "source": [
        "c1=Car()"
      ],
      "metadata": {
        "colab": {
          "base_uri": "https://localhost:8080/"
        },
        "id": "Imr9syTsZSrH",
        "outputId": "6e93c619-2eec-4766-b4d0-a66e1bd58cd9"
      },
      "execution_count": null,
      "outputs": [
        {
          "output_type": "stream",
          "name": "stdout",
          "text": [
            "Hello\n"
          ]
        }
      ]
    },
    {
      "cell_type": "code",
      "source": [
        "class Car:\n",
        "  model='Sedan'\n",
        "  color='Red'\n",
        "  price=240000\n",
        "\n",
        "  def drive(self):\n",
        "    print(\"Broom Broom\")\n",
        "\n",
        "  def lock(self):\n",
        "    print(\"Car is lock\")\n",
        "\n",
        "  def unlock(self):\n",
        "    print(\"Car is un-lock\")\n",
        "\n",
        "  def __init__(self,a,b,c):\n",
        "    print(self.model)\n",
        "    print(self.color)\n",
        "    print(self.price)\n",
        "    print(a,b,c)"
      ],
      "metadata": {
        "id": "pM-tGNUrZVCn"
      },
      "execution_count": null,
      "outputs": []
    },
    {
      "cell_type": "code",
      "source": [
        "c1=Car(1,2,3)"
      ],
      "metadata": {
        "colab": {
          "base_uri": "https://localhost:8080/"
        },
        "id": "mG1okVk9Zh1R",
        "outputId": "cd2e1c98-e31c-41b0-bf93-4d6ea67d83e9"
      },
      "execution_count": null,
      "outputs": [
        {
          "output_type": "stream",
          "name": "stdout",
          "text": [
            "Sedan\n",
            "Red\n",
            "240000\n",
            "1 2 3\n"
          ]
        }
      ]
    },
    {
      "cell_type": "code",
      "source": [
        "class Car:\n",
        "  def __init__(self):\n",
        "    self.model=\"Sedan\"\n",
        "    self.color=\"Reed\"\n",
        "    self.price=120000"
      ],
      "metadata": {
        "id": "ICa9xpIkZjQr"
      },
      "execution_count": null,
      "outputs": []
    },
    {
      "cell_type": "code",
      "source": [
        "c1=Car()"
      ],
      "metadata": {
        "id": "zQw7B_-AZ99b"
      },
      "execution_count": null,
      "outputs": []
    },
    {
      "cell_type": "code",
      "source": [
        "c1.color"
      ],
      "metadata": {
        "colab": {
          "base_uri": "https://localhost:8080/",
          "height": 36
        },
        "id": "2kqQxP9SZ_hV",
        "outputId": "2a980351-0a5f-4e8b-e2f4-26767f3a4485"
      },
      "execution_count": null,
      "outputs": [
        {
          "output_type": "execute_result",
          "data": {
            "text/plain": [
              "'Reed'"
            ],
            "application/vnd.google.colaboratory.intrinsic+json": {
              "type": "string"
            }
          },
          "metadata": {},
          "execution_count": 29
        }
      ]
    },
    {
      "cell_type": "code",
      "source": [
        "class Car:\n",
        "  def __init__(self,model,color,price):\n",
        "    self.model=model\n",
        "    self.color=color\n",
        "    self.price=price"
      ],
      "metadata": {
        "id": "mPVd98IOaCJ7"
      },
      "execution_count": null,
      "outputs": []
    },
    {
      "cell_type": "code",
      "source": [
        "c1=Car()"
      ],
      "metadata": {
        "colab": {
          "base_uri": "https://localhost:8080/",
          "height": 183
        },
        "id": "RMID1jHraygs",
        "outputId": "2e2f2195-2028-444f-9e78-11a826f6000a"
      },
      "execution_count": null,
      "outputs": [
        {
          "output_type": "error",
          "ename": "TypeError",
          "evalue": "ignored",
          "traceback": [
            "\u001b[0;31m---------------------------------------------------------------------------\u001b[0m",
            "\u001b[0;31mTypeError\u001b[0m                                 Traceback (most recent call last)",
            "\u001b[0;32m<ipython-input-31-c4c1f7adf480>\u001b[0m in \u001b[0;36m<module>\u001b[0;34m()\u001b[0m\n\u001b[0;32m----> 1\u001b[0;31m \u001b[0mc1\u001b[0m\u001b[0;34m=\u001b[0m\u001b[0mCar\u001b[0m\u001b[0;34m(\u001b[0m\u001b[0;34m)\u001b[0m\u001b[0;34m\u001b[0m\u001b[0;34m\u001b[0m\u001b[0m\n\u001b[0m",
            "\u001b[0;31mTypeError\u001b[0m: __init__() missing 3 required positional arguments: 'model', 'color', and 'price'"
          ]
        }
      ]
    },
    {
      "cell_type": "code",
      "source": [
        "c1=Car(\"Sedan\",\"Blue\",120000)"
      ],
      "metadata": {
        "id": "RuVnRUS_a0-_"
      },
      "execution_count": null,
      "outputs": []
    },
    {
      "cell_type": "code",
      "source": [
        "c1.color"
      ],
      "metadata": {
        "colab": {
          "base_uri": "https://localhost:8080/",
          "height": 36
        },
        "id": "BDn9QP5Ya68z",
        "outputId": "20efe226-85ca-493f-b9cb-7cae90982539"
      },
      "execution_count": null,
      "outputs": [
        {
          "output_type": "execute_result",
          "data": {
            "text/plain": [
              "'Blue'"
            ],
            "application/vnd.google.colaboratory.intrinsic+json": {
              "type": "string"
            }
          },
          "metadata": {},
          "execution_count": 33
        }
      ]
    },
    {
      "cell_type": "code",
      "source": [
        "class Car:\n",
        "  def __init__(self,model,color,price=-1):\n",
        "    self.model=model\n",
        "    self.color=color\n",
        "    self.price=price"
      ],
      "metadata": {
        "id": "AdeRBJdca87C"
      },
      "execution_count": null,
      "outputs": []
    },
    {
      "cell_type": "code",
      "source": [
        "c1=Car(\"Sedan\",\"Green\")"
      ],
      "metadata": {
        "id": "Mk_0SGdkbII0"
      },
      "execution_count": null,
      "outputs": []
    },
    {
      "cell_type": "code",
      "source": [
        "c1.price"
      ],
      "metadata": {
        "colab": {
          "base_uri": "https://localhost:8080/"
        },
        "id": "2vnZUxDVbM-t",
        "outputId": "bc6b5185-065b-4bb7-d95b-b881a545707a"
      },
      "execution_count": null,
      "outputs": [
        {
          "output_type": "execute_result",
          "data": {
            "text/plain": [
              "-1"
            ]
          },
          "metadata": {},
          "execution_count": 36
        }
      ]
    },
    {
      "cell_type": "code",
      "source": [
        "class Car:\n",
        "  def __init__(self,model,color,price=-1):\n",
        "    self.model=model\n",
        "    self.color=color\n",
        "    self.price=price\n",
        "    self.fuel=\"CNG\""
      ],
      "metadata": {
        "id": "FkSQXGvAbOhY"
      },
      "execution_count": null,
      "outputs": []
    },
    {
      "cell_type": "code",
      "source": [
        "c1=Car(\"Sedan\",\"Grey\")"
      ],
      "metadata": {
        "id": "DR4k9N3nb_hq"
      },
      "execution_count": null,
      "outputs": []
    },
    {
      "cell_type": "code",
      "source": [
        "c1.fuel"
      ],
      "metadata": {
        "colab": {
          "base_uri": "https://localhost:8080/",
          "height": 36
        },
        "id": "aLXCd6TocEJ7",
        "outputId": "8c75da32-119e-497c-85ba-467d347fcae7"
      },
      "execution_count": null,
      "outputs": [
        {
          "output_type": "execute_result",
          "data": {
            "text/plain": [
              "'CNG'"
            ],
            "application/vnd.google.colaboratory.intrinsic+json": {
              "type": "string"
            }
          },
          "metadata": {},
          "execution_count": 39
        }
      ]
    },
    {
      "cell_type": "code",
      "source": [
        "class Rect:\n",
        "  def __init__(self,h,b):\n",
        "    self.h=h\n",
        "    self.b=b\n",
        "\n",
        "  def area(self):\n",
        "    a=self.h*self.b\n",
        "    return a"
      ],
      "metadata": {
        "id": "vhNToDn6cGxx"
      },
      "execution_count": null,
      "outputs": []
    },
    {
      "cell_type": "code",
      "source": [
        "c1=Rect(10,20)"
      ],
      "metadata": {
        "id": "W_xD58p_cZMc"
      },
      "execution_count": null,
      "outputs": []
    },
    {
      "cell_type": "code",
      "source": [
        "c1.area"
      ],
      "metadata": {
        "colab": {
          "base_uri": "https://localhost:8080/"
        },
        "id": "IunKraDWcc68",
        "outputId": "8da37c9e-3557-4749-ef5d-de63c136f329"
      },
      "execution_count": null,
      "outputs": [
        {
          "output_type": "execute_result",
          "data": {
            "text/plain": [
              "<bound method Rect.area of <__main__.Rect object at 0x7fabe01fdb10>>"
            ]
          },
          "metadata": {},
          "execution_count": 52
        }
      ]
    },
    {
      "cell_type": "code",
      "source": [
        "c1.area()"
      ],
      "metadata": {
        "colab": {
          "base_uri": "https://localhost:8080/"
        },
        "id": "h0FpyU28dZ1X",
        "outputId": "09d4ab15-ff5b-4c21-ea4e-a6077d0154ee"
      },
      "execution_count": null,
      "outputs": [
        {
          "output_type": "execute_result",
          "data": {
            "text/plain": [
              "200"
            ]
          },
          "metadata": {},
          "execution_count": 53
        }
      ]
    },
    {
      "cell_type": "code",
      "source": [
        "((0*3)+(10*4))/(4+5)"
      ],
      "metadata": {
        "colab": {
          "base_uri": "https://localhost:8080/"
        },
        "id": "3xFX_oohdcTz",
        "outputId": "30337bf7-5844-44e4-cadc-086f3617ae8f"
      },
      "execution_count": null,
      "outputs": [
        {
          "output_type": "execute_result",
          "data": {
            "text/plain": [
              "4.444444444444445"
            ]
          },
          "metadata": {},
          "execution_count": 62
        }
      ]
    },
    {
      "cell_type": "code",
      "source": [
        "class Student():\n",
        "    \n",
        "    def __init__(self, marks1,marks2,credits1, credits2):\n",
        "        #YOUR CODE GOES HERE\n",
        "        self.marks1=marks1\n",
        "        self.marks2=marks2\n",
        "        self.credits1=credits1\n",
        "        self.credits2=credits2\n",
        "    \n",
        "    def grade_point_average(self):\n",
        "        gpa=0\n",
        "        if self.marks1>=90:\n",
        "          self.marks1=10\n",
        "        elif self.marks1<90 and self.marks1>=75:\n",
        "          self.marks1=9\n",
        "        elif self.marks1<75 and self.marks1>=60:\n",
        "          self.marks1=8\n",
        "        elif self.marks1<60 and self.marks1>=45:\n",
        "          self.marks1=7\n",
        "        else:\n",
        "          self.marks1=0\n",
        "\n",
        "        if self.marks2>=90:\n",
        "          self.marks2=10\n",
        "        elif self.marks2<90 and self.marks2>=75:\n",
        "          self.marks2=9\n",
        "        elif self.marks2<75 and self.marks2>=60:\n",
        "          self.marks2=8\n",
        "        elif self.marks2<60 and self.marks2>=45:\n",
        "          self.marks2=7\n",
        "        else:\n",
        "          self.marks2=0\n",
        "\n",
        "        if self.credits1!=0 and self.credits2!=0:\n",
        "          gpa=((self.marks1*self.credits1)+(self.marks2*self.credits2))/(self.credits1+self.credits2)\n",
        "          \n",
        "        #YOUR CODE GOES HERE\n",
        "    \n",
        "        return round(gpa,2)"
      ],
      "metadata": {
        "id": "Ss_o5VDDf0I8"
      },
      "execution_count": null,
      "outputs": []
    },
    {
      "cell_type": "code",
      "source": [
        "c1=Student(76,55,0,0)"
      ],
      "metadata": {
        "id": "lXUFs-6tizHw"
      },
      "execution_count": null,
      "outputs": []
    },
    {
      "cell_type": "code",
      "source": [
        "c1.grade_point_average()"
      ],
      "metadata": {
        "colab": {
          "base_uri": "https://localhost:8080/"
        },
        "id": "NYPAWcmIi5pY",
        "outputId": "cd75ef6d-8ff4-4468-8268-a380f44c1274"
      },
      "execution_count": null,
      "outputs": [
        {
          "output_type": "execute_result",
          "data": {
            "text/plain": [
              "0"
            ]
          },
          "metadata": {},
          "execution_count": 123
        }
      ]
    },
    {
      "cell_type": "code",
      "source": [
        "number = 5.555555555555555\n",
        "\n",
        "# round the number\n",
        "rounded_number = round(number,2)\n",
        "print(rounded_number)"
      ],
      "metadata": {
        "colab": {
          "base_uri": "https://localhost:8080/"
        },
        "id": "HKc5__SUi8i7",
        "outputId": "64cb8650-7e11-4559-98e9-3b702628b1f0"
      },
      "execution_count": null,
      "outputs": [
        {
          "output_type": "stream",
          "name": "stdout",
          "text": [
            "5.56\n"
          ]
        }
      ]
    },
    {
      "cell_type": "code",
      "source": [
        "class Car:\n",
        "  pass"
      ],
      "metadata": {
        "id": "PxgMDfm01pyy"
      },
      "execution_count": null,
      "outputs": []
    },
    {
      "cell_type": "code",
      "source": [
        "class Car:\n",
        "  model=\"Sedan\"\n",
        "  color=\"Black\"\n",
        "  price=1200000\n",
        "\n",
        "  def drive(self):\n",
        "    print(\"Zoom Zoom\")\n",
        "\n",
        "  def lock(self):\n",
        "    print(\"Car is lock\")\n",
        "\n",
        "  def unlock(self):\n",
        "    print(\"Car is un-lock\")"
      ],
      "metadata": {
        "id": "43NOxoN7Utgj"
      },
      "execution_count": null,
      "outputs": []
    },
    {
      "cell_type": "code",
      "source": [
        "c1=Car()\n",
        "c2=Car()"
      ],
      "metadata": {
        "id": "KbWkpIKcVd01"
      },
      "execution_count": null,
      "outputs": []
    },
    {
      "cell_type": "code",
      "source": [
        "c1.model"
      ],
      "metadata": {
        "colab": {
          "base_uri": "https://localhost:8080/",
          "height": 36
        },
        "id": "nAdIVUvhWz0T",
        "outputId": "448b8c1f-daba-4395-e537-d010b59d1be0"
      },
      "execution_count": null,
      "outputs": [
        {
          "output_type": "execute_result",
          "data": {
            "text/plain": [
              "'Sedan'"
            ],
            "application/vnd.google.colaboratory.intrinsic+json": {
              "type": "string"
            }
          },
          "metadata": {},
          "execution_count": 5
        }
      ]
    },
    {
      "cell_type": "code",
      "source": [
        "c2.model"
      ],
      "metadata": {
        "colab": {
          "base_uri": "https://localhost:8080/",
          "height": 36
        },
        "id": "9Zda8EzZXAJd",
        "outputId": "c6df11c8-72d6-4b06-e7e7-b93396ace4af"
      },
      "execution_count": null,
      "outputs": [
        {
          "output_type": "execute_result",
          "data": {
            "text/plain": [
              "'Sedan'"
            ],
            "application/vnd.google.colaboratory.intrinsic+json": {
              "type": "string"
            }
          },
          "metadata": {},
          "execution_count": 6
        }
      ]
    },
    {
      "cell_type": "code",
      "source": [
        "c1.color"
      ],
      "metadata": {
        "colab": {
          "base_uri": "https://localhost:8080/",
          "height": 36
        },
        "id": "A1uYEp2eXB3-",
        "outputId": "c3ea6326-0b0c-4b54-9edf-02314e5ad5d4"
      },
      "execution_count": null,
      "outputs": [
        {
          "output_type": "execute_result",
          "data": {
            "text/plain": [
              "'Black'"
            ],
            "application/vnd.google.colaboratory.intrinsic+json": {
              "type": "string"
            }
          },
          "metadata": {},
          "execution_count": 7
        }
      ]
    },
    {
      "cell_type": "code",
      "source": [
        "c2.color"
      ],
      "metadata": {
        "colab": {
          "base_uri": "https://localhost:8080/",
          "height": 36
        },
        "id": "BLd3TVIJXKGm",
        "outputId": "fc472c8b-fae8-4fc1-a0ad-663c5670198b"
      },
      "execution_count": null,
      "outputs": [
        {
          "output_type": "execute_result",
          "data": {
            "text/plain": [
              "'Black'"
            ],
            "application/vnd.google.colaboratory.intrinsic+json": {
              "type": "string"
            }
          },
          "metadata": {},
          "execution_count": 8
        }
      ]
    },
    {
      "cell_type": "code",
      "source": [
        "c2.color=\"Red\""
      ],
      "metadata": {
        "id": "xhl59ci_XLJ5"
      },
      "execution_count": null,
      "outputs": []
    },
    {
      "cell_type": "code",
      "source": [
        "c1.color"
      ],
      "metadata": {
        "colab": {
          "base_uri": "https://localhost:8080/",
          "height": 36
        },
        "id": "SnToao3CXPuu",
        "outputId": "efc96b2b-b157-4578-d439-d89c6f18ee4f"
      },
      "execution_count": null,
      "outputs": [
        {
          "output_type": "execute_result",
          "data": {
            "text/plain": [
              "'Black'"
            ],
            "application/vnd.google.colaboratory.intrinsic+json": {
              "type": "string"
            }
          },
          "metadata": {},
          "execution_count": 10
        }
      ]
    },
    {
      "cell_type": "code",
      "source": [
        "c2.color"
      ],
      "metadata": {
        "colab": {
          "base_uri": "https://localhost:8080/",
          "height": 36
        },
        "id": "b368WFIjXRl1",
        "outputId": "b01af763-3afc-47d7-c8b4-d52e6bd351ad"
      },
      "execution_count": null,
      "outputs": [
        {
          "output_type": "execute_result",
          "data": {
            "text/plain": [
              "'Red'"
            ],
            "application/vnd.google.colaboratory.intrinsic+json": {
              "type": "string"
            }
          },
          "metadata": {},
          "execution_count": 11
        }
      ]
    },
    {
      "cell_type": "code",
      "source": [
        "c2.fuel=\"CNG\""
      ],
      "metadata": {
        "id": "nb6o_ko_XSdl"
      },
      "execution_count": null,
      "outputs": []
    },
    {
      "cell_type": "code",
      "source": [
        "c1.fuel"
      ],
      "metadata": {
        "colab": {
          "base_uri": "https://localhost:8080/",
          "height": 166
        },
        "id": "fhfk3RNyXgsP",
        "outputId": "ad98514c-f750-45da-c712-279b07b1cbef"
      },
      "execution_count": null,
      "outputs": [
        {
          "output_type": "error",
          "ename": "AttributeError",
          "evalue": "ignored",
          "traceback": [
            "\u001b[0;31m---------------------------------------------------------------------------\u001b[0m",
            "\u001b[0;31mAttributeError\u001b[0m                            Traceback (most recent call last)",
            "\u001b[0;32m<ipython-input-13-a27aaf563612>\u001b[0m in \u001b[0;36m<module>\u001b[0;34m()\u001b[0m\n\u001b[0;32m----> 1\u001b[0;31m \u001b[0mc1\u001b[0m\u001b[0;34m.\u001b[0m\u001b[0mfuel\u001b[0m\u001b[0;34m\u001b[0m\u001b[0;34m\u001b[0m\u001b[0m\n\u001b[0m",
            "\u001b[0;31mAttributeError\u001b[0m: 'Car' object has no attribute 'fuel'"
          ]
        }
      ]
    },
    {
      "cell_type": "code",
      "source": [
        "c2.fuel"
      ],
      "metadata": {
        "colab": {
          "base_uri": "https://localhost:8080/",
          "height": 36
        },
        "id": "KdbrFMjGXi7o",
        "outputId": "c7782349-077d-4a79-e76b-5a57218ca323"
      },
      "execution_count": null,
      "outputs": [
        {
          "output_type": "execute_result",
          "data": {
            "text/plain": [
              "'CNG'"
            ],
            "application/vnd.google.colaboratory.intrinsic+json": {
              "type": "string"
            }
          },
          "metadata": {},
          "execution_count": 14
        }
      ]
    },
    {
      "cell_type": "code",
      "source": [
        "c1.drive()"
      ],
      "metadata": {
        "colab": {
          "base_uri": "https://localhost:8080/"
        },
        "id": "oVdZ3DToXk2x",
        "outputId": "1879d5e4-da4f-435a-d30f-b06c334c86da"
      },
      "execution_count": null,
      "outputs": [
        {
          "output_type": "stream",
          "name": "stdout",
          "text": [
            "Zoom Zoom\n"
          ]
        }
      ]
    },
    {
      "cell_type": "code",
      "source": [
        "c2.drive()"
      ],
      "metadata": {
        "colab": {
          "base_uri": "https://localhost:8080/"
        },
        "id": "BZ1muiSQYVHq",
        "outputId": "60029ac8-0516-4474-e4a5-82e45fe06b11"
      },
      "execution_count": null,
      "outputs": [
        {
          "output_type": "stream",
          "name": "stdout",
          "text": [
            "Zoom Zoom\n"
          ]
        }
      ]
    },
    {
      "cell_type": "code",
      "source": [
        "c2.lock()"
      ],
      "metadata": {
        "colab": {
          "base_uri": "https://localhost:8080/"
        },
        "id": "7f-Oz-kuYXdJ",
        "outputId": "5caeaa0e-1cdf-47bd-bce5-0df7dba73e80"
      },
      "execution_count": null,
      "outputs": [
        {
          "output_type": "stream",
          "name": "stdout",
          "text": [
            "Car is lock\n"
          ]
        }
      ]
    },
    {
      "cell_type": "code",
      "source": [
        "c1.lock()"
      ],
      "metadata": {
        "id": "79QI5rUQYclc",
        "outputId": "95926332-a0e7-4a50-97d2-2903f179e60a",
        "colab": {
          "base_uri": "https://localhost:8080/"
        }
      },
      "execution_count": null,
      "outputs": [
        {
          "output_type": "stream",
          "name": "stdout",
          "text": [
            "Car is lock\n"
          ]
        }
      ]
    },
    {
      "cell_type": "code",
      "source": [
        "class Car:\n",
        "  model=\"Jumbo\"\n",
        "  color=\"pink\"\n",
        "  price=2\n",
        "\n",
        "  def drive(self):\n",
        "    print(\"in Drive\")\n",
        "\n",
        "  def lock(self):\n",
        "    print(\"in lock\")"
      ],
      "metadata": {
        "id": "UnCxxVl9YeWW"
      },
      "execution_count": 1,
      "outputs": []
    },
    {
      "cell_type": "code",
      "source": [
        "c1=Car()"
      ],
      "metadata": {
        "id": "h6ETBVjr1bcb"
      },
      "execution_count": 2,
      "outputs": []
    },
    {
      "cell_type": "code",
      "source": [
        "c1.model"
      ],
      "metadata": {
        "colab": {
          "base_uri": "https://localhost:8080/",
          "height": 36
        },
        "id": "XDKFAw4X1eao",
        "outputId": "5fe8a7ba-8463-47f4-e6a4-a249417365c6"
      },
      "execution_count": 3,
      "outputs": [
        {
          "output_type": "execute_result",
          "data": {
            "text/plain": [
              "'Jumbo'"
            ],
            "application/vnd.google.colaboratory.intrinsic+json": {
              "type": "string"
            }
          },
          "metadata": {},
          "execution_count": 3
        }
      ]
    },
    {
      "cell_type": "code",
      "source": [
        "c1.color"
      ],
      "metadata": {
        "colab": {
          "base_uri": "https://localhost:8080/",
          "height": 36
        },
        "id": "e2DPm-CN1gFW",
        "outputId": "5e6858a0-0d01-4bdb-a6e8-f0ff8d2f3217"
      },
      "execution_count": 4,
      "outputs": [
        {
          "output_type": "execute_result",
          "data": {
            "text/plain": [
              "'pink'"
            ],
            "application/vnd.google.colaboratory.intrinsic+json": {
              "type": "string"
            }
          },
          "metadata": {},
          "execution_count": 4
        }
      ]
    },
    {
      "cell_type": "code",
      "source": [
        "c1.price"
      ],
      "metadata": {
        "colab": {
          "base_uri": "https://localhost:8080/"
        },
        "id": "24u4t1Cc1ibn",
        "outputId": "11c63f33-3989-4a1e-8c9c-4365a59199ac"
      },
      "execution_count": 5,
      "outputs": [
        {
          "output_type": "execute_result",
          "data": {
            "text/plain": [
              "2"
            ]
          },
          "metadata": {},
          "execution_count": 5
        }
      ]
    },
    {
      "cell_type": "code",
      "source": [
        "c1.drive()"
      ],
      "metadata": {
        "colab": {
          "base_uri": "https://localhost:8080/"
        },
        "id": "BO589XKl1jUP",
        "outputId": "231a8020-ecc5-474d-b524-1679f66c7bab"
      },
      "execution_count": 6,
      "outputs": [
        {
          "output_type": "stream",
          "name": "stdout",
          "text": [
            "in Drive\n"
          ]
        }
      ]
    },
    {
      "cell_type": "code",
      "source": [
        "c1.lock()"
      ],
      "metadata": {
        "colab": {
          "base_uri": "https://localhost:8080/"
        },
        "id": "OamVN3uG1lEq",
        "outputId": "795a5665-564d-4186-b798-d7117d8c3123"
      },
      "execution_count": 7,
      "outputs": [
        {
          "output_type": "stream",
          "name": "stdout",
          "text": [
            "in lock\n"
          ]
        }
      ]
    },
    {
      "cell_type": "code",
      "source": [
        "class Car:\n",
        "  model=\"Jumbo\"\n",
        "  color=\"pink\"\n",
        "  price=2\n",
        "\n",
        "  def drive():\n",
        "    print(\"in Drive\")\n",
        "\n",
        "  def lock(self):\n",
        "    print(\"in lock\")\n",
        "\n",
        "  def pd(self):\n",
        "    print(self.model)\n",
        "    print(self.color)\n",
        "    print(self.price)"
      ],
      "metadata": {
        "id": "N6KjyZAC2eTp"
      },
      "execution_count": 11,
      "outputs": []
    },
    {
      "cell_type": "code",
      "source": [
        "c1=Car()\n",
        "c1.drive()"
      ],
      "metadata": {
        "colab": {
          "base_uri": "https://localhost:8080/",
          "height": 183
        },
        "id": "C3pAAVK_2gg3",
        "outputId": "204cab07-1490-49b4-f47d-821b635e40b2"
      },
      "execution_count": 12,
      "outputs": [
        {
          "output_type": "error",
          "ename": "TypeError",
          "evalue": "ignored",
          "traceback": [
            "\u001b[0;31m---------------------------------------------------------------------------\u001b[0m",
            "\u001b[0;31mTypeError\u001b[0m                                 Traceback (most recent call last)",
            "\u001b[0;32m<ipython-input-12-019adf784cf3>\u001b[0m in \u001b[0;36m<module>\u001b[0;34m()\u001b[0m\n\u001b[1;32m      1\u001b[0m \u001b[0mc1\u001b[0m\u001b[0;34m=\u001b[0m\u001b[0mCar\u001b[0m\u001b[0;34m(\u001b[0m\u001b[0;34m)\u001b[0m\u001b[0;34m\u001b[0m\u001b[0;34m\u001b[0m\u001b[0m\n\u001b[0;32m----> 2\u001b[0;31m \u001b[0mc1\u001b[0m\u001b[0;34m.\u001b[0m\u001b[0mdrive\u001b[0m\u001b[0;34m(\u001b[0m\u001b[0;34m)\u001b[0m\u001b[0;34m\u001b[0m\u001b[0;34m\u001b[0m\u001b[0m\n\u001b[0m",
            "\u001b[0;31mTypeError\u001b[0m: drive() takes 0 positional arguments but 1 was given"
          ]
        }
      ]
    },
    {
      "cell_type": "code",
      "source": [
        "class Car:\n",
        "  model=\"Jumbo\"\n",
        "  color=\"pink\"\n",
        "  price=2\n",
        "\n",
        "  def drive(self):\n",
        "    print(\"in Drive\")\n",
        "\n",
        "  def lock(self):\n",
        "    print(\"in lock\")\n",
        "\n",
        "  def pd():\n",
        "    print(self.model)\n",
        "    print(self.color)\n",
        "    print(self.price)\n",
        "\n",
        "c1=Car()\n",
        "c1.pd()"
      ],
      "metadata": {
        "colab": {
          "base_uri": "https://localhost:8080/",
          "height": 201
        },
        "id": "VPPRLSK82mqF",
        "outputId": "5a7ddb85-29ca-422d-fa6c-492d6a55f95f"
      },
      "execution_count": 13,
      "outputs": [
        {
          "output_type": "error",
          "ename": "TypeError",
          "evalue": "ignored",
          "traceback": [
            "\u001b[0;31m---------------------------------------------------------------------------\u001b[0m",
            "\u001b[0;31mTypeError\u001b[0m                                 Traceback (most recent call last)",
            "\u001b[0;32m<ipython-input-13-70387a96b51d>\u001b[0m in \u001b[0;36m<module>\u001b[0;34m()\u001b[0m\n\u001b[1;32m     16\u001b[0m \u001b[0;34m\u001b[0m\u001b[0m\n\u001b[1;32m     17\u001b[0m \u001b[0mc1\u001b[0m\u001b[0;34m=\u001b[0m\u001b[0mCar\u001b[0m\u001b[0;34m(\u001b[0m\u001b[0;34m)\u001b[0m\u001b[0;34m\u001b[0m\u001b[0;34m\u001b[0m\u001b[0m\n\u001b[0;32m---> 18\u001b[0;31m \u001b[0mc1\u001b[0m\u001b[0;34m.\u001b[0m\u001b[0mpd\u001b[0m\u001b[0;34m(\u001b[0m\u001b[0;34m)\u001b[0m\u001b[0;34m\u001b[0m\u001b[0;34m\u001b[0m\u001b[0m\n\u001b[0m",
            "\u001b[0;31mTypeError\u001b[0m: pd() takes 0 positional arguments but 1 was given"
          ]
        }
      ]
    },
    {
      "cell_type": "code",
      "source": [
        "class Car:\n",
        "  model=\"Jumbo\"\n",
        "  color=\"pink\"\n",
        "  price=2\n",
        "\n",
        "  def drive(self):\n",
        "    print(\"in Drive\")\n",
        "\n",
        "  def lock(self):\n",
        "    print(\"in lock\")\n",
        "\n",
        "  def pd(self):\n",
        "    print(self.model)\n",
        "    print(self.color)\n",
        "    print(self.price)"
      ],
      "metadata": {
        "id": "SheX-VnT1nWc"
      },
      "execution_count": 8,
      "outputs": []
    },
    {
      "cell_type": "code",
      "source": [
        "c1=Car()"
      ],
      "metadata": {
        "id": "yChwT7BW2TnD"
      },
      "execution_count": 9,
      "outputs": []
    },
    {
      "cell_type": "code",
      "source": [
        "c1.pd()"
      ],
      "metadata": {
        "colab": {
          "base_uri": "https://localhost:8080/"
        },
        "id": "rg4nk4D72VDE",
        "outputId": "40ce3a2c-8f01-4e3b-e6ba-1078fbb21c95"
      },
      "execution_count": 10,
      "outputs": [
        {
          "output_type": "stream",
          "name": "stdout",
          "text": [
            "Jumbo\n",
            "pink\n",
            "2\n"
          ]
        }
      ]
    },
    {
      "cell_type": "code",
      "source": [
        "class Car:\n",
        "  model=\"Jumbo\"\n",
        "  color=\"pink\"\n",
        "  price=2\n",
        "\n",
        "  def drive(self):\n",
        "    print(\"in Drive\")\n",
        "\n",
        "  def lock(self):\n",
        "    print(\"in lock\")\n",
        "\n",
        "  def pd(self,a,b,c):\n",
        "    print(self.model)\n",
        "    print(self.color)\n",
        "    print(self.price)\n",
        "    print(a,b,c)\n",
        "\n",
        "c1=Car()\n",
        "c1.pd()"
      ],
      "metadata": {
        "colab": {
          "base_uri": "https://localhost:8080/",
          "height": 201
        },
        "id": "XpP86XIN2Wmd",
        "outputId": "392ec557-0a3c-484b-d8bd-d6af21b33177"
      },
      "execution_count": 15,
      "outputs": [
        {
          "output_type": "error",
          "ename": "TypeError",
          "evalue": "ignored",
          "traceback": [
            "\u001b[0;31m---------------------------------------------------------------------------\u001b[0m",
            "\u001b[0;31mTypeError\u001b[0m                                 Traceback (most recent call last)",
            "\u001b[0;32m<ipython-input-15-14044e70f430>\u001b[0m in \u001b[0;36m<module>\u001b[0;34m()\u001b[0m\n\u001b[1;32m     17\u001b[0m \u001b[0;34m\u001b[0m\u001b[0m\n\u001b[1;32m     18\u001b[0m \u001b[0mc1\u001b[0m\u001b[0;34m=\u001b[0m\u001b[0mCar\u001b[0m\u001b[0;34m(\u001b[0m\u001b[0;34m)\u001b[0m\u001b[0;34m\u001b[0m\u001b[0;34m\u001b[0m\u001b[0m\n\u001b[0;32m---> 19\u001b[0;31m \u001b[0mc1\u001b[0m\u001b[0;34m.\u001b[0m\u001b[0mpd\u001b[0m\u001b[0;34m(\u001b[0m\u001b[0;34m)\u001b[0m\u001b[0;34m\u001b[0m\u001b[0;34m\u001b[0m\u001b[0m\n\u001b[0m",
            "\u001b[0;31mTypeError\u001b[0m: pd() missing 3 required positional arguments: 'a', 'b', and 'c'"
          ]
        }
      ]
    },
    {
      "cell_type": "code",
      "source": [
        "class Car:\n",
        "  model=\"Jumbo\"\n",
        "  color=\"pink\"\n",
        "  price=2\n",
        "\n",
        "  def drive(self):\n",
        "    print(\"in Drive\")\n",
        "\n",
        "  def lock(self):\n",
        "    print(\"in lock\")\n",
        "\n",
        "  def pd(self,a,b,c):\n",
        "    print(self.model)\n",
        "    print(self.color)\n",
        "    print(self.price)\n",
        "    print(a,b,c)\n",
        "\n",
        "c1=Car()\n",
        "c1.pd(11,22,33)"
      ],
      "metadata": {
        "colab": {
          "base_uri": "https://localhost:8080/"
        },
        "id": "_uloY9B55YjO",
        "outputId": "6cc7229b-2601-4f4a-b19f-4aabdbca2b20"
      },
      "execution_count": 25,
      "outputs": [
        {
          "output_type": "stream",
          "name": "stdout",
          "text": [
            "Jumbo\n",
            "pink\n",
            "2\n",
            "11 22 33\n"
          ]
        }
      ]
    },
    {
      "cell_type": "code",
      "source": [
        "Car.model"
      ],
      "metadata": {
        "colab": {
          "base_uri": "https://localhost:8080/",
          "height": 36
        },
        "id": "Y87J7sFT6rhb",
        "outputId": "96a1ebe1-5e51-4d6d-cb4c-49275e5f047d"
      },
      "execution_count": 26,
      "outputs": [
        {
          "output_type": "execute_result",
          "data": {
            "text/plain": [
              "'Jumbo'"
            ],
            "application/vnd.google.colaboratory.intrinsic+json": {
              "type": "string"
            }
          },
          "metadata": {},
          "execution_count": 26
        }
      ]
    },
    {
      "cell_type": "code",
      "source": [
        "class Car:\n",
        "  def __init__(self):\n",
        "    print(\"Kool\")\n",
        "\n",
        "c1=Car()"
      ],
      "metadata": {
        "colab": {
          "base_uri": "https://localhost:8080/"
        },
        "id": "h_yao64r5gBX",
        "outputId": "fdd2e99c-5fae-4ca6-f612-19568bb14a3b"
      },
      "execution_count": 18,
      "outputs": [
        {
          "output_type": "stream",
          "name": "stdout",
          "text": [
            "Kool\n"
          ]
        }
      ]
    },
    {
      "cell_type": "code",
      "source": [
        "class Car:\n",
        "  def __init__(self):\n",
        "    self.model=\"Jumbo\"\n",
        "    self.color=\"pink\"\n",
        "    self.price=2\n",
        "\n",
        "c1=Car()"
      ],
      "metadata": {
        "id": "MUY3Cf5Y5-P-"
      },
      "execution_count": 27,
      "outputs": []
    },
    {
      "cell_type": "code",
      "source": [
        "c1.model"
      ],
      "metadata": {
        "colab": {
          "base_uri": "https://localhost:8080/",
          "height": 36
        },
        "id": "QnPuyCST6ZaE",
        "outputId": "49c22e11-21b5-4dda-81b7-9f400df6b328"
      },
      "execution_count": 28,
      "outputs": [
        {
          "output_type": "execute_result",
          "data": {
            "text/plain": [
              "'Jumbo'"
            ],
            "application/vnd.google.colaboratory.intrinsic+json": {
              "type": "string"
            }
          },
          "metadata": {},
          "execution_count": 28
        }
      ]
    },
    {
      "cell_type": "code",
      "source": [
        "Car.model"
      ],
      "metadata": {
        "colab": {
          "base_uri": "https://localhost:8080/",
          "height": 166
        },
        "id": "m_kmUjsZ6esC",
        "outputId": "f99cd287-72e9-4a7e-cfe0-cc716ebf4b37"
      },
      "execution_count": 29,
      "outputs": [
        {
          "output_type": "error",
          "ename": "AttributeError",
          "evalue": "ignored",
          "traceback": [
            "\u001b[0;31m---------------------------------------------------------------------------\u001b[0m",
            "\u001b[0;31mAttributeError\u001b[0m                            Traceback (most recent call last)",
            "\u001b[0;32m<ipython-input-29-5bf86859be22>\u001b[0m in \u001b[0;36m<module>\u001b[0;34m()\u001b[0m\n\u001b[0;32m----> 1\u001b[0;31m \u001b[0mCar\u001b[0m\u001b[0;34m.\u001b[0m\u001b[0mmodel\u001b[0m\u001b[0;34m\u001b[0m\u001b[0;34m\u001b[0m\u001b[0m\n\u001b[0m",
            "\u001b[0;31mAttributeError\u001b[0m: type object 'Car' has no attribute 'model'"
          ]
        }
      ]
    },
    {
      "cell_type": "code",
      "source": [
        "class Car:\n",
        "  def __init__(self,model,color,price):\n",
        "    self.model=model\n",
        "    self.color=color\n",
        "    self.price=price\n",
        "\n",
        "c1=Car()"
      ],
      "metadata": {
        "colab": {
          "base_uri": "https://localhost:8080/",
          "height": 218
        },
        "id": "lOTosNCE6o9z",
        "outputId": "f7318e05-aacb-4110-c02c-3ca99f91cff1"
      },
      "execution_count": 30,
      "outputs": [
        {
          "output_type": "error",
          "ename": "TypeError",
          "evalue": "ignored",
          "traceback": [
            "\u001b[0;31m---------------------------------------------------------------------------\u001b[0m",
            "\u001b[0;31mTypeError\u001b[0m                                 Traceback (most recent call last)",
            "\u001b[0;32m<ipython-input-30-ad09e8f524d7>\u001b[0m in \u001b[0;36m<module>\u001b[0;34m()\u001b[0m\n\u001b[1;32m      5\u001b[0m     \u001b[0mself\u001b[0m\u001b[0;34m.\u001b[0m\u001b[0mprice\u001b[0m\u001b[0;34m=\u001b[0m\u001b[0mprice\u001b[0m\u001b[0;34m\u001b[0m\u001b[0;34m\u001b[0m\u001b[0m\n\u001b[1;32m      6\u001b[0m \u001b[0;34m\u001b[0m\u001b[0m\n\u001b[0;32m----> 7\u001b[0;31m \u001b[0mc1\u001b[0m\u001b[0;34m=\u001b[0m\u001b[0mCar\u001b[0m\u001b[0;34m(\u001b[0m\u001b[0;34m)\u001b[0m\u001b[0;34m\u001b[0m\u001b[0;34m\u001b[0m\u001b[0m\n\u001b[0m",
            "\u001b[0;31mTypeError\u001b[0m: __init__() missing 3 required positional arguments: 'model', 'color', and 'price'"
          ]
        }
      ]
    },
    {
      "cell_type": "code",
      "source": [
        "class Car:\n",
        "  def __init__(self,model,color,price):\n",
        "    self.model=model\n",
        "    self.color=color\n",
        "    self.price=price\n",
        "\n",
        "c1=Car(\"Kukabora\",\"blue\",13)\n",
        "print(c1.model)\n",
        "print(c1.color)\n",
        "print(c1.price)"
      ],
      "metadata": {
        "colab": {
          "base_uri": "https://localhost:8080/"
        },
        "id": "dU34vjUX7UyR",
        "outputId": "6192ef3e-05a1-4d69-ac26-94d2a9202734"
      },
      "execution_count": 33,
      "outputs": [
        {
          "output_type": "stream",
          "name": "stdout",
          "text": [
            "Kukabora\n",
            "blue\n",
            "13\n"
          ]
        }
      ]
    },
    {
      "cell_type": "code",
      "source": [
        "class Rect:\n",
        "  def __init__(self,h,b):\n",
        "    self.h=h\n",
        "    self.b=b\n",
        "\n",
        "  def area(self):\n",
        "    return self.h*self.b\n",
        "\n",
        "r1=Rect(11,2)\n",
        "r1.area()"
      ],
      "metadata": {
        "colab": {
          "base_uri": "https://localhost:8080/"
        },
        "id": "r7ngZyq97bzp",
        "outputId": "1b40021c-c4b3-4360-f1d2-2f55fcb38988"
      },
      "execution_count": 35,
      "outputs": [
        {
          "output_type": "execute_result",
          "data": {
            "text/plain": [
              "22"
            ]
          },
          "metadata": {},
          "execution_count": 35
        }
      ]
    },
    {
      "cell_type": "code",
      "source": [
        "class Car:\n",
        "  def __init__(self,name,model,price):\n",
        "    self.name=name\n",
        "    self.model=model\n",
        "    self.price=price\n",
        "\n",
        "  def show_n_p(self):\n",
        "    print(\"Name: \",self.name,\"Price: \",self.price)\n",
        "\n",
        "  def show_n_m(self):\n",
        "    print(\"Name: \",self.name,\"Model: \",self.model)\n",
        "\n",
        "c1=Car(\"BMW\",\"Sedan\",13)\n",
        "c1.show_n_p()"
      ],
      "metadata": {
        "colab": {
          "base_uri": "https://localhost:8080/"
        },
        "id": "38yc6bRkCmJA",
        "outputId": "2b388f38-d98e-471a-a267-ae9fc68602d9"
      },
      "execution_count": 4,
      "outputs": [
        {
          "output_type": "stream",
          "name": "stdout",
          "text": [
            "Name:  BMW Price:  13\n"
          ]
        }
      ]
    },
    {
      "cell_type": "code",
      "source": [
        "c1.price"
      ],
      "metadata": {
        "colab": {
          "base_uri": "https://localhost:8080/"
        },
        "id": "HA1Yl1Npvuxk",
        "outputId": "cbe77432-7463-43f3-b944-a6f0ec8c7d31"
      },
      "execution_count": 5,
      "outputs": [
        {
          "output_type": "execute_result",
          "data": {
            "text/plain": [
              "13"
            ]
          },
          "metadata": {},
          "execution_count": 5
        }
      ]
    },
    {
      "cell_type": "code",
      "source": [
        "class Car:\n",
        "  def __init__(self,name,model,price):\n",
        "    self.name=name\n",
        "    self.model=model\n",
        "    self.__price=price\n",
        "\n",
        "  def show_n_p(self):\n",
        "    print(\"Name: \",self.name,\"Price: \",self.__price)\n",
        "\n",
        "  def show_n_m(self):\n",
        "    print(\"Name: \",self.name,\"Model: \",self.model)\n",
        "\n",
        "c1=Car(\"BMW\",\"Sedan\",13)\n",
        "# c1.show_n_p()"
      ],
      "metadata": {
        "id": "c1TSH3mHwHHE"
      },
      "execution_count": 10,
      "outputs": []
    },
    {
      "cell_type": "code",
      "source": [
        "c1.__price"
      ],
      "metadata": {
        "colab": {
          "base_uri": "https://localhost:8080/",
          "height": 166
        },
        "id": "2F7YTtOdwOaE",
        "outputId": "1ebac749-c99a-4de1-d00a-f3e3ecfd71e8"
      },
      "execution_count": 11,
      "outputs": [
        {
          "output_type": "error",
          "ename": "AttributeError",
          "evalue": "ignored",
          "traceback": [
            "\u001b[0;31m---------------------------------------------------------------------------\u001b[0m",
            "\u001b[0;31mAttributeError\u001b[0m                            Traceback (most recent call last)",
            "\u001b[0;32m<ipython-input-11-6e588ad6941e>\u001b[0m in \u001b[0;36m<module>\u001b[0;34m()\u001b[0m\n\u001b[0;32m----> 1\u001b[0;31m \u001b[0mc1\u001b[0m\u001b[0;34m.\u001b[0m\u001b[0m__price\u001b[0m\u001b[0;34m\u001b[0m\u001b[0;34m\u001b[0m\u001b[0m\n\u001b[0m",
            "\u001b[0;31mAttributeError\u001b[0m: 'Car' object has no attribute '__price'"
          ]
        }
      ]
    },
    {
      "cell_type": "code",
      "source": [
        "c1.show_n_p()"
      ],
      "metadata": {
        "colab": {
          "base_uri": "https://localhost:8080/"
        },
        "id": "84dWt9pKwXdb",
        "outputId": "e0aa685b-b455-4724-ed1f-5aa6de30f4ee"
      },
      "execution_count": 12,
      "outputs": [
        {
          "output_type": "stream",
          "name": "stdout",
          "text": [
            "Name:  BMW Price:  13\n"
          ]
        }
      ]
    },
    {
      "cell_type": "code",
      "source": [
        "c1.__price=14"
      ],
      "metadata": {
        "id": "o8xjp64pwkBt"
      },
      "execution_count": 13,
      "outputs": []
    },
    {
      "cell_type": "code",
      "source": [
        "c1.show_n_p()"
      ],
      "metadata": {
        "colab": {
          "base_uri": "https://localhost:8080/"
        },
        "id": "qP-1Y_RAwpq-",
        "outputId": "e5c375e2-3a1c-41c5-fe2c-d377cf1f2990"
      },
      "execution_count": 14,
      "outputs": [
        {
          "output_type": "stream",
          "name": "stdout",
          "text": [
            "Name:  BMW Price:  13\n"
          ]
        }
      ]
    },
    {
      "cell_type": "code",
      "source": [
        "c1.price=14"
      ],
      "metadata": {
        "id": "AhdxWGMvwsda"
      },
      "execution_count": 15,
      "outputs": []
    },
    {
      "cell_type": "code",
      "source": [
        "c1.price"
      ],
      "metadata": {
        "colab": {
          "base_uri": "https://localhost:8080/"
        },
        "id": "IVQrlHzZw0dn",
        "outputId": "e092abb9-3bcd-44b8-a57a-4f4d562c8753"
      },
      "execution_count": 16,
      "outputs": [
        {
          "output_type": "execute_result",
          "data": {
            "text/plain": [
              "14"
            ]
          },
          "metadata": {},
          "execution_count": 16
        }
      ]
    },
    {
      "cell_type": "code",
      "source": [
        "c1.show_n_p()"
      ],
      "metadata": {
        "colab": {
          "base_uri": "https://localhost:8080/"
        },
        "id": "OjaKMSBWw4XJ",
        "outputId": "5efcb96b-f0f6-4c7a-9103-cd23f9b2e1a9"
      },
      "execution_count": 17,
      "outputs": [
        {
          "output_type": "stream",
          "name": "stdout",
          "text": [
            "Name:  BMW Price:  13\n"
          ]
        }
      ]
    },
    {
      "cell_type": "code",
      "source": [
        "c1.__price"
      ],
      "metadata": {
        "colab": {
          "base_uri": "https://localhost:8080/"
        },
        "id": "GqEYeewxw9BK",
        "outputId": "2ce1e7db-34a1-4394-8dfe-6deee82411a1"
      },
      "execution_count": 18,
      "outputs": [
        {
          "output_type": "execute_result",
          "data": {
            "text/plain": [
              "14"
            ]
          },
          "metadata": {},
          "execution_count": 18
        }
      ]
    },
    {
      "cell_type": "code",
      "source": [
        ""
      ],
      "metadata": {
        "id": "NR6Qb04sxADK"
      },
      "execution_count": null,
      "outputs": []
    }
  ]
}