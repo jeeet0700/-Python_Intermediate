{
  "nbformat": 4,
  "nbformat_minor": 0,
  "metadata": {
    "colab": {
      "name": "W10D25_Time_Complexity.ipynb",
      "provenance": [],
      "authorship_tag": "ABX9TyM4k57yQ/DI2FwpZZRPGxct",
      "include_colab_link": true
    },
    "kernelspec": {
      "name": "python3",
      "display_name": "Python 3"
    },
    "language_info": {
      "name": "python"
    }
  },
  "cells": [
    {
      "cell_type": "markdown",
      "metadata": {
        "id": "view-in-github",
        "colab_type": "text"
      },
      "source": [
        "<a href=\"https://colab.research.google.com/github/jeeet0700/Python_Intermediate/blob/main/W10D25_Time_Complexity.ipynb\" target=\"_parent\"><img src=\"https://colab.research.google.com/assets/colab-badge.svg\" alt=\"Open In Colab\"/></a>"
      ]
    },
    {
      "cell_type": "code",
      "execution_count": 1,
      "metadata": {
        "colab": {
          "base_uri": "https://localhost:8080/"
        },
        "id": "PGfS7s9odZiP",
        "outputId": "383e30b5-d05b-4551-aa22-a206e9614ed5"
      },
      "outputs": [
        {
          "output_type": "stream",
          "name": "stdout",
          "text": [
            "0.00015807151794433594\n",
            "1655978844.5663805\n",
            "1655978844.5665386\n"
          ]
        }
      ],
      "source": [
        "import time\n",
        "start = time.time()\n",
        "for i in range(1000):\n",
        "  z=5*i\n",
        "end = time.time()\n",
        "print(end-start)\n",
        "print(start)\n",
        "print(end)"
      ]
    },
    {
      "cell_type": "code",
      "source": [
        "%%time\n",
        "for i in range(1000):\n",
        "  z=5*i"
      ],
      "metadata": {
        "colab": {
          "base_uri": "https://localhost:8080/"
        },
        "id": "tFZWUY2Kd0B2",
        "outputId": "b0e48a86-73dd-4910-b91e-85044d1f08f7"
      },
      "execution_count": null,
      "outputs": [
        {
          "output_type": "stream",
          "name": "stdout",
          "text": [
            "CPU times: user 149 µs, sys: 0 ns, total: 149 µs\n",
            "Wall time: 155 µs\n"
          ]
        }
      ]
    },
    {
      "cell_type": "code",
      "source": [
        "x=1234\n",
        "len(x)"
      ],
      "metadata": {
        "id": "f2c99iMkuIzP",
        "colab": {
          "base_uri": "https://localhost:8080/",
          "height": 184
        },
        "outputId": "29d6893f-da3a-4529-8d06-23a54042078f"
      },
      "execution_count": 2,
      "outputs": [
        {
          "output_type": "error",
          "ename": "TypeError",
          "evalue": "ignored",
          "traceback": [
            "\u001b[0;31m---------------------------------------------------------------------------\u001b[0m",
            "\u001b[0;31mTypeError\u001b[0m                                 Traceback (most recent call last)",
            "\u001b[0;32m<ipython-input-2-8c9152765bb1>\u001b[0m in \u001b[0;36m<module>\u001b[0;34m()\u001b[0m\n\u001b[1;32m      1\u001b[0m \u001b[0mx\u001b[0m\u001b[0;34m=\u001b[0m\u001b[0;36m1234\u001b[0m\u001b[0;34m\u001b[0m\u001b[0;34m\u001b[0m\u001b[0m\n\u001b[0;32m----> 2\u001b[0;31m \u001b[0mlen\u001b[0m\u001b[0;34m(\u001b[0m\u001b[0mx\u001b[0m\u001b[0;34m)\u001b[0m\u001b[0;34m\u001b[0m\u001b[0;34m\u001b[0m\u001b[0m\n\u001b[0m",
            "\u001b[0;31mTypeError\u001b[0m: object of type 'int' has no len()"
          ]
        }
      ]
    },
    {
      "cell_type": "code",
      "source": [
        ""
      ],
      "metadata": {
        "id": "zqxUv1IgHj2k"
      },
      "execution_count": null,
      "outputs": []
    }
  ]
}